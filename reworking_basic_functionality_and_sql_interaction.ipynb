{
 "cells": [
  {
   "cell_type": "code",
   "execution_count": 3,
   "id": "initial_id",
   "metadata": {
    "collapsed": true,
    "ExecuteTime": {
     "end_time": "2023-08-01T20:05:18.704953600Z",
     "start_time": "2023-08-01T20:05:18.421375100Z"
    }
   },
   "outputs": [
    {
     "name": "stdout",
     "output_type": "stream",
     "text": [
      "<class 'space_traders_api_client.types.Response'>\n",
      "<class 'space_traders_api_client.models.get_my_ships_response_200.GetMyShipsResponse200'>\n",
      "Headers({'x-powered-by': 'Express', 'access-control-allow-origin': '*', 'access-control-expose-headers': 'Retry-After, X-RateLimit-Type, X-RateLimit-Limit-Burst, X-RateLimit-Limit-Per-Second, X-RateLimit-Remaining, X-RateLimit-Reset', 'retry-after': '1', 'x-ratelimit-type': 'IP Address', 'x-ratelimit-limit-burst': '10', 'x-ratelimit-limit-per-second': '2', 'x-ratelimit-remaining': '1', 'x-ratelimit-reset': '2023-08-01T20:05:19.475Z', 'content-type': 'application/json; charset=utf-8', 'etag': 'W/\"14f3-tWke87RgIr2smNBUFuxcyOTgb/Q\"', 'x-cloud-trace-context': 'e20476d416456854c2a8415bca2caa0e', 'date': 'Tue, 01 Aug 2023 20:05:18 GMT', 'server': 'Google Frontend', 'content-length': '5363', 'via': '1.1 google, 1.1 google', 'alt-svc': 'h3=\":443\"; ma=2592000,h3-29=\":443\"; ma=2592000'})\n",
      "b'{\"data\":[{\"symbol\":\"JUMBO-1\",\"nav\":{\"systemSymbol\":\"X1-NU72\",\"waypointSymbol\":\"X1-NU72-83580E\",\"route\":{\"departure\":{\"symbol\":\"X1-NU72-83580E\",\"type\":\"PLANET\",\"systemSymbol\":\"X1-NU72\",\"x\":2,\"y\":24},\"destination\":{\"symbol\":\"X1-NU72-83580E\",\"type\":\"PLANET\",\"systemSymbol\":\"X1-NU72\",\"x\":2,\"y\":24},\"arrival\":\"2023-07-31T13:04:33.613Z\",\"departureTime\":\"2023-07-31T13:04:33.613Z\"},\"status\":\"DOCKED\",\"flightMode\":\"CRUISE\"},\"crew\":{\"current\":59,\"capacity\":80,\"required\":59,\"rotation\":\"STRICT\",\"morale\":100,\"wages\":0},\"fuel\":{\"current\":1200,\"capacity\":1200,\"consumed\":{\"amount\":0,\"timestamp\":\"2023-07-31T13:04:33.613Z\"}},\"frame\":{\"symbol\":\"FRAME_FRIGATE\",\"name\":\"Frame Frigate\",\"description\":\"A medium-sized, multi-purpose spacecraft, often used for combat, transport, or support operations.\",\"moduleSlots\":8,\"mountingPoints\":5,\"fuelCapacity\":1200,\"condition\":100,\"requirements\":{\"power\":8,\"crew\":25}},\"reactor\":{\"symbol\":\"REACTOR_FISSION_I\",\"name\":\"Fission Reactor I\",\"description\":\"A basic fission power reactor, used to generate electricity from nuclear fission reactions.\",\"condition\":100,\"powerOutput\":31,\"requirements\":{\"crew\":8}},\"engine\":{\"symbol\":\"ENGINE_ION_DRIVE_II\",\"name\":\"Ion Drive II\",\"description\":\"An advanced propulsion system that uses ionized particles to generate high-speed, low-thrust acceleration, with improved efficiency and performance.\",\"condition\":100,\"speed\":30,\"requirements\":{\"power\":6,\"crew\":8}},\"modules\":[{\"symbol\":\"MODULE_CARGO_HOLD_I\",\"name\":\"Cargo Hold\",\"description\":\"A module that increases a ship\\'s cargo capacity.\",\"capacity\":30,\"requirements\":{\"crew\":0,\"power\":1,\"slots\":1}},{\"symbol\":\"MODULE_CARGO_HOLD_I\",\"name\":\"Cargo Hold\",\"description\":\"A module that increases a ship\\'s cargo capacity.\",\"capacity\":30,\"requirements\":{\"crew\":0,\"power\":1,\"slots\":1}},{\"symbol\":\"MODULE_CREW_QUARTERS_I\",\"name\":\"Crew Quarters\",\"description\":\"A module that provides living space and amenities for the crew.\",\"capacity\":40,\"requirements\":{\"crew\":2,\"power\":1,\"slots\":1}},{\"symbol\":\"MODULE_CREW_QUARTERS_I\",\"name\":\"Crew Quarters\",\"description\":\"A module that provides living space and amenities for the crew.\",\"capacity\":40,\"requirements\":{\"crew\":2,\"power\":1,\"slots\":1}},{\"symbol\":\"MODULE_MINERAL_PROCESSOR_I\",\"name\":\"Mineral Processor\",\"description\":\"Crushes and processes extracted minerals and ores into their component parts, filters out impurities, and containerizes them into raw storage units.\",\"requirements\":{\"crew\":0,\"power\":1,\"slots\":2}},{\"symbol\":\"MODULE_JUMP_DRIVE_I\",\"name\":\"Jump Drive I\",\"description\":\"A basic antimatter jump drive that allows for instantaneous short-range interdimensional travel.\",\"range\":500,\"requirements\":{\"crew\":10,\"power\":4,\"slots\":1}},{\"symbol\":\"MODULE_WARP_DRIVE_I\",\"name\":\"Warp Drive I\",\"description\":\"A basic warp drive that allows for short-range interstellar travel.\",\"range\":2000,\"requirements\":{\"crew\":2,\"power\":3,\"slots\":1}}],\"mounts\":[{\"symbol\":\"MOUNT_SENSOR_ARRAY_I\",\"name\":\"Sensor Array I\",\"description\":\"A basic sensor array that improves a ship\\'s ability to detect and track other objects in space.\",\"strength\":1,\"requirements\":{\"crew\":0,\"power\":1}},{\"symbol\":\"MOUNT_MINING_LASER_I\",\"name\":\"Mining Laser I\",\"description\":\"A basic mining laser that can be used to extract valuable minerals from asteroids and other space objects.\",\"strength\":10,\"requirements\":{\"crew\":0,\"power\":1}},{\"symbol\":\"MOUNT_SURVEYOR_I\",\"name\":\"Surveyor I\",\"description\":\"A basic survey probe that can be used to gather information about a mineral deposit.\",\"strength\":1,\"deposits\":[\"QUARTZ_SAND\",\"SILICON_CRYSTALS\",\"PRECIOUS_STONES\",\"ICE_WATER\",\"AMMONIA_ICE\",\"IRON_ORE\",\"COPPER_ORE\",\"SILVER_ORE\",\"ALUMINUM_ORE\",\"GOLD_ORE\",\"PLATINUM_ORE\"],\"requirements\":{\"crew\":2,\"power\":1}}],\"registration\":{\"name\":\"JUMBO-1\",\"factionSymbol\":\"VOID\",\"role\":\"COMMAND\"},\"cargo\":{\"capacity\":60,\"units\":0,\"inventory\":[]}},{\"symbol\":\"JUMBO-2\",\"nav\":{\"systemSymbol\":\"X1-NU72\",\"waypointSymbol\":\"X1-NU72-03327E\",\"route\":{\"departure\":{\"symbol\":\"X1-NU72-03327E\",\"type\":\"ORBITAL_STATION\",\"systemSymbol\":\"X1-NU72\",\"x\":-55,\"y\":12},\"destination\":{\"symbol\":\"X1-NU72-03327E\",\"type\":\"ORBITAL_STATION\",\"systemSymbol\":\"X1-NU72\",\"x\":-55,\"y\":12},\"arrival\":\"2023-07-31T13:04:34.417Z\",\"departureTime\":\"2023-07-31T13:04:34.417Z\"},\"status\":\"DOCKED\",\"flightMode\":\"CRUISE\"},\"crew\":{\"current\":0,\"capacity\":0,\"required\":0,\"rotation\":\"STRICT\",\"morale\":100,\"wages\":0},\"fuel\":{\"current\":0,\"capacity\":0,\"consumed\":{\"amount\":0,\"timestamp\":\"2023-07-31T13:04:34.417Z\"}},\"frame\":{\"symbol\":\"FRAME_PROBE\",\"name\":\"Frame Probe\",\"description\":\"A small, unmanned spacecraft used for exploration, reconnaissance, and scientific research.\",\"moduleSlots\":0,\"mountingPoints\":0,\"fuelCapacity\":0,\"condition\":100,\"requirements\":{\"power\":1,\"crew\":0}},\"reactor\":{\"symbol\":\"REACTOR_SOLAR_I\",\"name\":\"Solar Reactor I\",\"description\":\"A basic solar power reactor, used to generate electricity from solar energy.\",\"condition\":100,\"powerOutput\":3,\"requirements\":{\"crew\":0}},\"engine\":{\"symbol\":\"ENGINE_IMPULSE_DRIVE_I\",\"name\":\"Impulse Drive I\",\"description\":\"A basic low-energy propulsion system that generates thrust for interplanetary travel.\",\"condition\":100,\"speed\":2,\"requirements\":{\"power\":1,\"crew\":0}},\"modules\":[],\"mounts\":[],\"registration\":{\"name\":\"JUMBO-2\",\"factionSymbol\":\"VOID\",\"role\":\"SATELLITE\"},\"cargo\":{\"capacity\":0,\"units\":0,\"inventory\":[]}}],\"meta\":{\"total\":2,\"page\":1,\"limit\":10}}'\n",
      "\n",
      " GetMyShipsResponse200(data=[Ship(symbol='JUMBO-1', registration=ShipRegistration(name='JUMBO-1', faction_symbol='VOID', role=<ShipRole.COMMAND: 'COMMAND'>, additional_properties={}), nav=ShipNav(system_symbol='X1-NU72', waypoint_symbol='X1-NU72-83580E', route=ShipNavRoute(destination=ShipNavRouteWaypoint(symbol='X1-NU72-83580E', type=<WaypointType.PLANET: 'PLANET'>, system_symbol='X1-NU72', x=2, y=24, additional_properties={}), departure=ShipNavRouteWaypoint(symbol='X1-NU72-83580E', type=<WaypointType.PLANET: 'PLANET'>, system_symbol='X1-NU72', x=2, y=24, additional_properties={}), departure_time=datetime.datetime(2023, 7, 31, 13, 4, 33, 613000, tzinfo=tzutc()), arrival=datetime.datetime(2023, 7, 31, 13, 4, 33, 613000, tzinfo=tzutc()), additional_properties={}), status=<ShipNavStatus.DOCKED: 'DOCKED'>, flight_mode=<ShipNavFlightMode.CRUISE: 'CRUISE'>, additional_properties={}), crew=ShipCrew(current=59, required=59, capacity=80, morale=100, wages=0, rotation=<ShipCrewRotation.STRICT: 'STRICT'>, additional_properties={}), frame=ShipFrame(symbol=<ShipFrameSymbol.FRAME_FRIGATE: 'FRAME_FRIGATE'>, name='Frame Frigate', description='A medium-sized, multi-purpose spacecraft, often used for combat, transport, or support operations.', module_slots=8, mounting_points=5, fuel_capacity=1200, requirements=ShipRequirements(power=8, crew=25, slots=<space_traders_api_client.types.Unset object at 0x0000025896B53BD0>, additional_properties={}), condition=100, additional_properties={}), reactor=ShipReactor(symbol=<ShipReactorSymbol.REACTOR_FISSION_I: 'REACTOR_FISSION_I'>, name='Fission Reactor I', description='A basic fission power reactor, used to generate electricity from nuclear fission reactions.', power_output=31, requirements=ShipRequirements(power=<space_traders_api_client.types.Unset object at 0x0000025896B53BD0>, crew=8, slots=<space_traders_api_client.types.Unset object at 0x0000025896B53BD0>, additional_properties={}), condition=100, additional_properties={}), engine=ShipEngine(symbol=<ShipEngineSymbol.ENGINE_ION_DRIVE_II: 'ENGINE_ION_DRIVE_II'>, name='Ion Drive II', description='An advanced propulsion system that uses ionized particles to generate high-speed, low-thrust acceleration, with improved efficiency and performance.', speed=30, requirements=ShipRequirements(power=6, crew=8, slots=<space_traders_api_client.types.Unset object at 0x0000025896B53BD0>, additional_properties={}), condition=100, additional_properties={}), modules=[ShipModule(symbol=<ShipModuleSymbol.MODULE_CARGO_HOLD_I: 'MODULE_CARGO_HOLD_I'>, name='Cargo Hold', description=\"A module that increases a ship's cargo capacity.\", requirements=ShipRequirements(power=1, crew=0, slots=1, additional_properties={}), capacity=30, range_=<space_traders_api_client.types.Unset object at 0x0000025896B53BD0>, additional_properties={}), ShipModule(symbol=<ShipModuleSymbol.MODULE_CARGO_HOLD_I: 'MODULE_CARGO_HOLD_I'>, name='Cargo Hold', description=\"A module that increases a ship's cargo capacity.\", requirements=ShipRequirements(power=1, crew=0, slots=1, additional_properties={}), capacity=30, range_=<space_traders_api_client.types.Unset object at 0x0000025896B53BD0>, additional_properties={}), ShipModule(symbol=<ShipModuleSymbol.MODULE_CREW_QUARTERS_I: 'MODULE_CREW_QUARTERS_I'>, name='Crew Quarters', description='A module that provides living space and amenities for the crew.', requirements=ShipRequirements(power=1, crew=2, slots=1, additional_properties={}), capacity=40, range_=<space_traders_api_client.types.Unset object at 0x0000025896B53BD0>, additional_properties={}), ShipModule(symbol=<ShipModuleSymbol.MODULE_CREW_QUARTERS_I: 'MODULE_CREW_QUARTERS_I'>, name='Crew Quarters', description='A module that provides living space and amenities for the crew.', requirements=ShipRequirements(power=1, crew=2, slots=1, additional_properties={}), capacity=40, range_=<space_traders_api_client.types.Unset object at 0x0000025896B53BD0>, additional_properties={}), ShipModule(symbol=<ShipModuleSymbol.MODULE_MINERAL_PROCESSOR_I: 'MODULE_MINERAL_PROCESSOR_I'>, name='Mineral Processor', description='Crushes and processes extracted minerals and ores into their component parts, filters out impurities, and containerizes them into raw storage units.', requirements=ShipRequirements(power=1, crew=0, slots=2, additional_properties={}), capacity=<space_traders_api_client.types.Unset object at 0x0000025896B53BD0>, range_=<space_traders_api_client.types.Unset object at 0x0000025896B53BD0>, additional_properties={}), ShipModule(symbol=<ShipModuleSymbol.MODULE_JUMP_DRIVE_I: 'MODULE_JUMP_DRIVE_I'>, name='Jump Drive I', description='A basic antimatter jump drive that allows for instantaneous short-range interdimensional travel.', requirements=ShipRequirements(power=4, crew=10, slots=1, additional_properties={}), capacity=<space_traders_api_client.types.Unset object at 0x0000025896B53BD0>, range_=500, additional_properties={}), ShipModule(symbol=<ShipModuleSymbol.MODULE_WARP_DRIVE_I: 'MODULE_WARP_DRIVE_I'>, name='Warp Drive I', description='A basic warp drive that allows for short-range interstellar travel.', requirements=ShipRequirements(power=3, crew=2, slots=1, additional_properties={}), capacity=<space_traders_api_client.types.Unset object at 0x0000025896B53BD0>, range_=2000, additional_properties={})], mounts=[ShipMount(symbol=<ShipMountSymbol.MOUNT_SENSOR_ARRAY_I: 'MOUNT_SENSOR_ARRAY_I'>, name='Sensor Array I', requirements=ShipRequirements(power=1, crew=0, slots=<space_traders_api_client.types.Unset object at 0x0000025896B53BD0>, additional_properties={}), description=\"A basic sensor array that improves a ship's ability to detect and track other objects in space.\", strength=1, deposits=[], additional_properties={}), ShipMount(symbol=<ShipMountSymbol.MOUNT_MINING_LASER_I: 'MOUNT_MINING_LASER_I'>, name='Mining Laser I', requirements=ShipRequirements(power=1, crew=0, slots=<space_traders_api_client.types.Unset object at 0x0000025896B53BD0>, additional_properties={}), description='A basic mining laser that can be used to extract valuable minerals from asteroids and other space objects.', strength=10, deposits=[], additional_properties={}), ShipMount(symbol=<ShipMountSymbol.MOUNT_SURVEYOR_I: 'MOUNT_SURVEYOR_I'>, name='Surveyor I', requirements=ShipRequirements(power=1, crew=2, slots=<space_traders_api_client.types.Unset object at 0x0000025896B53BD0>, additional_properties={}), description='A basic survey probe that can be used to gather information about a mineral deposit.', strength=1, deposits=[<ShipMountDepositsItem.QUARTZ_SAND: 'QUARTZ_SAND'>, <ShipMountDepositsItem.SILICON_CRYSTALS: 'SILICON_CRYSTALS'>, <ShipMountDepositsItem.PRECIOUS_STONES: 'PRECIOUS_STONES'>, <ShipMountDepositsItem.ICE_WATER: 'ICE_WATER'>, <ShipMountDepositsItem.AMMONIA_ICE: 'AMMONIA_ICE'>, <ShipMountDepositsItem.IRON_ORE: 'IRON_ORE'>, <ShipMountDepositsItem.COPPER_ORE: 'COPPER_ORE'>, <ShipMountDepositsItem.SILVER_ORE: 'SILVER_ORE'>, <ShipMountDepositsItem.ALUMINUM_ORE: 'ALUMINUM_ORE'>, <ShipMountDepositsItem.GOLD_ORE: 'GOLD_ORE'>, <ShipMountDepositsItem.PLATINUM_ORE: 'PLATINUM_ORE'>], additional_properties={})], cargo=ShipCargo(capacity=60, units=0, inventory=[], additional_properties={}), fuel=ShipFuel(current=1200, capacity=1200, consumed=ShipFuelConsumed(amount=0, timestamp=datetime.datetime(2023, 7, 31, 13, 4, 33, 613000, tzinfo=tzutc()), additional_properties={}), additional_properties={}), additional_properties={}), Ship(symbol='JUMBO-2', registration=ShipRegistration(name='JUMBO-2', faction_symbol='VOID', role=<ShipRole.SATELLITE: 'SATELLITE'>, additional_properties={}), nav=ShipNav(system_symbol='X1-NU72', waypoint_symbol='X1-NU72-03327E', route=ShipNavRoute(destination=ShipNavRouteWaypoint(symbol='X1-NU72-03327E', type=<WaypointType.ORBITAL_STATION: 'ORBITAL_STATION'>, system_symbol='X1-NU72', x=-55, y=12, additional_properties={}), departure=ShipNavRouteWaypoint(symbol='X1-NU72-03327E', type=<WaypointType.ORBITAL_STATION: 'ORBITAL_STATION'>, system_symbol='X1-NU72', x=-55, y=12, additional_properties={}), departure_time=datetime.datetime(2023, 7, 31, 13, 4, 34, 417000, tzinfo=tzutc()), arrival=datetime.datetime(2023, 7, 31, 13, 4, 34, 417000, tzinfo=tzutc()), additional_properties={}), status=<ShipNavStatus.DOCKED: 'DOCKED'>, flight_mode=<ShipNavFlightMode.CRUISE: 'CRUISE'>, additional_properties={}), crew=ShipCrew(current=0, required=0, capacity=0, morale=100, wages=0, rotation=<ShipCrewRotation.STRICT: 'STRICT'>, additional_properties={}), frame=ShipFrame(symbol=<ShipFrameSymbol.FRAME_PROBE: 'FRAME_PROBE'>, name='Frame Probe', description='A small, unmanned spacecraft used for exploration, reconnaissance, and scientific research.', module_slots=0, mounting_points=0, fuel_capacity=0, requirements=ShipRequirements(power=1, crew=0, slots=<space_traders_api_client.types.Unset object at 0x0000025896B53BD0>, additional_properties={}), condition=100, additional_properties={}), reactor=ShipReactor(symbol=<ShipReactorSymbol.REACTOR_SOLAR_I: 'REACTOR_SOLAR_I'>, name='Solar Reactor I', description='A basic solar power reactor, used to generate electricity from solar energy.', power_output=3, requirements=ShipRequirements(power=<space_traders_api_client.types.Unset object at 0x0000025896B53BD0>, crew=0, slots=<space_traders_api_client.types.Unset object at 0x0000025896B53BD0>, additional_properties={}), condition=100, additional_properties={}), engine=ShipEngine(symbol=<ShipEngineSymbol.ENGINE_IMPULSE_DRIVE_I: 'ENGINE_IMPULSE_DRIVE_I'>, name='Impulse Drive I', description='A basic low-energy propulsion system that generates thrust for interplanetary travel.', speed=2, requirements=ShipRequirements(power=1, crew=0, slots=<space_traders_api_client.types.Unset object at 0x0000025896B53BD0>, additional_properties={}), condition=100, additional_properties={}), modules=[], mounts=[], cargo=ShipCargo(capacity=0, units=0, inventory=[], additional_properties={}), fuel=ShipFuel(current=0, capacity=0, consumed=ShipFuelConsumed(amount=0, timestamp=datetime.datetime(2023, 7, 31, 13, 4, 34, 417000, tzinfo=tzutc()), additional_properties={}), additional_properties={}), additional_properties={})], meta=Meta(total=2, page=1, limit=10, additional_properties={}), additional_properties={})\n"
     ]
    }
   ],
   "source": [
    "from playhouse.postgres_ext import PostgresqlExtDatabase\n",
    "from SECRETS import sql_account, sql_pw\n",
    "from client import client\n",
    "from space_traders_api_client.api.fleet import (\n",
    "    get_my_ships, refuel_ship, orbit_ship, dock_ship, navigate_ship, get_my_ship_cargo\n",
    ")\n",
    "\n",
    "import space_traders_api_client.models.get_my_ships_response_200\n",
    "from datetime import datetime\n",
    "from data_decode import data_decode, error_decode\n",
    "\n",
    "\n",
    "\n",
    "\n",
    "\n",
    "pg_db = PostgresqlExtDatabase(\n",
    "    \"spacetraders\", user=sql_account, password=sql_pw, host=\"localhost\", port=5432\n",
    ")\n",
    "\n",
    "get_my_ships = get_my_ships.sync_detailed(client=client)\n",
    "\n",
    "print(type(get_my_ships))\n",
    "\n",
    "print(type(get_my_ships.parsed))\n",
    "\n",
    "print(get_my_ships.headers)\n",
    "\n",
    "print(get_my_ships.content)\n",
    "\n",
    "print('\\n', get_my_ships.parsed)\n",
    "# print(get_my_ships.content)"
   ]
  },
  {
   "cell_type": "code",
   "execution_count": 49,
   "outputs": [
    {
     "name": "stdout",
     "output_type": "stream",
     "text": [
      "<class 'space_traders_api_client.models.get_my_ships_response_200.GetMyShipsResponse200'>\n",
      "<class 'space_traders_api_client.models.ship.Ship'>\n",
      "2\n",
      "{'symbol': 'ENGINE_ION_DRIVE_II', 'name': 'Ion Drive II', 'description': 'An advanced propulsion system that uses ionized particles to generate high-speed, low-thrust acceleration, with improved efficiency and performance.', 'speed': 30, 'requirements': {'power': 6, 'crew': 8}, 'condition': 100}\n",
      "<class 'dict'>\n",
      "{'name': 'JUMBO-1', 'factionSymbol': 'VOID', 'role': 'COMMAND'}\n",
      "ShipRegistration(name='JUMBO-1', faction_symbol='VOID', role='COMMAND', additional_properties={})\n",
      "DOCKED\n"
     ]
    }
   ],
   "source": [
    "\"\"\"\n",
    "okay so i've been grabbing the data from the byte stream and converting it into a dict instead of getting the parsed data and using the class method to_dict to convert it \n",
    "\n",
    "\"\"\"\n",
    "\n",
    "\n",
    "# from get_ships import Ship\n",
    "parsed = get_my_ships.parsed\n",
    "from space_traders_api_client.models.ship import Ship\n",
    "from space_traders_api_client.models.ship_engine import ShipEngine\n",
    "from space_traders_api_client.models.ship_nav import ShipNav\n",
    "\n",
    "import space_traders_api_client.models as models \n",
    "\n",
    "# ShipEngine, ShipNav, ShipCrew ,ShipFuel, ShipCargo, ShipFrame, ShipMount, ShipModule, ShipReactor, ShipRegistration\n",
    "\n",
    "print(type(parsed))\n",
    "print(type(parsed.data[0]))\n",
    "\n",
    "\n",
    "print(len(parsed.data))\n",
    "\n",
    "\n",
    "# print(parsed.to_dict())\n",
    "parsed_dict = parsed.to_dict()\n",
    "parsed_dict = parsed_dict['data']\n",
    "\n",
    "# print(parsed_dict['data'])\n",
    "\n",
    "ship_dict = {}\n",
    "ship_index = 0 \n",
    "for item in parsed_dict:\n",
    "    ship = Ship(*item.values())\n",
    "    ship_dict[ship_index] = ship\n",
    "    ship_index += 1\n",
    "    # print(item['symbol'])\n",
    "    \n",
    "print(ship_dict[0].engine)\n",
    "print(type(ship_dict[0].engine))\n",
    "\n",
    "print(ship_dict[0].registration)\n",
    "\n",
    "ship_reg = models.ShipRegistration(*ship_dict[0].registration.values())\n",
    "ship_nav = models.ShipNav(*ship_dict[0].nav.values())\n",
    "print(ship_reg)\n",
    "print(ship_nav.status)\n",
    "# ship_reg = models.ShipRegistration(ship_dict[0].registration)\n",
    "# print(ship_reg)\n",
    "\n",
    "# first_ship = parsed.data[0]\n",
    "# ship = Ship(*first_ship)\n",
    "# ship = Ship(*parsed.data)\n",
    "# print(ship)\n"
   ],
   "metadata": {
    "collapsed": false,
    "ExecuteTime": {
     "end_time": "2023-08-01T21:00:59.560714600Z",
     "start_time": "2023-08-01T21:00:59.531156400Z"
    }
   },
   "id": "2377056efb4250cc"
  },
  {
   "cell_type": "code",
   "execution_count": null,
   "outputs": [],
   "source": [
    "\n",
    "from client import client\n",
    "from space_traders_api_client.api.fleet import (\n",
    "    get_my_ships, refuel_ship, orbit_ship, dock_ship, navigate_ship, get_my_ship_cargo\n",
    ")\n",
    "\n",
    "\n",
    "class Session:\n",
    "    pass\n",
    "\n",
    "\n",
    "\n",
    "\n",
    "\n",
    "\n"
   ],
   "metadata": {
    "collapsed": false
   },
   "id": "d9fbf9f042ab596e"
  }
 ],
 "metadata": {
  "kernelspec": {
   "display_name": "Python 3",
   "language": "python",
   "name": "python3"
  },
  "language_info": {
   "codemirror_mode": {
    "name": "ipython",
    "version": 2
   },
   "file_extension": ".py",
   "mimetype": "text/x-python",
   "name": "python",
   "nbconvert_exporter": "python",
   "pygments_lexer": "ipython2",
   "version": "2.7.6"
  }
 },
 "nbformat": 4,
 "nbformat_minor": 5
}

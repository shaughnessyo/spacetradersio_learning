{
 "cells": [
  {
   "cell_type": "code",
   "execution_count": 7,
   "id": "initial_id",
   "metadata": {
    "collapsed": true,
    "ExecuteTime": {
     "end_time": "2023-07-28T23:09:00.395142200Z",
     "start_time": "2023-07-28T23:08:58.889782400Z"
    }
   },
   "outputs": [
    {
     "name": "stdout",
     "output_type": "stream",
     "text": [
      "<class 'space_traders_api_client.types.Response'>\n",
      "<class 'space_traders_api_client.models.get_my_ships_response_200.GetMyShipsResponse200'>\n",
      "Headers({'x-powered-by': 'Express', 'access-control-allow-origin': '*', 'access-control-expose-headers': 'Retry-After, X-RateLimit-Type, X-RateLimit-Limit-Burst, X-RateLimit-Limit-Per-Second, X-RateLimit-Remaining, X-RateLimit-Reset', 'retry-after': '1', 'x-ratelimit-type': 'IP Address', 'x-ratelimit-limit-burst': '10', 'x-ratelimit-limit-per-second': '2', 'x-ratelimit-remaining': '1', 'x-ratelimit-reset': '2023-07-28T23:09:00.344Z', 'content-type': 'application/json; charset=utf-8', 'etag': 'W/\"2353-m8+TWFRJLi0uhOvOYJTT5s3/LG8\"', 'x-cloud-trace-context': 'e6839996eebe0b1d247b803b50660128', 'date': 'Fri, 28 Jul 2023 23:08:59 GMT', 'server': 'Google Frontend', 'content-length': '9043', 'via': '1.1 google, 1.1 google', 'alt-svc': 'h3=\":443\"; ma=2592000,h3-29=\":443\"; ma=2592000'})\n"
     ]
    }
   ],
   "source": [
    "from playhouse.postgres_ext import PostgresqlExtDatabase\n",
    "from SECRETS import sql_account, sql_pw\n",
    "from client import client\n",
    "from space_traders_api_client.api.fleet import (\n",
    "    get_my_ships, refuel_ship, orbit_ship, dock_ship, navigate_ship, get_my_ship_cargo\n",
    ")\n",
    "\n",
    "import space_traders_api_client.models.get_my_ships_response_200\n",
    "from datetime import datetime\n",
    "from data_decode import data_decode, error_decode\n",
    "\n",
    "\n",
    "\n",
    "\n",
    "\n",
    "pg_db = PostgresqlExtDatabase(\n",
    "    \"spacetraders\", user=sql_account, password=sql_pw, host=\"localhost\", port=5432\n",
    ")\n",
    "\n",
    "get_my_ships = get_my_ships.sync_detailed(client=client)\n",
    "\n",
    "print(type(get_my_ships))\n",
    "\n",
    "print(type(get_my_ships.parsed))\n",
    "\n",
    "print(get_my_ships.headers)\n",
    "# print(get_my_ships.content)"
   ]
  },
  {
   "cell_type": "code",
   "execution_count": null,
   "outputs": [],
   "source": [
    "\n",
    "from client import client\n",
    "from space_traders_api_client.api.fleet import (\n",
    "    get_my_ships, refuel_ship, orbit_ship, dock_ship, navigate_ship, get_my_ship_cargo\n",
    ")\n",
    "\n",
    "\n",
    "class Session:\n",
    "    pass\n",
    "\n",
    "\n",
    "\n",
    "\n",
    "\n",
    "\n"
   ],
   "metadata": {
    "collapsed": false
   },
   "id": "d9fbf9f042ab596e"
  }
 ],
 "metadata": {
  "kernelspec": {
   "display_name": "Python 3",
   "language": "python",
   "name": "python3"
  },
  "language_info": {
   "codemirror_mode": {
    "name": "ipython",
    "version": 2
   },
   "file_extension": ".py",
   "mimetype": "text/x-python",
   "name": "python",
   "nbconvert_exporter": "python",
   "pygments_lexer": "ipython2",
   "version": "2.7.6"
  }
 },
 "nbformat": 4,
 "nbformat_minor": 5
}

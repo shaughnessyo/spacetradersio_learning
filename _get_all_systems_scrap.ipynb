{
 "cells": [
  {
   "cell_type": "code",
   "execution_count": 7,
   "id": "initial_id",
   "metadata": {
    "collapsed": true,
    "ExecuteTime": {
     "end_time": "2023-07-31T14:12:16.874504800Z",
     "start_time": "2023-07-31T14:12:16.860022500Z"
    }
   },
   "outputs": [
    {
     "name": "stdout",
     "output_type": "stream",
     "text": [
      "['.git', '.gitignore', '.idea', '.ruff_cache', 'automate_mining_scrap.ipynb', 'basic_navigation.py', 'client.py', 'crud.py', 'current_systems_jumpgate_map.py', 'data_decode.py', 'data_to_sql.py', 'df_print_full.py', 'df_to_sql.py', 'get_player_credits.py', 'get_ships.py', 'get_ships_list.py', 'handle_status_codes.py', 'july18th_system_list.pickle', 'july23_reset_backup.sql', 'jumpgate_lookup.py', 'jumpgate_waypoint_query.sql', 'jump_gate_mapping.ipynb', 'jump_gate_navigation.py', 'key.py', 'log_market_transaction.py', 'log_status_code.py', 'market_data_query.sql', 'market_prices_sql.sql', 'market_refresher.py', 'market_transactions_sql.sql', 'MiningSurvey.py', 'mining_ships.py', 'mining_survey_ranking.py', 'mock_surveyresult.py', 'models.py', 'navigation_tinkering.ipynb', 'OLDspace_traders_api_client', 'OLDsystem_list.pickle', 'orm_stuff', 'peewee_models.py', 'peewee_models_tinkering.ipynb', 'player.py', 'plot_a_course.py', 'reworking_sql_interaction.ipynb', 'run_on_server_reset.py', 'SECRETS.py', 'ships_rework.ipynb', 'ships_to_sql.py', 'space_traders_api_client', 'status_codes_sql.sql', 'survey_mining_tinkering.ipynb', 'survey_results_sql.sql', 'systems_and_jumpgates_to_sql.py', 'system_list_100.pickle', 'system_list_200.pickle', 'transitions_automate_miner_inherit_ship.py', 'tui_tinkering', 'updated_api_calls', 'update_market_data.py', 'venv', 'working_on_human_friendly_commands.ipynb', '_get_all_systems.py', '_get_all_systems_scrap.ipynb', '_get_all_systems_scrap.ipynb.tmp', '__pycache__']\n",
      "100\n",
      "200\n",
      "200\n",
      "200\n",
      "200\n",
      "200\n",
      "200\n"
     ]
    }
   ],
   "source": [
    "from os import listdir\n",
    "import os\n",
    "\n",
    "#apparently doesn't accept wildcards\n",
    "# print(listdir())\n",
    "\n",
    "\n",
    "hundred = 100\n",
    "current_page = 0\n",
    "for i in range(0, 7):\n",
    "    if os.path.isfile(f\"system_list_{hundred}.pickle\") is True:\n",
    "        current_page = hundred\n",
    "    print(current_page)\n",
    "    # print(os.path.isfile(f\"system_list_{hundred}.pickle\"))\n",
    "    hundred += 100"
   ]
  },
  {
   "cell_type": "code",
   "execution_count": 15,
   "outputs": [
    {
     "name": "stdout",
     "output_type": "stream",
     "text": [
      "3980\n"
     ]
    }
   ],
   "source": [
    "import pickle\n",
    "\n",
    "\n",
    "hundred = 100\n",
    "current_page = 0\n",
    "\n",
    "merged_list = []\n",
    "for i in range(0, 7):\n",
    "    if os.path.isfile(f\"system_list_{hundred}.pickle\") is True:\n",
    "        with open(f\"system_list_{hundred}.pickle\", \"rb\") as f:\n",
    "            merged_list.append(pickle.load(f))\n",
    "    # print(os.path.isfile(f\"system_list_{hundred}.pickle\"))\n",
    "    hundred += 100\n",
    "print(len(merged_list[1]))\n",
    "\n",
    "# print(merged_list[1])\n"
   ],
   "metadata": {
    "collapsed": false,
    "ExecuteTime": {
     "end_time": "2023-07-31T14:26:41.481555400Z",
     "start_time": "2023-07-31T14:26:41.415381100Z"
    }
   },
   "id": "7aeb9766c3f1d6be"
  },
  {
   "cell_type": "code",
   "execution_count": 6,
   "outputs": [
    {
     "ename": "IndentationError",
     "evalue": "expected an indented block after 'for' statement on line 30 (1675756870.py, line 32)",
     "output_type": "error",
     "traceback": [
      "\u001B[1;36m  Cell \u001B[1;32mIn[6], line 32\u001B[1;36m\u001B[0m\n\u001B[1;33m    def _get_all_systems(page: int = 1, limit: int = 20, client=client, save_increment:int=50):\u001B[0m\n\u001B[1;37m                                                                                               ^\u001B[0m\n\u001B[1;31mIndentationError\u001B[0m\u001B[1;31m:\u001B[0m expected an indented block after 'for' statement on line 30\n"
     ]
    }
   ],
   "source": [
    "import os\n",
    "import pickle\n",
    "from client import client\n",
    "from space_traders_api_client.api.systems import (\n",
    "    get_systems,\n",
    ")\n",
    "from data_decode import data_decode\n",
    "from time import sleep\n",
    "\n",
    "\n",
    "def _depaginate_results(paginated_system_list: list[dict]) -> list[dict]:\n",
    "    \"\"\"\n",
    "\n",
    "    just a cleaning step in _get_all_systems\n",
    "\n",
    "    :param paginated_system_list: this is the paginated list returned by get_all_systems\n",
    "    :return: just appending each system in each page of systems into a new unpaginated list\n",
    "    \"\"\"\n",
    "    system_list = []\n",
    "\n",
    "    for i in range(0, len(paginated_system_list) - 1):\n",
    "        for system in paginated_system_list[i]:\n",
    "            system_list.append(system)\n",
    "\n",
    "    return system_list\n",
    "\n",
    "\n",
    "\n",
    "\n",
    "def _get_all_systems(page: int = 1, limit: int = 20, client=client, save_increment:int=50):\n",
    "    \"\"\"\n",
    "    todo this seems ratelimited by plane wireless timing out\n",
    "\n",
    "\n",
    "    this returns a list of all of the systems from get_systems\n",
    "    there are 12k systems, pagination max is 20 per page, so 600 pages\n",
    "    :param page: int 1-600\n",
    "    :param limit: 20 max\n",
    "    :param client: defined in shiplist\n",
    "\n",
    "    :return:\n",
    "    \"\"\"\n",
    "    full_systems_list = []\n",
    "    # probably should be more granular than 100\n",
    "    page = 0\n",
    "    # page_save_increment = save_increment\n",
    "    page_hundred = 100\n",
    "\n",
    "    #todo this actually requires more logic than i have on me right now, so i'll just pretend the arg doesn't exist\n",
    "    for i in range(0, 650, 50):\n",
    "    # for i in range(50, 150, 50):\n",
    "        if os.path.isfile(f\"system_list_{i}.pickle\") is True:\n",
    "            page = i\n",
    "    \n",
    "    \n",
    "    # partial_system_list = []\n",
    "    while page < 600:\n",
    "        # i can't think through the math right now, so i'll just sleep every two pages\n",
    "        if page % 2 == 0:\n",
    "            sleep(0.5)\n",
    "        get_systems_response = get_systems.sync_detailed(page=page, limit=20, client=client)\n",
    "        #todo i really need to handle status codes generally\n",
    "        if get_systems_response.status_code in [200, 201]:\n",
    "            print(f\"page {page} of 600, {page / 600}\")\n",
    "            pass\n",
    "        else:\n",
    "            print(get_systems_response)\n",
    "\n",
    "        full_systems_list.append(data_decode(get_systems_response.content))\n",
    "        if page % 50 == 0:\n",
    "            \"\"\"\n",
    "            this is jenky \n",
    "            \"\"\"\n",
    "            #fix names \n",
    "            cleaned_hundred_pages = _depaginate_results(full_systems_list)\n",
    "            with open(f\"system_list_{page}.pickle\", \"wb\") as f:\n",
    "                pickle.dump(cleaned_hundred_pages, f)\n",
    "                # page_hundred += 100\n",
    "\n",
    "        page += 1\n",
    "    cleaned_systems_list = _depaginate_results(full_systems_list)\n",
    "\n",
    "    return cleaned_systems_list\n",
    "\n",
    "\n",
    "system_list_test = _get_all_systems()\n",
    "\n",
    "\n"
   ],
   "metadata": {
    "collapsed": false,
    "ExecuteTime": {
     "end_time": "2023-08-01T00:31:16.252948600Z",
     "start_time": "2023-08-01T00:31:16.220411300Z"
    }
   },
   "id": "5a8206381c4c13a6"
  },
  {
   "cell_type": "code",
   "execution_count": null,
   "outputs": [],
   "source": [
    "#there's probably some room to do this as a distributed task either via multiprocessing or async within the constraints of the rate limit"
   ],
   "metadata": {
    "collapsed": false
   },
   "id": "d3f58f794bd4b08b"
  },
  {
   "cell_type": "code",
   "execution_count": 30,
   "outputs": [
    {
     "name": "stdout",
     "output_type": "stream",
     "text": [
      "Response(status_code=<HTTPStatus.OK: 200>, content=b'{\"data\":[{\"symbol\":\"X1-ZZ20\",\"sectorSymbol\":\"X1\",\"type\":\"ORANGE_STAR\",\"x\":-29348,\"y\":44582,\"waypoints\":[{\"symbol\":\"X1-ZZ20-70000E\",\"type\":\"PLANET\",\"x\":-31,\"y\":21},{\"symbol\":\"X1-ZZ20-43841B\",\"type\":\"MOON\",\"x\":-31,\"y\":21},{\"symbol\":\"X1-ZZ20-40882Z\",\"type\":\"MOON\",\"x\":-31,\"y\":21},{\"symbol\":\"X1-ZZ20-15603F\",\"type\":\"PLANET\",\"x\":-45,\"y\":7},{\"symbol\":\"X1-ZZ20-70584D\",\"type\":\"MOON\",\"x\":-45,\"y\":7},{\"symbol\":\"X1-ZZ20-51645B\",\"type\":\"GAS_GIANT\",\"x\":-6,\"y\":66},{\"symbol\":\"X1-ZZ20-18286B\",\"type\":\"ASTEROID_FIELD\",\"x\":-62,\"y\":-49}],\"factions\":[]},{\"symbol\":\"X1-NP68\",\"sectorSymbol\":\"X1\",\"type\":\"RED_STAR\",\"x\":-23673,\"y\":51576,\"waypoints\":[{\"symbol\":\"X1-NP68-94250A\",\"type\":\"PLANET\",\"x\":-39,\"y\":15},{\"symbol\":\"X1-NP68-32331F\",\"type\":\"MOON\",\"x\":-39,\"y\":15},{\"symbol\":\"X1-NP68-10912A\",\"type\":\"PLANET\",\"x\":61,\"y\":-11},{\"symbol\":\"X1-NP68-03173F\",\"type\":\"MOON\",\"x\":61,\"y\":-11},{\"symbol\":\"X1-NP68-37954F\",\"type\":\"PLANET\",\"x\":-67,\"y\":55},{\"symbol\":\"X1-NP68-50755X\",\"type\":\"MOON\",\"x\":-67,\"y\":55},{\"symbol\":\"X1-NP68-55526X\",\"type\":\"MOON\",\"x\":-67,\"y\":55}],\"factions\":[]},{\"symbol\":\"X1-DR13\",\"sectorSymbol\":\"X1\",\"type\":\"RED_STAR\",\"x\":-23747,\"y\":46329,\"waypoints\":[{\"symbol\":\"X1-DR13-79620B\",\"type\":\"PLANET\",\"x\":-18,\"y\":-25},{\"symbol\":\"X1-DR13-49251B\",\"type\":\"PLANET\",\"x\":-47,\"y\":9},{\"symbol\":\"X1-DR13-28312C\",\"type\":\"PLANET\",\"x\":-77,\"y\":-12},{\"symbol\":\"X1-DR13-49853X\",\"type\":\"PLANET\",\"x\":22,\"y\":-87},{\"symbol\":\"X1-DR13-91434C\",\"type\":\"MOON\",\"x\":22,\"y\":-87},{\"symbol\":\"X1-DR13-86135Z\",\"type\":\"GAS_GIANT\",\"x\":104,\"y\":7}],\"factions\":[]},{\"symbol\":\"X1-FA58\",\"sectorSymbol\":\"X1\",\"type\":\"NEUTRON_STAR\",\"x\":-22744,\"y\":51832,\"waypoints\":[],\"factions\":[]},{\"symbol\":\"X1-MT46\",\"sectorSymbol\":\"X1\",\"type\":\"ORANGE_STAR\",\"x\":-26371,\"y\":43141,\"waypoints\":[{\"symbol\":\"X1-MT46-88250Z\",\"type\":\"PLANET\",\"x\":22,\"y\":32},{\"symbol\":\"X1-MT46-92701C\",\"type\":\"MOON\",\"x\":22,\"y\":32},{\"symbol\":\"X1-MT46-97852X\",\"type\":\"PLANET\",\"x\":-12,\"y\":46},{\"symbol\":\"X1-MT46-19543Z\",\"type\":\"MOON\",\"x\":-12,\"y\":46},{\"symbol\":\"X1-MT46-25924A\",\"type\":\"GAS_GIANT\",\"x\":-1,\"y\":51},{\"symbol\":\"X1-MT46-30925A\",\"type\":\"ASTEROID_FIELD\",\"x\":56,\"y\":-42},{\"symbol\":\"X1-MT46-29276Z\",\"type\":\"JUMP_GATE\",\"x\":6,\"y\":99}],\"factions\":[]},{\"symbol\":\"X1-PY22\",\"sectorSymbol\":\"X1\",\"type\":\"BLACK_HOLE\",\"x\":-22910,\"y\":46421,\"waypoints\":[],\"factions\":[]},{\"symbol\":\"X1-TX41\",\"sectorSymbol\":\"X1\",\"type\":\"BLUE_STAR\",\"x\":-22117,\"y\":48426,\"waypoints\":[{\"symbol\":\"X1-TX41-86630B\",\"type\":\"PLANET\",\"x\":-28,\"y\":35},{\"symbol\":\"X1-TX41-98841Z\",\"type\":\"MOON\",\"x\":-28,\"y\":35},{\"symbol\":\"X1-TX41-52132X\",\"type\":\"MOON\",\"x\":-28,\"y\":35},{\"symbol\":\"X1-TX41-90943D\",\"type\":\"MOON\",\"x\":-28,\"y\":35},{\"symbol\":\"X1-TX41-00194A\",\"type\":\"PLANET\",\"x\":72,\"y\":-20},{\"symbol\":\"X1-TX41-23505F\",\"type\":\"MOON\",\"x\":72,\"y\":-20},{\"symbol\":\"X1-TX41-78586X\",\"type\":\"PLANET\",\"x\":80,\"y\":7},{\"symbol\":\"X1-TX41-81757F\",\"type\":\"MOON\",\"x\":80,\"y\":7},{\"symbol\":\"X1-TX41-68338Z\",\"type\":\"MOON\",\"x\":80,\"y\":7},{\"symbol\":\"X1-TX41-04119D\",\"type\":\"GAS_GIANT\",\"x\":12,\"y\":90},{\"symbol\":\"X1-TX41-63510E\",\"type\":\"JUMP_GATE\",\"x\":-10,\"y\":108}],\"factions\":[]},{\"symbol\":\"X1-BH98\",\"sectorSymbol\":\"X1\",\"type\":\"ORANGE_STAR\",\"x\":-22010,\"y\":46758,\"waypoints\":[{\"symbol\":\"X1-BH98-29970A\",\"type\":\"PLANET\",\"x\":-37,\"y\":-2},{\"symbol\":\"X1-BH98-11761C\",\"type\":\"MOON\",\"x\":-37,\"y\":-2},{\"symbol\":\"X1-BH98-29912X\",\"type\":\"PLANET\",\"x\":46,\"y\":3},{\"symbol\":\"X1-BH98-40143C\",\"type\":\"MOON\",\"x\":46,\"y\":3},{\"symbol\":\"X1-BH98-50504B\",\"type\":\"GAS_GIANT\",\"x\":50,\"y\":58},{\"symbol\":\"X1-BH98-84715B\",\"type\":\"GAS_GIANT\",\"x\":-78,\"y\":-66}],\"factions\":[]},{\"symbol\":\"X1-Y21\",\"sectorSymbol\":\"X1\",\"type\":\"RED_STAR\",\"x\":-25630,\"y\":42196,\"waypoints\":[{\"symbol\":\"X1-Y21-34920B\",\"type\":\"PLANET\",\"x\":25,\"y\":-36},{\"symbol\":\"X1-Y21-89621E\",\"type\":\"MOON\",\"x\":25,\"y\":-36},{\"symbol\":\"X1-Y21-15132D\",\"type\":\"PLANET\",\"x\":18,\"y\":-51},{\"symbol\":\"X1-Y21-55463D\",\"type\":\"MOON\",\"x\":18,\"y\":-51},{\"symbol\":\"X1-Y21-13594Z\",\"type\":\"GAS_GIANT\",\"x\":68,\"y\":22}],\"factions\":[]},{\"symbol\":\"X1-VX36\",\"sectorSymbol\":\"X1\",\"type\":\"ORANGE_STAR\",\"x\":-20518,\"y\":50390,\"waypoints\":[{\"symbol\":\"X1-VX36-49010B\",\"type\":\"PLANET\",\"x\":-38,\"y\":-13},{\"symbol\":\"X1-VX36-50241X\",\"type\":\"MOON\",\"x\":-38,\"y\":-13},{\"symbol\":\"X1-VX36-65322Z\",\"type\":\"MOON\",\"x\":-38,\"y\":-13},{\"symbol\":\"X1-VX36-36373A\",\"type\":\"PLANET\",\"x\":-71,\"y\":9},{\"symbol\":\"X1-VX36-55874D\",\"type\":\"MOON\",\"x\":-71,\"y\":9},{\"symbol\":\"X1-VX36-08835E\",\"type\":\"MOON\",\"x\":-71,\"y\":9},{\"symbol\":\"X1-VX36-14116F\",\"type\":\"PLANET\",\"x\":-41,\"y\":86},{\"symbol\":\"X1-VX36-82097X\",\"type\":\"MOON\",\"x\":-41,\"y\":86},{\"symbol\":\"X1-VX36-28958D\",\"type\":\"MOON\",\"x\":-41,\"y\":86},{\"symbol\":\"X1-VX36-57119X\",\"type\":\"GAS_GIANT\",\"x\":-90,\"y\":56},{\"symbol\":\"X1-VX36-86610B\",\"type\":\"ASTEROID_FIELD\",\"x\":65,\"y\":-111},{\"symbol\":\"X1-VX36-20911C\",\"type\":\"ORBITAL_STATION\",\"x\":65,\"y\":-111}],\"factions\":[]},{\"symbol\":\"X1-UC57\",\"sectorSymbol\":\"X1\",\"type\":\"ORANGE_STAR\",\"x\":-26564,\"y\":41060,\"waypoints\":[{\"symbol\":\"X1-UC57-83280D\",\"type\":\"PLANET\",\"x\":22,\"y\":-6},{\"symbol\":\"X1-UC57-00381D\",\"type\":\"MOON\",\"x\":22,\"y\":-6},{\"symbol\":\"X1-UC57-50962X\",\"type\":\"PLANET\",\"x\":35,\"y\":-9},{\"symbol\":\"X1-UC57-56973F\",\"type\":\"MOON\",\"x\":35,\"y\":-9},{\"symbol\":\"X1-UC57-37884X\",\"type\":\"PLANET\",\"x\":42,\"y\":32},{\"symbol\":\"X1-UC57-95025C\",\"type\":\"MOON\",\"x\":42,\"y\":32},{\"symbol\":\"X1-UC57-81356F\",\"type\":\"GAS_GIANT\",\"x\":16,\"y\":-73}],\"factions\":[]},{\"symbol\":\"X1-SN75\",\"sectorSymbol\":\"X1\",\"type\":\"NEUTRON_STAR\",\"x\":-21041,\"y\":45925,\"waypoints\":[],\"factions\":[]},{\"symbol\":\"X1-QP12\",\"sectorSymbol\":\"X1\",\"type\":\"RED_STAR\",\"x\":-22905,\"y\":42880,\"waypoints\":[{\"symbol\":\"X1-QP12-16510F\",\"type\":\"PLANET\",\"x\":-5,\"y\":-25},{\"symbol\":\"X1-QP12-34031C\",\"type\":\"PLANET\",\"x\":34,\"y\":36},{\"symbol\":\"X1-QP12-57712B\",\"type\":\"MOON\",\"x\":34,\"y\":36},{\"symbol\":\"X1-QP12-83813E\",\"type\":\"MOON\",\"x\":34,\"y\":36},{\"symbol\":\"X1-QP12-68514E\",\"type\":\"GAS_GIANT\",\"x\":-52,\"y\":-24},{\"symbol\":\"X1-QP12-15535Z\",\"type\":\"ASTEROID_FIELD\",\"x\":72,\"y\":-46}],\"factions\":[]},{\"symbol\":\"X1-JU51\",\"sectorSymbol\":\"X1\",\"type\":\"NEUTRON_STAR\",\"x\":-24621,\"y\":41033,\"waypoints\":[],\"factions\":[]},{\"symbol\":\"X1-RS12\",\"sectorSymbol\":\"X1\",\"type\":\"ORANGE_STAR\",\"x\":-20917,\"y\":44495,\"waypoints\":[{\"symbol\":\"X1-RS12-56480X\",\"type\":\"PLANET\",\"x\":41,\"y\":15},{\"symbol\":\"X1-RS12-46761A\",\"type\":\"MOON\",\"x\":41,\"y\":15},{\"symbol\":\"X1-RS12-36352X\",\"type\":\"PLANET\",\"x\":-4,\"y\":-47}],\"factions\":[]},{\"symbol\":\"X1-XJ83\",\"sectorSymbol\":\"X1\",\"type\":\"BLUE_STAR\",\"x\":-22637,\"y\":41311,\"waypoints\":[{\"symbol\":\"X1-XJ83-48190E\",\"type\":\"PLANET\",\"x\":-11,\"y\":32},{\"symbol\":\"X1-XJ83-83281X\",\"type\":\"PLANET\",\"x\":62,\"y\":13},{\"symbol\":\"X1-XJ83-06782Z\",\"type\":\"MOON\",\"x\":62,\"y\":13},{\"symbol\":\"X1-XJ83-20943D\",\"type\":\"MOON\",\"x\":62,\"y\":13},{\"symbol\":\"X1-XJ83-52164D\",\"type\":\"GAS_GIANT\",\"x\":39,\"y\":77},{\"symbol\":\"X1-XJ83-25285F\",\"type\":\"ASTEROID_FIELD\",\"x\":-91,\"y\":17}],\"factions\":[]},{\"symbol\":\"X1-KA69\",\"sectorSymbol\":\"X1\",\"type\":\"ORANGE_STAR\",\"x\":-21836,\"y\":41430,\"waypoints\":[{\"symbol\":\"X1-KA69-18330B\",\"type\":\"PLANET\",\"x\":-23,\"y\":-15},{\"symbol\":\"X1-KA69-22541B\",\"type\":\"MOON\",\"x\":-23,\"y\":-15},{\"symbol\":\"X1-KA69-14372C\",\"type\":\"MOON\",\"x\":-23,\"y\":-15},{\"symbol\":\"X1-KA69-31723E\",\"type\":\"PLANET\",\"x\":53,\"y\":15},{\"symbol\":\"X1-KA69-73734E\",\"type\":\"MOON\",\"x\":53,\"y\":15},{\"symbol\":\"X1-KA69-66595A\",\"type\":\"MOON\",\"x\":53,\"y\":15},{\"symbol\":\"X1-KA69-59756F\",\"type\":\"GAS_GIANT\",\"x\":-67,\"y\":-23},{\"symbol\":\"X1-KA69-96477D\",\"type\":\"GAS_GIANT\",\"x\":-18,\"y\":-78}],\"factions\":[]},{\"symbol\":\"X1-RJ27\",\"sectorSymbol\":\"X1\",\"type\":\"BLUE_STAR\",\"x\":-22915,\"y\":40442,\"waypoints\":[{\"symbol\":\"X1-RJ27-49510C\",\"type\":\"PLANET\",\"x\":30,\"y\":-3},{\"symbol\":\"X1-RJ27-27771F\",\"type\":\"MOON\",\"x\":30,\"y\":-3},{\"symbol\":\"X1-RJ27-86422A\",\"type\":\"ASTEROID_FIELD\",\"x\":-11,\"y\":49},{\"symbol\":\"X1-RJ27-24703F\",\"type\":\"ORBITAL_STATION\",\"x\":-11,\"y\":49}],\"factions\":[]},{\"symbol\":\"X1-MD60\",\"sectorSymbol\":\"X1\",\"type\":\"BLUE_STAR\",\"x\":-20801,\"y\":42244,\"waypoints\":[{\"symbol\":\"X1-MD60-78490C\",\"type\":\"PLANET\",\"x\":-34,\"y\":0},{\"symbol\":\"X1-MD60-56341Z\",\"type\":\"PLANET\",\"x\":37,\"y\":-31},{\"symbol\":\"X1-MD60-73402A\",\"type\":\"MOON\",\"x\":37,\"y\":-31},{\"symbol\":\"X1-MD60-98323C\",\"type\":\"MOON\",\"x\":37,\"y\":-31},{\"symbol\":\"X1-MD60-82014A\",\"type\":\"MOON\",\"x\":37,\"y\":-31},{\"symbol\":\"X1-MD60-35705E\",\"type\":\"ASTEROID_FIELD\",\"x\":-49,\"y\":58}],\"factions\":[]},{\"symbol\":\"X1-XU80\",\"sectorSymbol\":\"X1\",\"type\":\"YOUNG_STAR\",\"x\":-43252,\"y\":41184,\"waypoints\":[{\"symbol\":\"X1-XU80-42540F\",\"type\":\"PLANET\",\"x\":-33,\"y\":11},{\"symbol\":\"X1-XU80-06751A\",\"type\":\"MOON\",\"x\":-33,\"y\":11},{\"symbol\":\"X1-XU80-39932C\",\"type\":\"MOON\",\"x\":-33,\"y\":11},{\"symbol\":\"X1-XU80-94653F\",\"type\":\"MOON\",\"x\":-33,\"y\":11},{\"symbol\":\"X1-XU80-50954D\",\"type\":\"PLANET\",\"x\":-2,\"y\":-52},{\"symbol\":\"X1-XU80-77115E\",\"type\":\"MOON\",\"x\":-2,\"y\":-52},{\"symbol\":\"X1-XU80-88206D\",\"type\":\"MOON\",\"x\":-2,\"y\":-52},{\"symbol\":\"X1-XU80-44637Z\",\"type\":\"PLANET\",\"x\":-79,\"y\":-4},{\"symbol\":\"X1-XU80-77648D\",\"type\":\"MOON\",\"x\":-79,\"y\":-4},{\"symbol\":\"X1-XU80-23079E\",\"type\":\"MOON\",\"x\":-79,\"y\":-4},{\"symbol\":\"X1-XU80-68610X\",\"type\":\"ASTEROID_FIELD\",\"x\":23,\"y\":-85}],\"factions\":[]}],\"meta\":{\"total\":12000,\"page\":600,\"limit\":20}}', headers=Headers({'x-powered-by': 'Express', 'access-control-allow-origin': '*', 'access-control-expose-headers': 'Retry-After, X-RateLimit-Type, X-RateLimit-Limit-Burst, X-RateLimit-Limit-Per-Second, X-RateLimit-Remaining, X-RateLimit-Reset', 'retry-after': '1', 'x-ratelimit-type': 'IP Address', 'x-ratelimit-limit-burst': '10', 'x-ratelimit-limit-per-second': '2', 'x-ratelimit-remaining': '1', 'x-ratelimit-reset': '2023-08-01T02:06:31.900Z', 'content-type': 'application/json; charset=utf-8', 'etag': 'W/\"229c-Qz5EyL2Gbz4qIZpn9fh+YxClPVY\"', 'x-cloud-trace-context': 'deb3770080dc20800e3b82c9a65bb9f9', 'date': 'Tue, 01 Aug 2023 02:06:31 GMT', 'server': 'Google Frontend', 'content-length': '8860', 'via': '1.1 google, 1.1 google', 'alt-svc': 'h3=\":443\"; ma=2592000,h3-29=\":443\"; ma=2592000'}), parsed=GetSystemsResponse200(data=[System(symbol='X1-ZZ20', sector_symbol='X1', type=<SystemType.ORANGE_STAR: 'ORANGE_STAR'>, x=-29348, y=44582, waypoints=[SystemWaypoint(symbol='X1-ZZ20-70000E', type=<WaypointType.PLANET: 'PLANET'>, x=-31, y=21, additional_properties={}), SystemWaypoint(symbol='X1-ZZ20-43841B', type=<WaypointType.MOON: 'MOON'>, x=-31, y=21, additional_properties={}), SystemWaypoint(symbol='X1-ZZ20-40882Z', type=<WaypointType.MOON: 'MOON'>, x=-31, y=21, additional_properties={}), SystemWaypoint(symbol='X1-ZZ20-15603F', type=<WaypointType.PLANET: 'PLANET'>, x=-45, y=7, additional_properties={}), SystemWaypoint(symbol='X1-ZZ20-70584D', type=<WaypointType.MOON: 'MOON'>, x=-45, y=7, additional_properties={}), SystemWaypoint(symbol='X1-ZZ20-51645B', type=<WaypointType.GAS_GIANT: 'GAS_GIANT'>, x=-6, y=66, additional_properties={}), SystemWaypoint(symbol='X1-ZZ20-18286B', type=<WaypointType.ASTEROID_FIELD: 'ASTEROID_FIELD'>, x=-62, y=-49, additional_properties={})], factions=[], additional_properties={}), System(symbol='X1-NP68', sector_symbol='X1', type=<SystemType.RED_STAR: 'RED_STAR'>, x=-23673, y=51576, waypoints=[SystemWaypoint(symbol='X1-NP68-94250A', type=<WaypointType.PLANET: 'PLANET'>, x=-39, y=15, additional_properties={}), SystemWaypoint(symbol='X1-NP68-32331F', type=<WaypointType.MOON: 'MOON'>, x=-39, y=15, additional_properties={}), SystemWaypoint(symbol='X1-NP68-10912A', type=<WaypointType.PLANET: 'PLANET'>, x=61, y=-11, additional_properties={}), SystemWaypoint(symbol='X1-NP68-03173F', type=<WaypointType.MOON: 'MOON'>, x=61, y=-11, additional_properties={}), SystemWaypoint(symbol='X1-NP68-37954F', type=<WaypointType.PLANET: 'PLANET'>, x=-67, y=55, additional_properties={}), SystemWaypoint(symbol='X1-NP68-50755X', type=<WaypointType.MOON: 'MOON'>, x=-67, y=55, additional_properties={}), SystemWaypoint(symbol='X1-NP68-55526X', type=<WaypointType.MOON: 'MOON'>, x=-67, y=55, additional_properties={})], factions=[], additional_properties={}), System(symbol='X1-DR13', sector_symbol='X1', type=<SystemType.RED_STAR: 'RED_STAR'>, x=-23747, y=46329, waypoints=[SystemWaypoint(symbol='X1-DR13-79620B', type=<WaypointType.PLANET: 'PLANET'>, x=-18, y=-25, additional_properties={}), SystemWaypoint(symbol='X1-DR13-49251B', type=<WaypointType.PLANET: 'PLANET'>, x=-47, y=9, additional_properties={}), SystemWaypoint(symbol='X1-DR13-28312C', type=<WaypointType.PLANET: 'PLANET'>, x=-77, y=-12, additional_properties={}), SystemWaypoint(symbol='X1-DR13-49853X', type=<WaypointType.PLANET: 'PLANET'>, x=22, y=-87, additional_properties={}), SystemWaypoint(symbol='X1-DR13-91434C', type=<WaypointType.MOON: 'MOON'>, x=22, y=-87, additional_properties={}), SystemWaypoint(symbol='X1-DR13-86135Z', type=<WaypointType.GAS_GIANT: 'GAS_GIANT'>, x=104, y=7, additional_properties={})], factions=[], additional_properties={}), System(symbol='X1-FA58', sector_symbol='X1', type=<SystemType.NEUTRON_STAR: 'NEUTRON_STAR'>, x=-22744, y=51832, waypoints=[], factions=[], additional_properties={}), System(symbol='X1-MT46', sector_symbol='X1', type=<SystemType.ORANGE_STAR: 'ORANGE_STAR'>, x=-26371, y=43141, waypoints=[SystemWaypoint(symbol='X1-MT46-88250Z', type=<WaypointType.PLANET: 'PLANET'>, x=22, y=32, additional_properties={}), SystemWaypoint(symbol='X1-MT46-92701C', type=<WaypointType.MOON: 'MOON'>, x=22, y=32, additional_properties={}), SystemWaypoint(symbol='X1-MT46-97852X', type=<WaypointType.PLANET: 'PLANET'>, x=-12, y=46, additional_properties={}), SystemWaypoint(symbol='X1-MT46-19543Z', type=<WaypointType.MOON: 'MOON'>, x=-12, y=46, additional_properties={}), SystemWaypoint(symbol='X1-MT46-25924A', type=<WaypointType.GAS_GIANT: 'GAS_GIANT'>, x=-1, y=51, additional_properties={}), SystemWaypoint(symbol='X1-MT46-30925A', type=<WaypointType.ASTEROID_FIELD: 'ASTEROID_FIELD'>, x=56, y=-42, additional_properties={}), SystemWaypoint(symbol='X1-MT46-29276Z', type=<WaypointType.JUMP_GATE: 'JUMP_GATE'>, x=6, y=99, additional_properties={})], factions=[], additional_properties={}), System(symbol='X1-PY22', sector_symbol='X1', type=<SystemType.BLACK_HOLE: 'BLACK_HOLE'>, x=-22910, y=46421, waypoints=[], factions=[], additional_properties={}), System(symbol='X1-TX41', sector_symbol='X1', type=<SystemType.BLUE_STAR: 'BLUE_STAR'>, x=-22117, y=48426, waypoints=[SystemWaypoint(symbol='X1-TX41-86630B', type=<WaypointType.PLANET: 'PLANET'>, x=-28, y=35, additional_properties={}), SystemWaypoint(symbol='X1-TX41-98841Z', type=<WaypointType.MOON: 'MOON'>, x=-28, y=35, additional_properties={}), SystemWaypoint(symbol='X1-TX41-52132X', type=<WaypointType.MOON: 'MOON'>, x=-28, y=35, additional_properties={}), SystemWaypoint(symbol='X1-TX41-90943D', type=<WaypointType.MOON: 'MOON'>, x=-28, y=35, additional_properties={}), SystemWaypoint(symbol='X1-TX41-00194A', type=<WaypointType.PLANET: 'PLANET'>, x=72, y=-20, additional_properties={}), SystemWaypoint(symbol='X1-TX41-23505F', type=<WaypointType.MOON: 'MOON'>, x=72, y=-20, additional_properties={}), SystemWaypoint(symbol='X1-TX41-78586X', type=<WaypointType.PLANET: 'PLANET'>, x=80, y=7, additional_properties={}), SystemWaypoint(symbol='X1-TX41-81757F', type=<WaypointType.MOON: 'MOON'>, x=80, y=7, additional_properties={}), SystemWaypoint(symbol='X1-TX41-68338Z', type=<WaypointType.MOON: 'MOON'>, x=80, y=7, additional_properties={}), SystemWaypoint(symbol='X1-TX41-04119D', type=<WaypointType.GAS_GIANT: 'GAS_GIANT'>, x=12, y=90, additional_properties={}), SystemWaypoint(symbol='X1-TX41-63510E', type=<WaypointType.JUMP_GATE: 'JUMP_GATE'>, x=-10, y=108, additional_properties={})], factions=[], additional_properties={}), System(symbol='X1-BH98', sector_symbol='X1', type=<SystemType.ORANGE_STAR: 'ORANGE_STAR'>, x=-22010, y=46758, waypoints=[SystemWaypoint(symbol='X1-BH98-29970A', type=<WaypointType.PLANET: 'PLANET'>, x=-37, y=-2, additional_properties={}), SystemWaypoint(symbol='X1-BH98-11761C', type=<WaypointType.MOON: 'MOON'>, x=-37, y=-2, additional_properties={}), SystemWaypoint(symbol='X1-BH98-29912X', type=<WaypointType.PLANET: 'PLANET'>, x=46, y=3, additional_properties={}), SystemWaypoint(symbol='X1-BH98-40143C', type=<WaypointType.MOON: 'MOON'>, x=46, y=3, additional_properties={}), SystemWaypoint(symbol='X1-BH98-50504B', type=<WaypointType.GAS_GIANT: 'GAS_GIANT'>, x=50, y=58, additional_properties={}), SystemWaypoint(symbol='X1-BH98-84715B', type=<WaypointType.GAS_GIANT: 'GAS_GIANT'>, x=-78, y=-66, additional_properties={})], factions=[], additional_properties={}), System(symbol='X1-Y21', sector_symbol='X1', type=<SystemType.RED_STAR: 'RED_STAR'>, x=-25630, y=42196, waypoints=[SystemWaypoint(symbol='X1-Y21-34920B', type=<WaypointType.PLANET: 'PLANET'>, x=25, y=-36, additional_properties={}), SystemWaypoint(symbol='X1-Y21-89621E', type=<WaypointType.MOON: 'MOON'>, x=25, y=-36, additional_properties={}), SystemWaypoint(symbol='X1-Y21-15132D', type=<WaypointType.PLANET: 'PLANET'>, x=18, y=-51, additional_properties={}), SystemWaypoint(symbol='X1-Y21-55463D', type=<WaypointType.MOON: 'MOON'>, x=18, y=-51, additional_properties={}), SystemWaypoint(symbol='X1-Y21-13594Z', type=<WaypointType.GAS_GIANT: 'GAS_GIANT'>, x=68, y=22, additional_properties={})], factions=[], additional_properties={}), System(symbol='X1-VX36', sector_symbol='X1', type=<SystemType.ORANGE_STAR: 'ORANGE_STAR'>, x=-20518, y=50390, waypoints=[SystemWaypoint(symbol='X1-VX36-49010B', type=<WaypointType.PLANET: 'PLANET'>, x=-38, y=-13, additional_properties={}), SystemWaypoint(symbol='X1-VX36-50241X', type=<WaypointType.MOON: 'MOON'>, x=-38, y=-13, additional_properties={}), SystemWaypoint(symbol='X1-VX36-65322Z', type=<WaypointType.MOON: 'MOON'>, x=-38, y=-13, additional_properties={}), SystemWaypoint(symbol='X1-VX36-36373A', type=<WaypointType.PLANET: 'PLANET'>, x=-71, y=9, additional_properties={}), SystemWaypoint(symbol='X1-VX36-55874D', type=<WaypointType.MOON: 'MOON'>, x=-71, y=9, additional_properties={}), SystemWaypoint(symbol='X1-VX36-08835E', type=<WaypointType.MOON: 'MOON'>, x=-71, y=9, additional_properties={}), SystemWaypoint(symbol='X1-VX36-14116F', type=<WaypointType.PLANET: 'PLANET'>, x=-41, y=86, additional_properties={}), SystemWaypoint(symbol='X1-VX36-82097X', type=<WaypointType.MOON: 'MOON'>, x=-41, y=86, additional_properties={}), SystemWaypoint(symbol='X1-VX36-28958D', type=<WaypointType.MOON: 'MOON'>, x=-41, y=86, additional_properties={}), SystemWaypoint(symbol='X1-VX36-57119X', type=<WaypointType.GAS_GIANT: 'GAS_GIANT'>, x=-90, y=56, additional_properties={}), SystemWaypoint(symbol='X1-VX36-86610B', type=<WaypointType.ASTEROID_FIELD: 'ASTEROID_FIELD'>, x=65, y=-111, additional_properties={}), SystemWaypoint(symbol='X1-VX36-20911C', type=<WaypointType.ORBITAL_STATION: 'ORBITAL_STATION'>, x=65, y=-111, additional_properties={})], factions=[], additional_properties={}), System(symbol='X1-UC57', sector_symbol='X1', type=<SystemType.ORANGE_STAR: 'ORANGE_STAR'>, x=-26564, y=41060, waypoints=[SystemWaypoint(symbol='X1-UC57-83280D', type=<WaypointType.PLANET: 'PLANET'>, x=22, y=-6, additional_properties={}), SystemWaypoint(symbol='X1-UC57-00381D', type=<WaypointType.MOON: 'MOON'>, x=22, y=-6, additional_properties={}), SystemWaypoint(symbol='X1-UC57-50962X', type=<WaypointType.PLANET: 'PLANET'>, x=35, y=-9, additional_properties={}), SystemWaypoint(symbol='X1-UC57-56973F', type=<WaypointType.MOON: 'MOON'>, x=35, y=-9, additional_properties={}), SystemWaypoint(symbol='X1-UC57-37884X', type=<WaypointType.PLANET: 'PLANET'>, x=42, y=32, additional_properties={}), SystemWaypoint(symbol='X1-UC57-95025C', type=<WaypointType.MOON: 'MOON'>, x=42, y=32, additional_properties={}), SystemWaypoint(symbol='X1-UC57-81356F', type=<WaypointType.GAS_GIANT: 'GAS_GIANT'>, x=16, y=-73, additional_properties={})], factions=[], additional_properties={}), System(symbol='X1-SN75', sector_symbol='X1', type=<SystemType.NEUTRON_STAR: 'NEUTRON_STAR'>, x=-21041, y=45925, waypoints=[], factions=[], additional_properties={}), System(symbol='X1-QP12', sector_symbol='X1', type=<SystemType.RED_STAR: 'RED_STAR'>, x=-22905, y=42880, waypoints=[SystemWaypoint(symbol='X1-QP12-16510F', type=<WaypointType.PLANET: 'PLANET'>, x=-5, y=-25, additional_properties={}), SystemWaypoint(symbol='X1-QP12-34031C', type=<WaypointType.PLANET: 'PLANET'>, x=34, y=36, additional_properties={}), SystemWaypoint(symbol='X1-QP12-57712B', type=<WaypointType.MOON: 'MOON'>, x=34, y=36, additional_properties={}), SystemWaypoint(symbol='X1-QP12-83813E', type=<WaypointType.MOON: 'MOON'>, x=34, y=36, additional_properties={}), SystemWaypoint(symbol='X1-QP12-68514E', type=<WaypointType.GAS_GIANT: 'GAS_GIANT'>, x=-52, y=-24, additional_properties={}), SystemWaypoint(symbol='X1-QP12-15535Z', type=<WaypointType.ASTEROID_FIELD: 'ASTEROID_FIELD'>, x=72, y=-46, additional_properties={})], factions=[], additional_properties={}), System(symbol='X1-JU51', sector_symbol='X1', type=<SystemType.NEUTRON_STAR: 'NEUTRON_STAR'>, x=-24621, y=41033, waypoints=[], factions=[], additional_properties={}), System(symbol='X1-RS12', sector_symbol='X1', type=<SystemType.ORANGE_STAR: 'ORANGE_STAR'>, x=-20917, y=44495, waypoints=[SystemWaypoint(symbol='X1-RS12-56480X', type=<WaypointType.PLANET: 'PLANET'>, x=41, y=15, additional_properties={}), SystemWaypoint(symbol='X1-RS12-46761A', type=<WaypointType.MOON: 'MOON'>, x=41, y=15, additional_properties={}), SystemWaypoint(symbol='X1-RS12-36352X', type=<WaypointType.PLANET: 'PLANET'>, x=-4, y=-47, additional_properties={})], factions=[], additional_properties={}), System(symbol='X1-XJ83', sector_symbol='X1', type=<SystemType.BLUE_STAR: 'BLUE_STAR'>, x=-22637, y=41311, waypoints=[SystemWaypoint(symbol='X1-XJ83-48190E', type=<WaypointType.PLANET: 'PLANET'>, x=-11, y=32, additional_properties={}), SystemWaypoint(symbol='X1-XJ83-83281X', type=<WaypointType.PLANET: 'PLANET'>, x=62, y=13, additional_properties={}), SystemWaypoint(symbol='X1-XJ83-06782Z', type=<WaypointType.MOON: 'MOON'>, x=62, y=13, additional_properties={}), SystemWaypoint(symbol='X1-XJ83-20943D', type=<WaypointType.MOON: 'MOON'>, x=62, y=13, additional_properties={}), SystemWaypoint(symbol='X1-XJ83-52164D', type=<WaypointType.GAS_GIANT: 'GAS_GIANT'>, x=39, y=77, additional_properties={}), SystemWaypoint(symbol='X1-XJ83-25285F', type=<WaypointType.ASTEROID_FIELD: 'ASTEROID_FIELD'>, x=-91, y=17, additional_properties={})], factions=[], additional_properties={}), System(symbol='X1-KA69', sector_symbol='X1', type=<SystemType.ORANGE_STAR: 'ORANGE_STAR'>, x=-21836, y=41430, waypoints=[SystemWaypoint(symbol='X1-KA69-18330B', type=<WaypointType.PLANET: 'PLANET'>, x=-23, y=-15, additional_properties={}), SystemWaypoint(symbol='X1-KA69-22541B', type=<WaypointType.MOON: 'MOON'>, x=-23, y=-15, additional_properties={}), SystemWaypoint(symbol='X1-KA69-14372C', type=<WaypointType.MOON: 'MOON'>, x=-23, y=-15, additional_properties={}), SystemWaypoint(symbol='X1-KA69-31723E', type=<WaypointType.PLANET: 'PLANET'>, x=53, y=15, additional_properties={}), SystemWaypoint(symbol='X1-KA69-73734E', type=<WaypointType.MOON: 'MOON'>, x=53, y=15, additional_properties={}), SystemWaypoint(symbol='X1-KA69-66595A', type=<WaypointType.MOON: 'MOON'>, x=53, y=15, additional_properties={}), SystemWaypoint(symbol='X1-KA69-59756F', type=<WaypointType.GAS_GIANT: 'GAS_GIANT'>, x=-67, y=-23, additional_properties={}), SystemWaypoint(symbol='X1-KA69-96477D', type=<WaypointType.GAS_GIANT: 'GAS_GIANT'>, x=-18, y=-78, additional_properties={})], factions=[], additional_properties={}), System(symbol='X1-RJ27', sector_symbol='X1', type=<SystemType.BLUE_STAR: 'BLUE_STAR'>, x=-22915, y=40442, waypoints=[SystemWaypoint(symbol='X1-RJ27-49510C', type=<WaypointType.PLANET: 'PLANET'>, x=30, y=-3, additional_properties={}), SystemWaypoint(symbol='X1-RJ27-27771F', type=<WaypointType.MOON: 'MOON'>, x=30, y=-3, additional_properties={}), SystemWaypoint(symbol='X1-RJ27-86422A', type=<WaypointType.ASTEROID_FIELD: 'ASTEROID_FIELD'>, x=-11, y=49, additional_properties={}), SystemWaypoint(symbol='X1-RJ27-24703F', type=<WaypointType.ORBITAL_STATION: 'ORBITAL_STATION'>, x=-11, y=49, additional_properties={})], factions=[], additional_properties={}), System(symbol='X1-MD60', sector_symbol='X1', type=<SystemType.BLUE_STAR: 'BLUE_STAR'>, x=-20801, y=42244, waypoints=[SystemWaypoint(symbol='X1-MD60-78490C', type=<WaypointType.PLANET: 'PLANET'>, x=-34, y=0, additional_properties={}), SystemWaypoint(symbol='X1-MD60-56341Z', type=<WaypointType.PLANET: 'PLANET'>, x=37, y=-31, additional_properties={}), SystemWaypoint(symbol='X1-MD60-73402A', type=<WaypointType.MOON: 'MOON'>, x=37, y=-31, additional_properties={}), SystemWaypoint(symbol='X1-MD60-98323C', type=<WaypointType.MOON: 'MOON'>, x=37, y=-31, additional_properties={}), SystemWaypoint(symbol='X1-MD60-82014A', type=<WaypointType.MOON: 'MOON'>, x=37, y=-31, additional_properties={}), SystemWaypoint(symbol='X1-MD60-35705E', type=<WaypointType.ASTEROID_FIELD: 'ASTEROID_FIELD'>, x=-49, y=58, additional_properties={})], factions=[], additional_properties={}), System(symbol='X1-XU80', sector_symbol='X1', type=<SystemType.YOUNG_STAR: 'YOUNG_STAR'>, x=-43252, y=41184, waypoints=[SystemWaypoint(symbol='X1-XU80-42540F', type=<WaypointType.PLANET: 'PLANET'>, x=-33, y=11, additional_properties={}), SystemWaypoint(symbol='X1-XU80-06751A', type=<WaypointType.MOON: 'MOON'>, x=-33, y=11, additional_properties={}), SystemWaypoint(symbol='X1-XU80-39932C', type=<WaypointType.MOON: 'MOON'>, x=-33, y=11, additional_properties={}), SystemWaypoint(symbol='X1-XU80-94653F', type=<WaypointType.MOON: 'MOON'>, x=-33, y=11, additional_properties={}), SystemWaypoint(symbol='X1-XU80-50954D', type=<WaypointType.PLANET: 'PLANET'>, x=-2, y=-52, additional_properties={}), SystemWaypoint(symbol='X1-XU80-77115E', type=<WaypointType.MOON: 'MOON'>, x=-2, y=-52, additional_properties={}), SystemWaypoint(symbol='X1-XU80-88206D', type=<WaypointType.MOON: 'MOON'>, x=-2, y=-52, additional_properties={}), SystemWaypoint(symbol='X1-XU80-44637Z', type=<WaypointType.PLANET: 'PLANET'>, x=-79, y=-4, additional_properties={}), SystemWaypoint(symbol='X1-XU80-77648D', type=<WaypointType.MOON: 'MOON'>, x=-79, y=-4, additional_properties={}), SystemWaypoint(symbol='X1-XU80-23079E', type=<WaypointType.MOON: 'MOON'>, x=-79, y=-4, additional_properties={}), SystemWaypoint(symbol='X1-XU80-68610X', type=<WaypointType.ASTEROID_FIELD: 'ASTEROID_FIELD'>, x=23, y=-85, additional_properties={})], factions=[], additional_properties={})], meta=Meta(total=12000, page=600, limit=20, additional_properties={}), additional_properties={}))\n",
      "page 600 of 600, 100.0%\n",
      "[{'symbol': 'X1-ZZ20', 'sectorSymbol': 'X1', 'type': 'ORANGE_STAR', 'x': -29348, 'y': 44582, 'waypoints': [{'symbol': 'X1-ZZ20-70000E', 'type': 'PLANET', 'x': -31, 'y': 21}, {'symbol': 'X1-ZZ20-43841B', 'type': 'MOON', 'x': -31, 'y': 21}, {'symbol': 'X1-ZZ20-40882Z', 'type': 'MOON', 'x': -31, 'y': 21}, {'symbol': 'X1-ZZ20-15603F', 'type': 'PLANET', 'x': -45, 'y': 7}, {'symbol': 'X1-ZZ20-70584D', 'type': 'MOON', 'x': -45, 'y': 7}, {'symbol': 'X1-ZZ20-51645B', 'type': 'GAS_GIANT', 'x': -6, 'y': 66}, {'symbol': 'X1-ZZ20-18286B', 'type': 'ASTEROID_FIELD', 'x': -62, 'y': -49}], 'factions': []}, {'symbol': 'X1-NP68', 'sectorSymbol': 'X1', 'type': 'RED_STAR', 'x': -23673, 'y': 51576, 'waypoints': [{'symbol': 'X1-NP68-94250A', 'type': 'PLANET', 'x': -39, 'y': 15}, {'symbol': 'X1-NP68-32331F', 'type': 'MOON', 'x': -39, 'y': 15}, {'symbol': 'X1-NP68-10912A', 'type': 'PLANET', 'x': 61, 'y': -11}, {'symbol': 'X1-NP68-03173F', 'type': 'MOON', 'x': 61, 'y': -11}, {'symbol': 'X1-NP68-37954F', 'type': 'PLANET', 'x': -67, 'y': 55}, {'symbol': 'X1-NP68-50755X', 'type': 'MOON', 'x': -67, 'y': 55}, {'symbol': 'X1-NP68-55526X', 'type': 'MOON', 'x': -67, 'y': 55}], 'factions': []}, {'symbol': 'X1-DR13', 'sectorSymbol': 'X1', 'type': 'RED_STAR', 'x': -23747, 'y': 46329, 'waypoints': [{'symbol': 'X1-DR13-79620B', 'type': 'PLANET', 'x': -18, 'y': -25}, {'symbol': 'X1-DR13-49251B', 'type': 'PLANET', 'x': -47, 'y': 9}, {'symbol': 'X1-DR13-28312C', 'type': 'PLANET', 'x': -77, 'y': -12}, {'symbol': 'X1-DR13-49853X', 'type': 'PLANET', 'x': 22, 'y': -87}, {'symbol': 'X1-DR13-91434C', 'type': 'MOON', 'x': 22, 'y': -87}, {'symbol': 'X1-DR13-86135Z', 'type': 'GAS_GIANT', 'x': 104, 'y': 7}], 'factions': []}, {'symbol': 'X1-FA58', 'sectorSymbol': 'X1', 'type': 'NEUTRON_STAR', 'x': -22744, 'y': 51832, 'waypoints': [], 'factions': []}, {'symbol': 'X1-MT46', 'sectorSymbol': 'X1', 'type': 'ORANGE_STAR', 'x': -26371, 'y': 43141, 'waypoints': [{'symbol': 'X1-MT46-88250Z', 'type': 'PLANET', 'x': 22, 'y': 32}, {'symbol': 'X1-MT46-92701C', 'type': 'MOON', 'x': 22, 'y': 32}, {'symbol': 'X1-MT46-97852X', 'type': 'PLANET', 'x': -12, 'y': 46}, {'symbol': 'X1-MT46-19543Z', 'type': 'MOON', 'x': -12, 'y': 46}, {'symbol': 'X1-MT46-25924A', 'type': 'GAS_GIANT', 'x': -1, 'y': 51}, {'symbol': 'X1-MT46-30925A', 'type': 'ASTEROID_FIELD', 'x': 56, 'y': -42}, {'symbol': 'X1-MT46-29276Z', 'type': 'JUMP_GATE', 'x': 6, 'y': 99}], 'factions': []}, {'symbol': 'X1-PY22', 'sectorSymbol': 'X1', 'type': 'BLACK_HOLE', 'x': -22910, 'y': 46421, 'waypoints': [], 'factions': []}, {'symbol': 'X1-TX41', 'sectorSymbol': 'X1', 'type': 'BLUE_STAR', 'x': -22117, 'y': 48426, 'waypoints': [{'symbol': 'X1-TX41-86630B', 'type': 'PLANET', 'x': -28, 'y': 35}, {'symbol': 'X1-TX41-98841Z', 'type': 'MOON', 'x': -28, 'y': 35}, {'symbol': 'X1-TX41-52132X', 'type': 'MOON', 'x': -28, 'y': 35}, {'symbol': 'X1-TX41-90943D', 'type': 'MOON', 'x': -28, 'y': 35}, {'symbol': 'X1-TX41-00194A', 'type': 'PLANET', 'x': 72, 'y': -20}, {'symbol': 'X1-TX41-23505F', 'type': 'MOON', 'x': 72, 'y': -20}, {'symbol': 'X1-TX41-78586X', 'type': 'PLANET', 'x': 80, 'y': 7}, {'symbol': 'X1-TX41-81757F', 'type': 'MOON', 'x': 80, 'y': 7}, {'symbol': 'X1-TX41-68338Z', 'type': 'MOON', 'x': 80, 'y': 7}, {'symbol': 'X1-TX41-04119D', 'type': 'GAS_GIANT', 'x': 12, 'y': 90}, {'symbol': 'X1-TX41-63510E', 'type': 'JUMP_GATE', 'x': -10, 'y': 108}], 'factions': []}, {'symbol': 'X1-BH98', 'sectorSymbol': 'X1', 'type': 'ORANGE_STAR', 'x': -22010, 'y': 46758, 'waypoints': [{'symbol': 'X1-BH98-29970A', 'type': 'PLANET', 'x': -37, 'y': -2}, {'symbol': 'X1-BH98-11761C', 'type': 'MOON', 'x': -37, 'y': -2}, {'symbol': 'X1-BH98-29912X', 'type': 'PLANET', 'x': 46, 'y': 3}, {'symbol': 'X1-BH98-40143C', 'type': 'MOON', 'x': 46, 'y': 3}, {'symbol': 'X1-BH98-50504B', 'type': 'GAS_GIANT', 'x': 50, 'y': 58}, {'symbol': 'X1-BH98-84715B', 'type': 'GAS_GIANT', 'x': -78, 'y': -66}], 'factions': []}, {'symbol': 'X1-Y21', 'sectorSymbol': 'X1', 'type': 'RED_STAR', 'x': -25630, 'y': 42196, 'waypoints': [{'symbol': 'X1-Y21-34920B', 'type': 'PLANET', 'x': 25, 'y': -36}, {'symbol': 'X1-Y21-89621E', 'type': 'MOON', 'x': 25, 'y': -36}, {'symbol': 'X1-Y21-15132D', 'type': 'PLANET', 'x': 18, 'y': -51}, {'symbol': 'X1-Y21-55463D', 'type': 'MOON', 'x': 18, 'y': -51}, {'symbol': 'X1-Y21-13594Z', 'type': 'GAS_GIANT', 'x': 68, 'y': 22}], 'factions': []}, {'symbol': 'X1-VX36', 'sectorSymbol': 'X1', 'type': 'ORANGE_STAR', 'x': -20518, 'y': 50390, 'waypoints': [{'symbol': 'X1-VX36-49010B', 'type': 'PLANET', 'x': -38, 'y': -13}, {'symbol': 'X1-VX36-50241X', 'type': 'MOON', 'x': -38, 'y': -13}, {'symbol': 'X1-VX36-65322Z', 'type': 'MOON', 'x': -38, 'y': -13}, {'symbol': 'X1-VX36-36373A', 'type': 'PLANET', 'x': -71, 'y': 9}, {'symbol': 'X1-VX36-55874D', 'type': 'MOON', 'x': -71, 'y': 9}, {'symbol': 'X1-VX36-08835E', 'type': 'MOON', 'x': -71, 'y': 9}, {'symbol': 'X1-VX36-14116F', 'type': 'PLANET', 'x': -41, 'y': 86}, {'symbol': 'X1-VX36-82097X', 'type': 'MOON', 'x': -41, 'y': 86}, {'symbol': 'X1-VX36-28958D', 'type': 'MOON', 'x': -41, 'y': 86}, {'symbol': 'X1-VX36-57119X', 'type': 'GAS_GIANT', 'x': -90, 'y': 56}, {'symbol': 'X1-VX36-86610B', 'type': 'ASTEROID_FIELD', 'x': 65, 'y': -111}, {'symbol': 'X1-VX36-20911C', 'type': 'ORBITAL_STATION', 'x': 65, 'y': -111}], 'factions': []}, {'symbol': 'X1-UC57', 'sectorSymbol': 'X1', 'type': 'ORANGE_STAR', 'x': -26564, 'y': 41060, 'waypoints': [{'symbol': 'X1-UC57-83280D', 'type': 'PLANET', 'x': 22, 'y': -6}, {'symbol': 'X1-UC57-00381D', 'type': 'MOON', 'x': 22, 'y': -6}, {'symbol': 'X1-UC57-50962X', 'type': 'PLANET', 'x': 35, 'y': -9}, {'symbol': 'X1-UC57-56973F', 'type': 'MOON', 'x': 35, 'y': -9}, {'symbol': 'X1-UC57-37884X', 'type': 'PLANET', 'x': 42, 'y': 32}, {'symbol': 'X1-UC57-95025C', 'type': 'MOON', 'x': 42, 'y': 32}, {'symbol': 'X1-UC57-81356F', 'type': 'GAS_GIANT', 'x': 16, 'y': -73}], 'factions': []}, {'symbol': 'X1-SN75', 'sectorSymbol': 'X1', 'type': 'NEUTRON_STAR', 'x': -21041, 'y': 45925, 'waypoints': [], 'factions': []}, {'symbol': 'X1-QP12', 'sectorSymbol': 'X1', 'type': 'RED_STAR', 'x': -22905, 'y': 42880, 'waypoints': [{'symbol': 'X1-QP12-16510F', 'type': 'PLANET', 'x': -5, 'y': -25}, {'symbol': 'X1-QP12-34031C', 'type': 'PLANET', 'x': 34, 'y': 36}, {'symbol': 'X1-QP12-57712B', 'type': 'MOON', 'x': 34, 'y': 36}, {'symbol': 'X1-QP12-83813E', 'type': 'MOON', 'x': 34, 'y': 36}, {'symbol': 'X1-QP12-68514E', 'type': 'GAS_GIANT', 'x': -52, 'y': -24}, {'symbol': 'X1-QP12-15535Z', 'type': 'ASTEROID_FIELD', 'x': 72, 'y': -46}], 'factions': []}, {'symbol': 'X1-JU51', 'sectorSymbol': 'X1', 'type': 'NEUTRON_STAR', 'x': -24621, 'y': 41033, 'waypoints': [], 'factions': []}, {'symbol': 'X1-RS12', 'sectorSymbol': 'X1', 'type': 'ORANGE_STAR', 'x': -20917, 'y': 44495, 'waypoints': [{'symbol': 'X1-RS12-56480X', 'type': 'PLANET', 'x': 41, 'y': 15}, {'symbol': 'X1-RS12-46761A', 'type': 'MOON', 'x': 41, 'y': 15}, {'symbol': 'X1-RS12-36352X', 'type': 'PLANET', 'x': -4, 'y': -47}], 'factions': []}, {'symbol': 'X1-XJ83', 'sectorSymbol': 'X1', 'type': 'BLUE_STAR', 'x': -22637, 'y': 41311, 'waypoints': [{'symbol': 'X1-XJ83-48190E', 'type': 'PLANET', 'x': -11, 'y': 32}, {'symbol': 'X1-XJ83-83281X', 'type': 'PLANET', 'x': 62, 'y': 13}, {'symbol': 'X1-XJ83-06782Z', 'type': 'MOON', 'x': 62, 'y': 13}, {'symbol': 'X1-XJ83-20943D', 'type': 'MOON', 'x': 62, 'y': 13}, {'symbol': 'X1-XJ83-52164D', 'type': 'GAS_GIANT', 'x': 39, 'y': 77}, {'symbol': 'X1-XJ83-25285F', 'type': 'ASTEROID_FIELD', 'x': -91, 'y': 17}], 'factions': []}, {'symbol': 'X1-KA69', 'sectorSymbol': 'X1', 'type': 'ORANGE_STAR', 'x': -21836, 'y': 41430, 'waypoints': [{'symbol': 'X1-KA69-18330B', 'type': 'PLANET', 'x': -23, 'y': -15}, {'symbol': 'X1-KA69-22541B', 'type': 'MOON', 'x': -23, 'y': -15}, {'symbol': 'X1-KA69-14372C', 'type': 'MOON', 'x': -23, 'y': -15}, {'symbol': 'X1-KA69-31723E', 'type': 'PLANET', 'x': 53, 'y': 15}, {'symbol': 'X1-KA69-73734E', 'type': 'MOON', 'x': 53, 'y': 15}, {'symbol': 'X1-KA69-66595A', 'type': 'MOON', 'x': 53, 'y': 15}, {'symbol': 'X1-KA69-59756F', 'type': 'GAS_GIANT', 'x': -67, 'y': -23}, {'symbol': 'X1-KA69-96477D', 'type': 'GAS_GIANT', 'x': -18, 'y': -78}], 'factions': []}, {'symbol': 'X1-RJ27', 'sectorSymbol': 'X1', 'type': 'BLUE_STAR', 'x': -22915, 'y': 40442, 'waypoints': [{'symbol': 'X1-RJ27-49510C', 'type': 'PLANET', 'x': 30, 'y': -3}, {'symbol': 'X1-RJ27-27771F', 'type': 'MOON', 'x': 30, 'y': -3}, {'symbol': 'X1-RJ27-86422A', 'type': 'ASTEROID_FIELD', 'x': -11, 'y': 49}, {'symbol': 'X1-RJ27-24703F', 'type': 'ORBITAL_STATION', 'x': -11, 'y': 49}], 'factions': []}, {'symbol': 'X1-MD60', 'sectorSymbol': 'X1', 'type': 'BLUE_STAR', 'x': -20801, 'y': 42244, 'waypoints': [{'symbol': 'X1-MD60-78490C', 'type': 'PLANET', 'x': -34, 'y': 0}, {'symbol': 'X1-MD60-56341Z', 'type': 'PLANET', 'x': 37, 'y': -31}, {'symbol': 'X1-MD60-73402A', 'type': 'MOON', 'x': 37, 'y': -31}, {'symbol': 'X1-MD60-98323C', 'type': 'MOON', 'x': 37, 'y': -31}, {'symbol': 'X1-MD60-82014A', 'type': 'MOON', 'x': 37, 'y': -31}, {'symbol': 'X1-MD60-35705E', 'type': 'ASTEROID_FIELD', 'x': -49, 'y': 58}], 'factions': []}, {'symbol': 'X1-XU80', 'sectorSymbol': 'X1', 'type': 'YOUNG_STAR', 'x': -43252, 'y': 41184, 'waypoints': [{'symbol': 'X1-XU80-42540F', 'type': 'PLANET', 'x': -33, 'y': 11}, {'symbol': 'X1-XU80-06751A', 'type': 'MOON', 'x': -33, 'y': 11}, {'symbol': 'X1-XU80-39932C', 'type': 'MOON', 'x': -33, 'y': 11}, {'symbol': 'X1-XU80-94653F', 'type': 'MOON', 'x': -33, 'y': 11}, {'symbol': 'X1-XU80-50954D', 'type': 'PLANET', 'x': -2, 'y': -52}, {'symbol': 'X1-XU80-77115E', 'type': 'MOON', 'x': -2, 'y': -52}, {'symbol': 'X1-XU80-88206D', 'type': 'MOON', 'x': -2, 'y': -52}, {'symbol': 'X1-XU80-44637Z', 'type': 'PLANET', 'x': -79, 'y': -4}, {'symbol': 'X1-XU80-77648D', 'type': 'MOON', 'x': -79, 'y': -4}, {'symbol': 'X1-XU80-23079E', 'type': 'MOON', 'x': -79, 'y': -4}, {'symbol': 'X1-XU80-68610X', 'type': 'ASTEROID_FIELD', 'x': 23, 'y': -85}], 'factions': []}]\n"
     ]
    },
    {
     "ename": "TypeError",
     "evalue": "'builtin_function_or_method' object is not iterable",
     "output_type": "error",
     "traceback": [
      "\u001B[1;31m---------------------------------------------------------------------------\u001B[0m",
      "\u001B[1;31mTypeError\u001B[0m                                 Traceback (most recent call last)",
      "Cell \u001B[1;32mIn[30], line 100\u001B[0m\n\u001B[0;32m     97\u001B[0m     systems_list \u001B[38;5;241m=\u001B[39m _depaginate_results(\u001B[38;5;28mlist\u001B[39m(systems_dict\u001B[38;5;241m.\u001B[39mvalues))\n\u001B[0;32m     98\u001B[0m     \u001B[38;5;28;01mreturn\u001B[39;00m systems_list\n\u001B[1;32m--> 100\u001B[0m systems_dict \u001B[38;5;241m=\u001B[39m \u001B[43mget_all_systems_finer_grain\u001B[49m\u001B[43m(\u001B[49m\u001B[43m)\u001B[49m\n\u001B[0;32m    103\u001B[0m \u001B[38;5;66;03m#todo there might be a new step to get this out of a dict \u001B[39;00m\n",
      "Cell \u001B[1;32mIn[30], line 97\u001B[0m, in \u001B[0;36mget_all_systems_finer_grain\u001B[1;34m()\u001B[0m\n\u001B[0;32m     95\u001B[0m         pickle\u001B[38;5;241m.\u001B[39mdump(systems_dict, f)\n\u001B[0;32m     96\u001B[0m     page\u001B[38;5;241m+\u001B[39m\u001B[38;5;241m=\u001B[39m\u001B[38;5;241m1\u001B[39m\n\u001B[1;32m---> 97\u001B[0m systems_list \u001B[38;5;241m=\u001B[39m _depaginate_results(\u001B[38;5;28;43mlist\u001B[39;49m\u001B[43m(\u001B[49m\u001B[43msystems_dict\u001B[49m\u001B[38;5;241;43m.\u001B[39;49m\u001B[43mvalues\u001B[49m\u001B[43m)\u001B[49m)\n\u001B[0;32m     98\u001B[0m \u001B[38;5;28;01mreturn\u001B[39;00m systems_list\n",
      "\u001B[1;31mTypeError\u001B[0m: 'builtin_function_or_method' object is not iterable"
     ]
    }
   ],
   "source": [
    "\"\"\"\n",
    "\n",
    "THIS ONE -- still needs some work, but it's most of the way there\n",
    "\n",
    "\n",
    "\n",
    "\"\"\"\n",
    "\n",
    "\n",
    "import os\n",
    "import pickle\n",
    "from client import client\n",
    "from space_traders_api_client.api.systems import (\n",
    "    get_systems,\n",
    ")\n",
    "from data_decode import data_decode\n",
    "from time import sleep\n",
    "import math \n",
    "\n",
    "def _depaginate_results(paginated_system_list: list[dict]) -> list[dict]:\n",
    "    \"\"\"\n",
    "\n",
    "    just a cleaning step in _get_all_systems\n",
    "\n",
    "    :param paginated_system_list: this is the paginated list returned by get_all_systems\n",
    "    :return: just appending each system in each page of systems into a new unpaginated list\n",
    "    \"\"\"\n",
    "    system_list = []\n",
    "\n",
    "    for i in range(0, len(paginated_system_list) - 1):\n",
    "        for system in paginated_system_list[i]:\n",
    "            system_list.append(system)\n",
    "\n",
    "    return system_list\n",
    "\n",
    "def _depaginate_dict_results(paginated_system_dict: dict) -> list:\n",
    "    \"\"\"\n",
    "    might be trash\n",
    "    \n",
    "    :param paginated_system_dict: \n",
    "    :return: \n",
    "    \"\"\"\n",
    "    system_list = []\n",
    "    for system in paginated_system_dict.values():\n",
    "        print(system)\n",
    "        system_list.append(system)\n",
    "\n",
    "def get_all_systems_finer_grain():\n",
    "    \"\"\"\n",
    "    this doesn't really resume-- it's another page vs id problem \n",
    "    \n",
    "    \n",
    "    :return: \n",
    "    \"\"\"\n",
    "    page = 1 \n",
    "    # systems_list = []\n",
    "    systems_dict = {}\n",
    "    if os.path.isfile(\"in_process_systems_dict.pickle\") is True:\n",
    "        #this should depickle and set page to last key from dict \n",
    "        with open(\"in_process_systems_dict.pickle\", \"rb\") as f:\n",
    "            systems_dict = pickle.load(f)\n",
    "        page = list(systems_dict.keys())[-1]\n",
    "    \n",
    "    elif os.path.isfile(\"in_process_systems_dict.pickle\") is False:\n",
    "        with open(f\"in_process_systems_dict.pickle\", \"wb\") as f:\n",
    "            pickle.dump(systems_dict, f)\n",
    "            \n",
    "    while page < 601:\n",
    "        # with open(\"in_process_systems_list.pickle\", \"rb\") as f:\n",
    "        #     systems_list = pickle.load(f)        \n",
    "        with open(\"in_process_systems_dict.pickle\", \"rb\") as f:\n",
    "            systems_dict = pickle.load(f)\n",
    "        if page % 2 == 0:\n",
    "            sleep(0.5)\n",
    "        get_systems_response = get_systems.sync_detailed(page=page, limit=20, client=client)\n",
    "        print(get_systems_response)\n",
    "        #todo i really need to handle status codes generally\n",
    "        if get_systems_response.status_code in [200, 201]:\n",
    "            #todo lol i'm too tired to round this \n",
    "            print(f\"page {page} of 600, {str((page / 600)*100)[0:6]}%\")\n",
    "            pass\n",
    "        else:\n",
    "            print(get_systems_response)\n",
    "        # depaginated_list = []\n",
    "\n",
    "        # depaginated_list.append(_depaginate_results(systems_list))\n",
    "        # systems_list.append(_depaginate_results(data_decode(get_systems_response.content)))\n",
    "        systems_dict[page] = data_decode(get_systems_response.content)\n",
    "        print(systems_dict[600])\n",
    "        #todo \n",
    "        # with open(f\"in_process_systems_list.pickle\", \"wb\") as f:\n",
    "        #     pickle.dump(systems_list, f)        \n",
    "    \n",
    "        with open(f\"in_process_systems_dict.pickle\", \"wb\") as f:\n",
    "            pickle.dump(systems_dict, f)\n",
    "        page+=1\n",
    "    systems_list = _depaginate_results(list(systems_dict.values))\n",
    "    return systems_list\n",
    "\n",
    "systems_dict = get_all_systems_finer_grain()\n",
    "\n",
    "\n",
    "#todo there might be a new step to get this out of a dict \n"
   ],
   "metadata": {
    "collapsed": false,
    "ExecuteTime": {
     "end_time": "2023-08-01T02:06:32.718136800Z",
     "start_time": "2023-08-01T02:06:30.949662300Z"
    }
   },
   "id": "5cab9eee32b7b874"
  },
  {
   "cell_type": "code",
   "execution_count": 28,
   "outputs": [
    {
     "name": "stdout",
     "output_type": "stream",
     "text": [
      "{'symbol': 'X1-ZZ20', 'sectorSymbol': 'X1', 'type': 'ORANGE_STAR', 'x': -29348, 'y': 44582, 'waypoints': [{'symbol': 'X1-ZZ20-70000E', 'type': 'PLANET', 'x': -31, 'y': 21}, {'symbol': 'X1-ZZ20-43841B', 'type': 'MOON', 'x': -31, 'y': 21}, {'symbol': 'X1-ZZ20-40882Z', 'type': 'MOON', 'x': -31, 'y': 21}, {'symbol': 'X1-ZZ20-15603F', 'type': 'PLANET', 'x': -45, 'y': 7}, {'symbol': 'X1-ZZ20-70584D', 'type': 'MOON', 'x': -45, 'y': 7}, {'symbol': 'X1-ZZ20-51645B', 'type': 'GAS_GIANT', 'x': -6, 'y': 66}, {'symbol': 'X1-ZZ20-18286B', 'type': 'ASTEROID_FIELD', 'x': -62, 'y': -49}], 'factions': []}\n",
      "{'symbol': 'X1-NP68', 'sectorSymbol': 'X1', 'type': 'RED_STAR', 'x': -23673, 'y': 51576, 'waypoints': [{'symbol': 'X1-NP68-94250A', 'type': 'PLANET', 'x': -39, 'y': 15}, {'symbol': 'X1-NP68-32331F', 'type': 'MOON', 'x': -39, 'y': 15}, {'symbol': 'X1-NP68-10912A', 'type': 'PLANET', 'x': 61, 'y': -11}, {'symbol': 'X1-NP68-03173F', 'type': 'MOON', 'x': 61, 'y': -11}, {'symbol': 'X1-NP68-37954F', 'type': 'PLANET', 'x': -67, 'y': 55}, {'symbol': 'X1-NP68-50755X', 'type': 'MOON', 'x': -67, 'y': 55}, {'symbol': 'X1-NP68-55526X', 'type': 'MOON', 'x': -67, 'y': 55}], 'factions': []}\n",
      "{'symbol': 'X1-DR13', 'sectorSymbol': 'X1', 'type': 'RED_STAR', 'x': -23747, 'y': 46329, 'waypoints': [{'symbol': 'X1-DR13-79620B', 'type': 'PLANET', 'x': -18, 'y': -25}, {'symbol': 'X1-DR13-49251B', 'type': 'PLANET', 'x': -47, 'y': 9}, {'symbol': 'X1-DR13-28312C', 'type': 'PLANET', 'x': -77, 'y': -12}, {'symbol': 'X1-DR13-49853X', 'type': 'PLANET', 'x': 22, 'y': -87}, {'symbol': 'X1-DR13-91434C', 'type': 'MOON', 'x': 22, 'y': -87}, {'symbol': 'X1-DR13-86135Z', 'type': 'GAS_GIANT', 'x': 104, 'y': 7}], 'factions': []}\n",
      "{'symbol': 'X1-FA58', 'sectorSymbol': 'X1', 'type': 'NEUTRON_STAR', 'x': -22744, 'y': 51832, 'waypoints': [], 'factions': []}\n",
      "{'symbol': 'X1-MT46', 'sectorSymbol': 'X1', 'type': 'ORANGE_STAR', 'x': -26371, 'y': 43141, 'waypoints': [{'symbol': 'X1-MT46-88250Z', 'type': 'PLANET', 'x': 22, 'y': 32}, {'symbol': 'X1-MT46-92701C', 'type': 'MOON', 'x': 22, 'y': 32}, {'symbol': 'X1-MT46-97852X', 'type': 'PLANET', 'x': -12, 'y': 46}, {'symbol': 'X1-MT46-19543Z', 'type': 'MOON', 'x': -12, 'y': 46}, {'symbol': 'X1-MT46-25924A', 'type': 'GAS_GIANT', 'x': -1, 'y': 51}, {'symbol': 'X1-MT46-30925A', 'type': 'ASTEROID_FIELD', 'x': 56, 'y': -42}, {'symbol': 'X1-MT46-29276Z', 'type': 'JUMP_GATE', 'x': 6, 'y': 99}], 'factions': []}\n",
      "{'symbol': 'X1-PY22', 'sectorSymbol': 'X1', 'type': 'BLACK_HOLE', 'x': -22910, 'y': 46421, 'waypoints': [], 'factions': []}\n",
      "{'symbol': 'X1-TX41', 'sectorSymbol': 'X1', 'type': 'BLUE_STAR', 'x': -22117, 'y': 48426, 'waypoints': [{'symbol': 'X1-TX41-86630B', 'type': 'PLANET', 'x': -28, 'y': 35}, {'symbol': 'X1-TX41-98841Z', 'type': 'MOON', 'x': -28, 'y': 35}, {'symbol': 'X1-TX41-52132X', 'type': 'MOON', 'x': -28, 'y': 35}, {'symbol': 'X1-TX41-90943D', 'type': 'MOON', 'x': -28, 'y': 35}, {'symbol': 'X1-TX41-00194A', 'type': 'PLANET', 'x': 72, 'y': -20}, {'symbol': 'X1-TX41-23505F', 'type': 'MOON', 'x': 72, 'y': -20}, {'symbol': 'X1-TX41-78586X', 'type': 'PLANET', 'x': 80, 'y': 7}, {'symbol': 'X1-TX41-81757F', 'type': 'MOON', 'x': 80, 'y': 7}, {'symbol': 'X1-TX41-68338Z', 'type': 'MOON', 'x': 80, 'y': 7}, {'symbol': 'X1-TX41-04119D', 'type': 'GAS_GIANT', 'x': 12, 'y': 90}, {'symbol': 'X1-TX41-63510E', 'type': 'JUMP_GATE', 'x': -10, 'y': 108}], 'factions': []}\n",
      "{'symbol': 'X1-BH98', 'sectorSymbol': 'X1', 'type': 'ORANGE_STAR', 'x': -22010, 'y': 46758, 'waypoints': [{'symbol': 'X1-BH98-29970A', 'type': 'PLANET', 'x': -37, 'y': -2}, {'symbol': 'X1-BH98-11761C', 'type': 'MOON', 'x': -37, 'y': -2}, {'symbol': 'X1-BH98-29912X', 'type': 'PLANET', 'x': 46, 'y': 3}, {'symbol': 'X1-BH98-40143C', 'type': 'MOON', 'x': 46, 'y': 3}, {'symbol': 'X1-BH98-50504B', 'type': 'GAS_GIANT', 'x': 50, 'y': 58}, {'symbol': 'X1-BH98-84715B', 'type': 'GAS_GIANT', 'x': -78, 'y': -66}], 'factions': []}\n",
      "{'symbol': 'X1-Y21', 'sectorSymbol': 'X1', 'type': 'RED_STAR', 'x': -25630, 'y': 42196, 'waypoints': [{'symbol': 'X1-Y21-34920B', 'type': 'PLANET', 'x': 25, 'y': -36}, {'symbol': 'X1-Y21-89621E', 'type': 'MOON', 'x': 25, 'y': -36}, {'symbol': 'X1-Y21-15132D', 'type': 'PLANET', 'x': 18, 'y': -51}, {'symbol': 'X1-Y21-55463D', 'type': 'MOON', 'x': 18, 'y': -51}, {'symbol': 'X1-Y21-13594Z', 'type': 'GAS_GIANT', 'x': 68, 'y': 22}], 'factions': []}\n",
      "{'symbol': 'X1-VX36', 'sectorSymbol': 'X1', 'type': 'ORANGE_STAR', 'x': -20518, 'y': 50390, 'waypoints': [{'symbol': 'X1-VX36-49010B', 'type': 'PLANET', 'x': -38, 'y': -13}, {'symbol': 'X1-VX36-50241X', 'type': 'MOON', 'x': -38, 'y': -13}, {'symbol': 'X1-VX36-65322Z', 'type': 'MOON', 'x': -38, 'y': -13}, {'symbol': 'X1-VX36-36373A', 'type': 'PLANET', 'x': -71, 'y': 9}, {'symbol': 'X1-VX36-55874D', 'type': 'MOON', 'x': -71, 'y': 9}, {'symbol': 'X1-VX36-08835E', 'type': 'MOON', 'x': -71, 'y': 9}, {'symbol': 'X1-VX36-14116F', 'type': 'PLANET', 'x': -41, 'y': 86}, {'symbol': 'X1-VX36-82097X', 'type': 'MOON', 'x': -41, 'y': 86}, {'symbol': 'X1-VX36-28958D', 'type': 'MOON', 'x': -41, 'y': 86}, {'symbol': 'X1-VX36-57119X', 'type': 'GAS_GIANT', 'x': -90, 'y': 56}, {'symbol': 'X1-VX36-86610B', 'type': 'ASTEROID_FIELD', 'x': 65, 'y': -111}, {'symbol': 'X1-VX36-20911C', 'type': 'ORBITAL_STATION', 'x': 65, 'y': -111}], 'factions': []}\n",
      "{'symbol': 'X1-UC57', 'sectorSymbol': 'X1', 'type': 'ORANGE_STAR', 'x': -26564, 'y': 41060, 'waypoints': [{'symbol': 'X1-UC57-83280D', 'type': 'PLANET', 'x': 22, 'y': -6}, {'symbol': 'X1-UC57-00381D', 'type': 'MOON', 'x': 22, 'y': -6}, {'symbol': 'X1-UC57-50962X', 'type': 'PLANET', 'x': 35, 'y': -9}, {'symbol': 'X1-UC57-56973F', 'type': 'MOON', 'x': 35, 'y': -9}, {'symbol': 'X1-UC57-37884X', 'type': 'PLANET', 'x': 42, 'y': 32}, {'symbol': 'X1-UC57-95025C', 'type': 'MOON', 'x': 42, 'y': 32}, {'symbol': 'X1-UC57-81356F', 'type': 'GAS_GIANT', 'x': 16, 'y': -73}], 'factions': []}\n",
      "{'symbol': 'X1-SN75', 'sectorSymbol': 'X1', 'type': 'NEUTRON_STAR', 'x': -21041, 'y': 45925, 'waypoints': [], 'factions': []}\n",
      "{'symbol': 'X1-QP12', 'sectorSymbol': 'X1', 'type': 'RED_STAR', 'x': -22905, 'y': 42880, 'waypoints': [{'symbol': 'X1-QP12-16510F', 'type': 'PLANET', 'x': -5, 'y': -25}, {'symbol': 'X1-QP12-34031C', 'type': 'PLANET', 'x': 34, 'y': 36}, {'symbol': 'X1-QP12-57712B', 'type': 'MOON', 'x': 34, 'y': 36}, {'symbol': 'X1-QP12-83813E', 'type': 'MOON', 'x': 34, 'y': 36}, {'symbol': 'X1-QP12-68514E', 'type': 'GAS_GIANT', 'x': -52, 'y': -24}, {'symbol': 'X1-QP12-15535Z', 'type': 'ASTEROID_FIELD', 'x': 72, 'y': -46}], 'factions': []}\n",
      "{'symbol': 'X1-JU51', 'sectorSymbol': 'X1', 'type': 'NEUTRON_STAR', 'x': -24621, 'y': 41033, 'waypoints': [], 'factions': []}\n",
      "{'symbol': 'X1-RS12', 'sectorSymbol': 'X1', 'type': 'ORANGE_STAR', 'x': -20917, 'y': 44495, 'waypoints': [{'symbol': 'X1-RS12-56480X', 'type': 'PLANET', 'x': 41, 'y': 15}, {'symbol': 'X1-RS12-46761A', 'type': 'MOON', 'x': 41, 'y': 15}, {'symbol': 'X1-RS12-36352X', 'type': 'PLANET', 'x': -4, 'y': -47}], 'factions': []}\n",
      "{'symbol': 'X1-XJ83', 'sectorSymbol': 'X1', 'type': 'BLUE_STAR', 'x': -22637, 'y': 41311, 'waypoints': [{'symbol': 'X1-XJ83-48190E', 'type': 'PLANET', 'x': -11, 'y': 32}, {'symbol': 'X1-XJ83-83281X', 'type': 'PLANET', 'x': 62, 'y': 13}, {'symbol': 'X1-XJ83-06782Z', 'type': 'MOON', 'x': 62, 'y': 13}, {'symbol': 'X1-XJ83-20943D', 'type': 'MOON', 'x': 62, 'y': 13}, {'symbol': 'X1-XJ83-52164D', 'type': 'GAS_GIANT', 'x': 39, 'y': 77}, {'symbol': 'X1-XJ83-25285F', 'type': 'ASTEROID_FIELD', 'x': -91, 'y': 17}], 'factions': []}\n",
      "{'symbol': 'X1-KA69', 'sectorSymbol': 'X1', 'type': 'ORANGE_STAR', 'x': -21836, 'y': 41430, 'waypoints': [{'symbol': 'X1-KA69-18330B', 'type': 'PLANET', 'x': -23, 'y': -15}, {'symbol': 'X1-KA69-22541B', 'type': 'MOON', 'x': -23, 'y': -15}, {'symbol': 'X1-KA69-14372C', 'type': 'MOON', 'x': -23, 'y': -15}, {'symbol': 'X1-KA69-31723E', 'type': 'PLANET', 'x': 53, 'y': 15}, {'symbol': 'X1-KA69-73734E', 'type': 'MOON', 'x': 53, 'y': 15}, {'symbol': 'X1-KA69-66595A', 'type': 'MOON', 'x': 53, 'y': 15}, {'symbol': 'X1-KA69-59756F', 'type': 'GAS_GIANT', 'x': -67, 'y': -23}, {'symbol': 'X1-KA69-96477D', 'type': 'GAS_GIANT', 'x': -18, 'y': -78}], 'factions': []}\n",
      "{'symbol': 'X1-RJ27', 'sectorSymbol': 'X1', 'type': 'BLUE_STAR', 'x': -22915, 'y': 40442, 'waypoints': [{'symbol': 'X1-RJ27-49510C', 'type': 'PLANET', 'x': 30, 'y': -3}, {'symbol': 'X1-RJ27-27771F', 'type': 'MOON', 'x': 30, 'y': -3}, {'symbol': 'X1-RJ27-86422A', 'type': 'ASTEROID_FIELD', 'x': -11, 'y': 49}, {'symbol': 'X1-RJ27-24703F', 'type': 'ORBITAL_STATION', 'x': -11, 'y': 49}], 'factions': []}\n",
      "{'symbol': 'X1-MD60', 'sectorSymbol': 'X1', 'type': 'BLUE_STAR', 'x': -20801, 'y': 42244, 'waypoints': [{'symbol': 'X1-MD60-78490C', 'type': 'PLANET', 'x': -34, 'y': 0}, {'symbol': 'X1-MD60-56341Z', 'type': 'PLANET', 'x': 37, 'y': -31}, {'symbol': 'X1-MD60-73402A', 'type': 'MOON', 'x': 37, 'y': -31}, {'symbol': 'X1-MD60-98323C', 'type': 'MOON', 'x': 37, 'y': -31}, {'symbol': 'X1-MD60-82014A', 'type': 'MOON', 'x': 37, 'y': -31}, {'symbol': 'X1-MD60-35705E', 'type': 'ASTEROID_FIELD', 'x': -49, 'y': 58}], 'factions': []}\n",
      "{'symbol': 'X1-XU80', 'sectorSymbol': 'X1', 'type': 'YOUNG_STAR', 'x': -43252, 'y': 41184, 'waypoints': [{'symbol': 'X1-XU80-42540F', 'type': 'PLANET', 'x': -33, 'y': 11}, {'symbol': 'X1-XU80-06751A', 'type': 'MOON', 'x': -33, 'y': 11}, {'symbol': 'X1-XU80-39932C', 'type': 'MOON', 'x': -33, 'y': 11}, {'symbol': 'X1-XU80-94653F', 'type': 'MOON', 'x': -33, 'y': 11}, {'symbol': 'X1-XU80-50954D', 'type': 'PLANET', 'x': -2, 'y': -52}, {'symbol': 'X1-XU80-77115E', 'type': 'MOON', 'x': -2, 'y': -52}, {'symbol': 'X1-XU80-88206D', 'type': 'MOON', 'x': -2, 'y': -52}, {'symbol': 'X1-XU80-44637Z', 'type': 'PLANET', 'x': -79, 'y': -4}, {'symbol': 'X1-XU80-77648D', 'type': 'MOON', 'x': -79, 'y': -4}, {'symbol': 'X1-XU80-23079E', 'type': 'MOON', 'x': -79, 'y': -4}, {'symbol': 'X1-XU80-68610X', 'type': 'ASTEROID_FIELD', 'x': 23, 'y': -85}], 'factions': []}\n"
     ]
    }
   ],
   "source": [
    "get_systems_response = get_systems.sync_detailed(page=600, limit=20, client=client)\n",
    "# print(data_decode(get_systems_response.content))\n",
    "uhh = data_decode(get_systems_response.content)\n",
    "system_list = []\n",
    "\n",
    "for system in uhh:\n",
    "    print(system)\n",
    "\n",
    "\n",
    "# for k, v in enumerate(systems_dict.items()):\n",
    "#     print(k, v)\n",
    "\n",
    "# for system in uhh: \n",
    "#     # print(system.values())\n",
    "#     system_list.append(list(system.values()))\n",
    "#     \n",
    "# print(system_list)\n",
    "# print(_depaginate_results(uhh))\n",
    "\n",
    "# #todo i really need to handle status codes generally\n",
    "# if get_systems_response.status_code in [200, 201]:\n",
    "#     #todo lol i'm too tired to round this \n",
    "#     # print(f\"page {page} of 600, {str((page / 600)*100)[0:6]}%\")\n",
    "#     pass\n",
    "# else:\n",
    "    # print(get_systems_response)\n",
    "# depaginated_list = []\n",
    "\n",
    "# depaginated_list.append(_depaginate_results(systems_list))\n",
    "# systems_list.append(_depaginate_results(data_decode(get_systems_response.content)))\n",
    "# systems_dict[600] = _depaginate_results(data_decode(get_systems_response.content))\n",
    "# print(_depaginate_results(data_decode(get_systems_response.content)))\n",
    "# print(systems_dict[600])"
   ],
   "metadata": {
    "collapsed": false,
    "ExecuteTime": {
     "end_time": "2023-08-01T01:43:12.752524500Z",
     "start_time": "2023-08-01T01:43:11.445823500Z"
    }
   },
   "id": "6f666f2a7405c28c"
  },
  {
   "cell_type": "code",
   "execution_count": 9,
   "outputs": [
    {
     "name": "stdout",
     "output_type": "stream",
     "text": [
      "19\n"
     ]
    }
   ],
   "source": [
    "\n",
    "\n",
    "blah_dict = {}\n",
    "for i in range(0, 20):\n",
    "    blah_dict[i] = f'my entire ass {i}'\n",
    "\n",
    "print(list(blah_dict.keys())[-1])\n",
    "\n"
   ],
   "metadata": {
    "collapsed": false,
    "ExecuteTime": {
     "end_time": "2023-07-31T16:26:27.125210400Z",
     "start_time": "2023-07-31T16:26:27.089137800Z"
    }
   },
   "id": "b4b9d62b527e3f1e"
  },
  {
   "cell_type": "code",
   "execution_count": null,
   "outputs": [],
   "source": [
    "\"\"\"\n",
    "should be able to use postgresql instead of the intermediary pickle, but it will need another api call per system, so it's not really\n",
    "a solution to the current timeout problem unless it sleeps about a second per system-- actually the pagination means that you can't lookup \n",
    "the system by id \n",
    "\n",
    "\n",
    "\n",
    "\"\"\"\n",
    "import os\n",
    "import pickle\n",
    "from client import client\n",
    "from space_traders_api_client.api.systems import (\n",
    "    get_systems,\n",
    ")\n",
    "from data_decode import data_decode\n",
    "from time import sleep\n",
    "\n",
    "def _depaginate_results(paginated_system_list: list[dict]) -> list[dict]:\n",
    "    \"\"\"\n",
    "\n",
    "    just a cleaning step in _get_all_systems\n",
    "\n",
    "    :param paginated_system_list: this is the paginated list returned by get_all_systems\n",
    "    :return: just appending each system in each page of systems into a new unpaginated list\n",
    "    \"\"\"\n",
    "    system_list = []\n",
    "\n",
    "    for i in range(0, len(paginated_system_list) - 1):\n",
    "        for system in paginated_system_list[i]:\n",
    "            system_list.append(system)\n",
    "\n",
    "    return system_list\n",
    "\n",
    "def get_systems_to_sql()\n",
    "\n",
    "\n",
    "\n",
    "def system_waypoints_to_sql(system_symbol, waypoint_symbol, waypoint_type, jumpgate_list):\n",
    "\n",
    "\n",
    "\n",
    "\n",
    "\n",
    "\n",
    "\n",
    "\n",
    "\n",
    "\n",
    "\n"
   ],
   "metadata": {
    "collapsed": false
   },
   "id": "82c9567e19ca3f3c"
  },
  {
   "cell_type": "code",
   "execution_count": 17,
   "outputs": [
    {
     "name": "stdout",
     "output_type": "stream",
     "text": [
      "0\n",
      "50\n",
      "100\n",
      "150\n",
      "200\n",
      "250\n",
      "300\n",
      "350\n",
      "400\n",
      "450\n",
      "500\n",
      "550\n",
      "600\n"
     ]
    }
   ],
   "source": [
    "for i in range(0, 650, 50):\n",
    "    print(i)\n",
    "    "
   ],
   "metadata": {
    "collapsed": false,
    "ExecuteTime": {
     "end_time": "2023-07-31T14:44:49.913551400Z",
     "start_time": "2023-07-31T14:44:49.894547Z"
    }
   },
   "id": "eddb5b8b7755c6b4"
  },
  {
   "cell_type": "code",
   "execution_count": null,
   "outputs": [],
   "source": [
    "\n",
    "\"\"\"\n",
    "you're very tired, this might not be the best thing to work on\n",
    "\"\"\"\n",
    "\n",
    "\n",
    "\n",
    "\n",
    "\n",
    "\n",
    "\n",
    "\n",
    "\n",
    "\n",
    "\n"
   ],
   "metadata": {
    "collapsed": false
   },
   "id": "a3a19d3b6d06590"
  }
 ],
 "metadata": {
  "kernelspec": {
   "display_name": "Python 3",
   "language": "python",
   "name": "python3"
  },
  "language_info": {
   "codemirror_mode": {
    "name": "ipython",
    "version": 2
   },
   "file_extension": ".py",
   "mimetype": "text/x-python",
   "name": "python",
   "nbconvert_exporter": "python",
   "pygments_lexer": "ipython2",
   "version": "2.7.6"
  }
 },
 "nbformat": 4,
 "nbformat_minor": 5
}

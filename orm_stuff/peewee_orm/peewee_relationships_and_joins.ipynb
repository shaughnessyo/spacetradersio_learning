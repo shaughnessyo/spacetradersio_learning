{
 "cells": [
  {
   "cell_type": "code",
   "execution_count": null,
   "outputs": [],
   "source": [
    "class SurveyResults(Base):\n",
    "    __tablename__ = \"survey_results\"\n",
    "    id = Column(Integer, primary_key=True)\n",
    "    signature = Column(String)\n",
    "    waypoint_symbol = Column(String)\n",
    "    deposits = Column(String)  # actually a list\n",
    "    expiration = Column(String)  # this is a datetime but i'm not sure how to handle it before it goes into postgresql\n",
    "    # datetime.fromisoformat(\n",
    "    size = Column(String)  # actually an enum i think?\n",
    "    time_stamp = Column('timestamp', TIMESTAMP(timezone=False), nullable=False, default=sa.func.now())"
   ],
   "metadata": {
    "collapsed": false
   }
  },
  {
   "cell_type": "code",
   "execution_count": null,
   "outputs": [],
   "source": [
    "import json\n",
    "# import urllib2\n",
    "from urllib import request\n",
    "from playhouse.postgres_ext import *\n",
    "\n",
    "db = PostgresqlExtDatabase('my_database')\n",
    "\n",
    "class APIResponse(Model):\n",
    "    url = CharField()\n",
    "    response = JSONField()\n",
    "\n",
    "    class Meta:\n",
    "        database = db\n",
    "\n",
    "    @classmethod\n",
    "    def request(cls, url):\n",
    "        fh = urllib.urlopen(url)\n",
    "        return cls.create(url=url, response=json.loads(fh.read()))\n",
    "\n",
    "APIResponse.create_table()\n",
    "\n",
    "# Store a JSON response.\n",
    "offense = APIResponse.request('http://crime-api.com/api/offense/')\n",
    "booking = APIResponse.request('http://crime-api.com/api/booking/')\n",
    "\n",
    "# Query a JSON data structure using a nested key lookup:\n",
    "offense_responses = APIResponse.select().where(\n",
    "    APIResponse.response['meta']['model'] == 'offense')\n",
    "\n",
    "# Retrieve a sub-key for each APIResponse. By calling .as_json(), the\n",
    "# data at the sub-key will be returned as Python objects (dicts, lists,\n",
    "# etc) instead of serialized JSON.\n",
    "q = (APIResponse\n",
    "     .select(\n",
    "       APIResponse.data['booking']['person'].as_json().alias('person'))\n",
    "     .where(APIResponse.data['meta']['model'] == 'booking'))\n",
    "\n",
    "for result in q:\n",
    "    print(result.person['name'], result.person['dob'])"
   ],
   "metadata": {
    "collapsed": false
   }
  },
  {
   "cell_type": "code",
   "execution_count": null,
   "outputs": [],
   "source": [
    "from playhouse.postgres_ext import ArrayField\n",
    "import peewee\n",
    "import datetime\n",
    "from peewee import *\n",
    "from SECRETS import sql_account, sql_pw\n",
    "import logging\n",
    "\n",
    "logger = logging.getLogger('peewee')\n",
    "logger.addHandler(logging.StreamHandler())\n",
    "logger.setLevel(logging.DEBUG)\n",
    "\n",
    "pg_db = peewee.PostgresqlDatabase('spacetraders',\n",
    "                                    user=sql_account,\n",
    "                                    password=sql_pw,\n",
    "                                    host='localhost',\n",
    "                                    port=5432)\n",
    "\n",
    "class BaseModel(Model):\n",
    "    class Meta:\n",
    "        database = pg_db\n",
    "\n",
    "class SurveyResult(BaseModel):\n",
    "    signature = TextField\n",
    "    waypoint_symbol = TextField\n",
    "    expiration = DateTimeField\n",
    "    size = TextField\n",
    "    time_stamp = DateTimeField\n",
    "\n",
    "class Deposit(BaseModel):\n",
    "    signature = ForeignKeyField(SurveyResult, backref='deposits')\n",
    "    survey_deposits = ArrayField(CharField)"
   ],
   "metadata": {
    "collapsed": false
   }
  },
  {
   "cell_type": "code",
   "execution_count": null,
   "outputs": [],
   "source": [
    "\n",
    "\n",
    "\n",
    "\n",
    "\n",
    "\n",
    "\n",
    "\n",
    "\n"
   ],
   "metadata": {
    "collapsed": false
   }
  },
  {
   "cell_type": "code",
   "execution_count": 12,
   "outputs": [
    {
     "name": "stderr",
     "output_type": "stream",
     "text": [
      "('CREATE TABLE IF NOT EXISTS \"user\" (\"id\" SERIAL NOT NULL PRIMARY KEY, \"username\" TEXT NOT NULL)', [])\n",
      "('CREATE TABLE IF NOT EXISTS \"user\" (\"id\" SERIAL NOT NULL PRIMARY KEY, \"username\" TEXT NOT NULL)', [])\n",
      "('CREATE TABLE IF NOT EXISTS \"tweet\" (\"id\" SERIAL NOT NULL PRIMARY KEY, \"content\" TEXT NOT NULL, \"timestamp\" TIMESTAMP NOT NULL, \"user_id\" INTEGER NOT NULL, FOREIGN KEY (\"user_id\") REFERENCES \"user\" (\"id\"))', [])\n",
      "('CREATE TABLE IF NOT EXISTS \"tweet\" (\"id\" SERIAL NOT NULL PRIMARY KEY, \"content\" TEXT NOT NULL, \"timestamp\" TIMESTAMP NOT NULL, \"user_id\" INTEGER NOT NULL, FOREIGN KEY (\"user_id\") REFERENCES \"user\" (\"id\"))', [])\n",
      "('CREATE INDEX IF NOT EXISTS \"tweet_user_id\" ON \"tweet\" (\"user_id\")', [])\n",
      "('CREATE INDEX IF NOT EXISTS \"tweet_user_id\" ON \"tweet\" (\"user_id\")', [])\n",
      "('CREATE TABLE IF NOT EXISTS \"favorite\" (\"id\" SERIAL NOT NULL PRIMARY KEY, \"user_id\" INTEGER NOT NULL, \"tweet_id\" INTEGER NOT NULL, FOREIGN KEY (\"user_id\") REFERENCES \"user\" (\"id\"), FOREIGN KEY (\"tweet_id\") REFERENCES \"tweet\" (\"id\"))', [])\n",
      "('CREATE TABLE IF NOT EXISTS \"favorite\" (\"id\" SERIAL NOT NULL PRIMARY KEY, \"user_id\" INTEGER NOT NULL, \"tweet_id\" INTEGER NOT NULL, FOREIGN KEY (\"user_id\") REFERENCES \"user\" (\"id\"), FOREIGN KEY (\"tweet_id\") REFERENCES \"tweet\" (\"id\"))', [])\n",
      "('CREATE INDEX IF NOT EXISTS \"favorite_user_id\" ON \"favorite\" (\"user_id\")', [])\n",
      "('CREATE INDEX IF NOT EXISTS \"favorite_user_id\" ON \"favorite\" (\"user_id\")', [])\n",
      "('CREATE INDEX IF NOT EXISTS \"favorite_tweet_id\" ON \"favorite\" (\"tweet_id\")', [])\n",
      "('CREATE INDEX IF NOT EXISTS \"favorite_tweet_id\" ON \"favorite\" (\"tweet_id\")', [])\n",
      "('INSERT INTO \"user\" (\"username\") VALUES (%s) RETURNING \"user\".\"id\"', ['huey'])\n",
      "('INSERT INTO \"user\" (\"username\") VALUES (%s) RETURNING \"user\".\"id\"', ['huey'])\n"
     ]
    },
    {
     "ename": "IntegrityError",
     "evalue": "duplicate key value violates unique constraint \"user_username\"\nDETAIL:  Key (username)=(huey) already exists.\n",
     "output_type": "error",
     "traceback": [
      "\u001B[1;31m---------------------------------------------------------------------------\u001B[0m",
      "\u001B[1;31mUniqueViolation\u001B[0m                           Traceback (most recent call last)",
      "File \u001B[1;32m~\\PycharmProjects\\_spacetraders\\venv\\Lib\\site-packages\\peewee.py:3246\u001B[0m, in \u001B[0;36mDatabase.execute_sql\u001B[1;34m(self, sql, params, commit)\u001B[0m\n\u001B[0;32m   3245\u001B[0m     cursor \u001B[38;5;241m=\u001B[39m \u001B[38;5;28mself\u001B[39m\u001B[38;5;241m.\u001B[39mcursor()\n\u001B[1;32m-> 3246\u001B[0m     \u001B[43mcursor\u001B[49m\u001B[38;5;241;43m.\u001B[39;49m\u001B[43mexecute\u001B[49m\u001B[43m(\u001B[49m\u001B[43msql\u001B[49m\u001B[43m,\u001B[49m\u001B[43m \u001B[49m\u001B[43mparams\u001B[49m\u001B[43m \u001B[49m\u001B[38;5;129;43;01mor\u001B[39;49;00m\u001B[43m \u001B[49m\u001B[43m(\u001B[49m\u001B[43m)\u001B[49m\u001B[43m)\u001B[49m\n\u001B[0;32m   3247\u001B[0m \u001B[38;5;28;01mreturn\u001B[39;00m cursor\n",
      "\u001B[1;31mUniqueViolation\u001B[0m: duplicate key value violates unique constraint \"user_username\"\nDETAIL:  Key (username)=(huey) already exists.\n",
      "\nDuring handling of the above exception, another exception occurred:\n",
      "\u001B[1;31mIntegrityError\u001B[0m                            Traceback (most recent call last)",
      "Cell \u001B[1;32mIn[12], line 24\u001B[0m\n\u001B[0;32m     21\u001B[0m             tweet \u001B[38;5;241m=\u001B[39m Tweet\u001B[38;5;241m.\u001B[39mget(Tweet\u001B[38;5;241m.\u001B[39mcontent \u001B[38;5;241m==\u001B[39m content)\n\u001B[0;32m     22\u001B[0m             Favorite\u001B[38;5;241m.\u001B[39mcreate(user\u001B[38;5;241m=\u001B[39muser, tweet\u001B[38;5;241m=\u001B[39mtweet)\n\u001B[1;32m---> 24\u001B[0m \u001B[43mpopulate_test_data\u001B[49m\u001B[43m(\u001B[49m\u001B[43m)\u001B[49m\n",
      "Cell \u001B[1;32mIn[12], line 9\u001B[0m, in \u001B[0;36mpopulate_test_data\u001B[1;34m()\u001B[0m\n\u001B[0;32m      4\u001B[0m data \u001B[38;5;241m=\u001B[39m (\n\u001B[0;32m      5\u001B[0m     (\u001B[38;5;124m'\u001B[39m\u001B[38;5;124mhuey\u001B[39m\u001B[38;5;124m'\u001B[39m, (\u001B[38;5;124m'\u001B[39m\u001B[38;5;124mmeow\u001B[39m\u001B[38;5;124m'\u001B[39m, \u001B[38;5;124m'\u001B[39m\u001B[38;5;124mhiss\u001B[39m\u001B[38;5;124m'\u001B[39m, \u001B[38;5;124m'\u001B[39m\u001B[38;5;124mpurr\u001B[39m\u001B[38;5;124m'\u001B[39m)),\n\u001B[0;32m      6\u001B[0m     (\u001B[38;5;124m'\u001B[39m\u001B[38;5;124mmickey\u001B[39m\u001B[38;5;124m'\u001B[39m, (\u001B[38;5;124m'\u001B[39m\u001B[38;5;124mwoof\u001B[39m\u001B[38;5;124m'\u001B[39m, \u001B[38;5;124m'\u001B[39m\u001B[38;5;124mwhine\u001B[39m\u001B[38;5;124m'\u001B[39m)),\n\u001B[0;32m      7\u001B[0m     (\u001B[38;5;124m'\u001B[39m\u001B[38;5;124mzaizee\u001B[39m\u001B[38;5;124m'\u001B[39m, ()))\n\u001B[0;32m      8\u001B[0m \u001B[38;5;28;01mfor\u001B[39;00m username, tweets \u001B[38;5;129;01min\u001B[39;00m data:\n\u001B[1;32m----> 9\u001B[0m     user \u001B[38;5;241m=\u001B[39m \u001B[43mUser\u001B[49m\u001B[38;5;241;43m.\u001B[39;49m\u001B[43mcreate\u001B[49m\u001B[43m(\u001B[49m\u001B[43musername\u001B[49m\u001B[38;5;241;43m=\u001B[39;49m\u001B[43musername\u001B[49m\u001B[43m)\u001B[49m\n\u001B[0;32m     10\u001B[0m     \u001B[38;5;28;01mfor\u001B[39;00m tweet \u001B[38;5;129;01min\u001B[39;00m tweets:\n\u001B[0;32m     11\u001B[0m         Tweet\u001B[38;5;241m.\u001B[39mcreate(user\u001B[38;5;241m=\u001B[39muser, content\u001B[38;5;241m=\u001B[39mtweet)\n",
      "File \u001B[1;32m~\\PycharmProjects\\_spacetraders\\venv\\Lib\\site-packages\\peewee.py:6577\u001B[0m, in \u001B[0;36mModel.create\u001B[1;34m(cls, **query)\u001B[0m\n\u001B[0;32m   6574\u001B[0m \u001B[38;5;129m@classmethod\u001B[39m\n\u001B[0;32m   6575\u001B[0m \u001B[38;5;28;01mdef\u001B[39;00m \u001B[38;5;21mcreate\u001B[39m(\u001B[38;5;28mcls\u001B[39m, \u001B[38;5;241m*\u001B[39m\u001B[38;5;241m*\u001B[39mquery):\n\u001B[0;32m   6576\u001B[0m     inst \u001B[38;5;241m=\u001B[39m \u001B[38;5;28mcls\u001B[39m(\u001B[38;5;241m*\u001B[39m\u001B[38;5;241m*\u001B[39mquery)\n\u001B[1;32m-> 6577\u001B[0m     \u001B[43minst\u001B[49m\u001B[38;5;241;43m.\u001B[39;49m\u001B[43msave\u001B[49m\u001B[43m(\u001B[49m\u001B[43mforce_insert\u001B[49m\u001B[38;5;241;43m=\u001B[39;49m\u001B[38;5;28;43;01mTrue\u001B[39;49;00m\u001B[43m)\u001B[49m\n\u001B[0;32m   6578\u001B[0m     \u001B[38;5;28;01mreturn\u001B[39;00m inst\n",
      "File \u001B[1;32m~\\PycharmProjects\\_spacetraders\\venv\\Lib\\site-packages\\peewee.py:6787\u001B[0m, in \u001B[0;36mModel.save\u001B[1;34m(self, force_insert, only)\u001B[0m\n\u001B[0;32m   6785\u001B[0m     rows \u001B[38;5;241m=\u001B[39m \u001B[38;5;28mself\u001B[39m\u001B[38;5;241m.\u001B[39mupdate(\u001B[38;5;241m*\u001B[39m\u001B[38;5;241m*\u001B[39mfield_dict)\u001B[38;5;241m.\u001B[39mwhere(\u001B[38;5;28mself\u001B[39m\u001B[38;5;241m.\u001B[39m_pk_expr())\u001B[38;5;241m.\u001B[39mexecute()\n\u001B[0;32m   6786\u001B[0m \u001B[38;5;28;01melif\u001B[39;00m pk_field \u001B[38;5;129;01mis\u001B[39;00m \u001B[38;5;129;01mnot\u001B[39;00m \u001B[38;5;28;01mNone\u001B[39;00m:\n\u001B[1;32m-> 6787\u001B[0m     pk \u001B[38;5;241m=\u001B[39m \u001B[38;5;28;43mself\u001B[39;49m\u001B[38;5;241;43m.\u001B[39;49m\u001B[43minsert\u001B[49m\u001B[43m(\u001B[49m\u001B[38;5;241;43m*\u001B[39;49m\u001B[38;5;241;43m*\u001B[39;49m\u001B[43mfield_dict\u001B[49m\u001B[43m)\u001B[49m\u001B[38;5;241;43m.\u001B[39;49m\u001B[43mexecute\u001B[49m\u001B[43m(\u001B[49m\u001B[43m)\u001B[49m\n\u001B[0;32m   6788\u001B[0m     \u001B[38;5;28;01mif\u001B[39;00m pk \u001B[38;5;129;01mis\u001B[39;00m \u001B[38;5;129;01mnot\u001B[39;00m \u001B[38;5;28;01mNone\u001B[39;00m \u001B[38;5;129;01mand\u001B[39;00m (\u001B[38;5;28mself\u001B[39m\u001B[38;5;241m.\u001B[39m_meta\u001B[38;5;241m.\u001B[39mauto_increment \u001B[38;5;129;01mor\u001B[39;00m\n\u001B[0;32m   6789\u001B[0m                            pk_value \u001B[38;5;129;01mis\u001B[39;00m \u001B[38;5;28;01mNone\u001B[39;00m):\n\u001B[0;32m   6790\u001B[0m         \u001B[38;5;28mself\u001B[39m\u001B[38;5;241m.\u001B[39m_pk \u001B[38;5;241m=\u001B[39m pk\n",
      "File \u001B[1;32m~\\PycharmProjects\\_spacetraders\\venv\\Lib\\site-packages\\peewee.py:1966\u001B[0m, in \u001B[0;36mdatabase_required.<locals>.inner\u001B[1;34m(self, database, *args, **kwargs)\u001B[0m\n\u001B[0;32m   1963\u001B[0m \u001B[38;5;28;01mif\u001B[39;00m \u001B[38;5;129;01mnot\u001B[39;00m database:\n\u001B[0;32m   1964\u001B[0m     \u001B[38;5;28;01mraise\u001B[39;00m InterfaceError(\u001B[38;5;124m'\u001B[39m\u001B[38;5;124mQuery must be bound to a database in order \u001B[39m\u001B[38;5;124m'\u001B[39m\n\u001B[0;32m   1965\u001B[0m                          \u001B[38;5;124m'\u001B[39m\u001B[38;5;124mto call \u001B[39m\u001B[38;5;124m\"\u001B[39m\u001B[38;5;132;01m%s\u001B[39;00m\u001B[38;5;124m\"\u001B[39m\u001B[38;5;124m.\u001B[39m\u001B[38;5;124m'\u001B[39m \u001B[38;5;241m%\u001B[39m method\u001B[38;5;241m.\u001B[39m\u001B[38;5;18m__name__\u001B[39m)\n\u001B[1;32m-> 1966\u001B[0m \u001B[38;5;28;01mreturn\u001B[39;00m \u001B[43mmethod\u001B[49m\u001B[43m(\u001B[49m\u001B[38;5;28;43mself\u001B[39;49m\u001B[43m,\u001B[49m\u001B[43m \u001B[49m\u001B[43mdatabase\u001B[49m\u001B[43m,\u001B[49m\u001B[43m \u001B[49m\u001B[38;5;241;43m*\u001B[39;49m\u001B[43margs\u001B[49m\u001B[43m,\u001B[49m\u001B[43m \u001B[49m\u001B[38;5;241;43m*\u001B[39;49m\u001B[38;5;241;43m*\u001B[39;49m\u001B[43mkwargs\u001B[49m\u001B[43m)\u001B[49m\n",
      "File \u001B[1;32m~\\PycharmProjects\\_spacetraders\\venv\\Lib\\site-packages\\peewee.py:2037\u001B[0m, in \u001B[0;36mBaseQuery.execute\u001B[1;34m(self, database)\u001B[0m\n\u001B[0;32m   2035\u001B[0m \u001B[38;5;129m@database_required\u001B[39m\n\u001B[0;32m   2036\u001B[0m \u001B[38;5;28;01mdef\u001B[39;00m \u001B[38;5;21mexecute\u001B[39m(\u001B[38;5;28mself\u001B[39m, database):\n\u001B[1;32m-> 2037\u001B[0m     \u001B[38;5;28;01mreturn\u001B[39;00m \u001B[38;5;28;43mself\u001B[39;49m\u001B[38;5;241;43m.\u001B[39;49m\u001B[43m_execute\u001B[49m\u001B[43m(\u001B[49m\u001B[43mdatabase\u001B[49m\u001B[43m)\u001B[49m\n",
      "File \u001B[1;32m~\\PycharmProjects\\_spacetraders\\venv\\Lib\\site-packages\\peewee.py:2842\u001B[0m, in \u001B[0;36mInsert._execute\u001B[1;34m(self, database)\u001B[0m\n\u001B[0;32m   2840\u001B[0m     \u001B[38;5;28mself\u001B[39m\u001B[38;5;241m.\u001B[39m_returning \u001B[38;5;241m=\u001B[39m (\u001B[38;5;28mself\u001B[39m\u001B[38;5;241m.\u001B[39mtable\u001B[38;5;241m.\u001B[39m_primary_key,)\n\u001B[0;32m   2841\u001B[0m \u001B[38;5;28;01mtry\u001B[39;00m:\n\u001B[1;32m-> 2842\u001B[0m     \u001B[38;5;28;01mreturn\u001B[39;00m \u001B[38;5;28;43msuper\u001B[39;49m\u001B[43m(\u001B[49m\u001B[43mInsert\u001B[49m\u001B[43m,\u001B[49m\u001B[43m \u001B[49m\u001B[38;5;28;43mself\u001B[39;49m\u001B[43m)\u001B[49m\u001B[38;5;241;43m.\u001B[39;49m\u001B[43m_execute\u001B[49m\u001B[43m(\u001B[49m\u001B[43mdatabase\u001B[49m\u001B[43m)\u001B[49m\n\u001B[0;32m   2843\u001B[0m \u001B[38;5;28;01mexcept\u001B[39;00m \u001B[38;5;28mself\u001B[39m\u001B[38;5;241m.\u001B[39mDefaultValuesException:\n\u001B[0;32m   2844\u001B[0m     \u001B[38;5;28;01mpass\u001B[39;00m\n",
      "File \u001B[1;32m~\\PycharmProjects\\_spacetraders\\venv\\Lib\\site-packages\\peewee.py:2553\u001B[0m, in \u001B[0;36m_WriteQuery._execute\u001B[1;34m(self, database)\u001B[0m\n\u001B[0;32m   2551\u001B[0m \u001B[38;5;28;01mdef\u001B[39;00m \u001B[38;5;21m_execute\u001B[39m(\u001B[38;5;28mself\u001B[39m, database):\n\u001B[0;32m   2552\u001B[0m     \u001B[38;5;28;01mif\u001B[39;00m \u001B[38;5;28mself\u001B[39m\u001B[38;5;241m.\u001B[39m_returning:\n\u001B[1;32m-> 2553\u001B[0m         cursor \u001B[38;5;241m=\u001B[39m \u001B[38;5;28;43mself\u001B[39;49m\u001B[38;5;241;43m.\u001B[39;49m\u001B[43mexecute_returning\u001B[49m\u001B[43m(\u001B[49m\u001B[43mdatabase\u001B[49m\u001B[43m)\u001B[49m\n\u001B[0;32m   2554\u001B[0m     \u001B[38;5;28;01melse\u001B[39;00m:\n\u001B[0;32m   2555\u001B[0m         cursor \u001B[38;5;241m=\u001B[39m database\u001B[38;5;241m.\u001B[39mexecute(\u001B[38;5;28mself\u001B[39m)\n",
      "File \u001B[1;32m~\\PycharmProjects\\_spacetraders\\venv\\Lib\\site-packages\\peewee.py:2560\u001B[0m, in \u001B[0;36m_WriteQuery.execute_returning\u001B[1;34m(self, database)\u001B[0m\n\u001B[0;32m   2558\u001B[0m \u001B[38;5;28;01mdef\u001B[39;00m \u001B[38;5;21mexecute_returning\u001B[39m(\u001B[38;5;28mself\u001B[39m, database):\n\u001B[0;32m   2559\u001B[0m     \u001B[38;5;28;01mif\u001B[39;00m \u001B[38;5;28mself\u001B[39m\u001B[38;5;241m.\u001B[39m_cursor_wrapper \u001B[38;5;129;01mis\u001B[39;00m \u001B[38;5;28;01mNone\u001B[39;00m:\n\u001B[1;32m-> 2560\u001B[0m         cursor \u001B[38;5;241m=\u001B[39m \u001B[43mdatabase\u001B[49m\u001B[38;5;241;43m.\u001B[39;49m\u001B[43mexecute\u001B[49m\u001B[43m(\u001B[49m\u001B[38;5;28;43mself\u001B[39;49m\u001B[43m)\u001B[49m\n\u001B[0;32m   2561\u001B[0m         \u001B[38;5;28mself\u001B[39m\u001B[38;5;241m.\u001B[39m_cursor_wrapper \u001B[38;5;241m=\u001B[39m \u001B[38;5;28mself\u001B[39m\u001B[38;5;241m.\u001B[39m_get_cursor_wrapper(cursor)\n\u001B[0;32m   2562\u001B[0m     \u001B[38;5;28;01mreturn\u001B[39;00m \u001B[38;5;28mself\u001B[39m\u001B[38;5;241m.\u001B[39m_cursor_wrapper\n",
      "File \u001B[1;32m~\\PycharmProjects\\_spacetraders\\venv\\Lib\\site-packages\\peewee.py:3254\u001B[0m, in \u001B[0;36mDatabase.execute\u001B[1;34m(self, query, commit, **context_options)\u001B[0m\n\u001B[0;32m   3252\u001B[0m ctx \u001B[38;5;241m=\u001B[39m \u001B[38;5;28mself\u001B[39m\u001B[38;5;241m.\u001B[39mget_sql_context(\u001B[38;5;241m*\u001B[39m\u001B[38;5;241m*\u001B[39mcontext_options)\n\u001B[0;32m   3253\u001B[0m sql, params \u001B[38;5;241m=\u001B[39m ctx\u001B[38;5;241m.\u001B[39msql(query)\u001B[38;5;241m.\u001B[39mquery()\n\u001B[1;32m-> 3254\u001B[0m \u001B[38;5;28;01mreturn\u001B[39;00m \u001B[38;5;28;43mself\u001B[39;49m\u001B[38;5;241;43m.\u001B[39;49m\u001B[43mexecute_sql\u001B[49m\u001B[43m(\u001B[49m\u001B[43msql\u001B[49m\u001B[43m,\u001B[49m\u001B[43m \u001B[49m\u001B[43mparams\u001B[49m\u001B[43m)\u001B[49m\n",
      "File \u001B[1;32m~\\PycharmProjects\\_spacetraders\\venv\\Lib\\site-packages\\peewee.py:3244\u001B[0m, in \u001B[0;36mDatabase.execute_sql\u001B[1;34m(self, sql, params, commit)\u001B[0m\n\u001B[0;32m   3242\u001B[0m     __deprecated__(\u001B[38;5;124m'\u001B[39m\u001B[38;5;124m\"\u001B[39m\u001B[38;5;124mcommit\u001B[39m\u001B[38;5;124m\"\u001B[39m\u001B[38;5;124m has been deprecated and is a no-op.\u001B[39m\u001B[38;5;124m'\u001B[39m)\n\u001B[0;32m   3243\u001B[0m logger\u001B[38;5;241m.\u001B[39mdebug((sql, params))\n\u001B[1;32m-> 3244\u001B[0m \u001B[43m\u001B[49m\u001B[38;5;28;43;01mwith\u001B[39;49;00m\u001B[43m \u001B[49m\u001B[43m__exception_wrapper__\u001B[49m\u001B[43m:\u001B[49m\n\u001B[0;32m   3245\u001B[0m \u001B[43m    \u001B[49m\u001B[43mcursor\u001B[49m\u001B[43m \u001B[49m\u001B[38;5;241;43m=\u001B[39;49m\u001B[43m \u001B[49m\u001B[38;5;28;43mself\u001B[39;49m\u001B[38;5;241;43m.\u001B[39;49m\u001B[43mcursor\u001B[49m\u001B[43m(\u001B[49m\u001B[43m)\u001B[49m\n\u001B[0;32m   3246\u001B[0m \u001B[43m    \u001B[49m\u001B[43mcursor\u001B[49m\u001B[38;5;241;43m.\u001B[39;49m\u001B[43mexecute\u001B[49m\u001B[43m(\u001B[49m\u001B[43msql\u001B[49m\u001B[43m,\u001B[49m\u001B[43m \u001B[49m\u001B[43mparams\u001B[49m\u001B[43m \u001B[49m\u001B[38;5;129;43;01mor\u001B[39;49;00m\u001B[43m \u001B[49m\u001B[43m(\u001B[49m\u001B[43m)\u001B[49m\u001B[43m)\u001B[49m\n",
      "File \u001B[1;32m~\\PycharmProjects\\_spacetraders\\venv\\Lib\\site-packages\\peewee.py:3014\u001B[0m, in \u001B[0;36mExceptionWrapper.__exit__\u001B[1;34m(self, exc_type, exc_value, traceback)\u001B[0m\n\u001B[0;32m   3012\u001B[0m new_type \u001B[38;5;241m=\u001B[39m \u001B[38;5;28mself\u001B[39m\u001B[38;5;241m.\u001B[39mexceptions[exc_type\u001B[38;5;241m.\u001B[39m\u001B[38;5;18m__name__\u001B[39m]\n\u001B[0;32m   3013\u001B[0m exc_args \u001B[38;5;241m=\u001B[39m exc_value\u001B[38;5;241m.\u001B[39margs\n\u001B[1;32m-> 3014\u001B[0m \u001B[43mreraise\u001B[49m\u001B[43m(\u001B[49m\u001B[43mnew_type\u001B[49m\u001B[43m,\u001B[49m\u001B[43m \u001B[49m\u001B[43mnew_type\u001B[49m\u001B[43m(\u001B[49m\u001B[43mexc_value\u001B[49m\u001B[43m,\u001B[49m\u001B[43m \u001B[49m\u001B[38;5;241;43m*\u001B[39;49m\u001B[43mexc_args\u001B[49m\u001B[43m)\u001B[49m\u001B[43m,\u001B[49m\u001B[43m \u001B[49m\u001B[43mtraceback\u001B[49m\u001B[43m)\u001B[49m\n",
      "File \u001B[1;32m~\\PycharmProjects\\_spacetraders\\venv\\Lib\\site-packages\\peewee.py:192\u001B[0m, in \u001B[0;36mreraise\u001B[1;34m(tp, value, tb)\u001B[0m\n\u001B[0;32m    190\u001B[0m \u001B[38;5;28;01mdef\u001B[39;00m \u001B[38;5;21mreraise\u001B[39m(tp, value, tb\u001B[38;5;241m=\u001B[39m\u001B[38;5;28;01mNone\u001B[39;00m):\n\u001B[0;32m    191\u001B[0m     \u001B[38;5;28;01mif\u001B[39;00m value\u001B[38;5;241m.\u001B[39m__traceback__ \u001B[38;5;129;01mis\u001B[39;00m \u001B[38;5;129;01mnot\u001B[39;00m tb:\n\u001B[1;32m--> 192\u001B[0m         \u001B[38;5;28;01mraise\u001B[39;00m value\u001B[38;5;241m.\u001B[39mwith_traceback(tb)\n\u001B[0;32m    193\u001B[0m     \u001B[38;5;28;01mraise\u001B[39;00m value\n",
      "File \u001B[1;32m~\\PycharmProjects\\_spacetraders\\venv\\Lib\\site-packages\\peewee.py:3246\u001B[0m, in \u001B[0;36mDatabase.execute_sql\u001B[1;34m(self, sql, params, commit)\u001B[0m\n\u001B[0;32m   3244\u001B[0m \u001B[38;5;28;01mwith\u001B[39;00m __exception_wrapper__:\n\u001B[0;32m   3245\u001B[0m     cursor \u001B[38;5;241m=\u001B[39m \u001B[38;5;28mself\u001B[39m\u001B[38;5;241m.\u001B[39mcursor()\n\u001B[1;32m-> 3246\u001B[0m     \u001B[43mcursor\u001B[49m\u001B[38;5;241;43m.\u001B[39;49m\u001B[43mexecute\u001B[49m\u001B[43m(\u001B[49m\u001B[43msql\u001B[49m\u001B[43m,\u001B[49m\u001B[43m \u001B[49m\u001B[43mparams\u001B[49m\u001B[43m \u001B[49m\u001B[38;5;129;43;01mor\u001B[39;49;00m\u001B[43m \u001B[49m\u001B[43m(\u001B[49m\u001B[43m)\u001B[49m\u001B[43m)\u001B[49m\n\u001B[0;32m   3247\u001B[0m \u001B[38;5;28;01mreturn\u001B[39;00m cursor\n",
      "\u001B[1;31mIntegrityError\u001B[0m: duplicate key value violates unique constraint \"user_username\"\nDETAIL:  Key (username)=(huey) already exists.\n"
     ]
    }
   ],
   "source": [
    "def populate_test_data():\n",
    "    pg_db.create_tables([User, Tweet, Favorite])\n",
    "\n",
    "    data = (\n",
    "        ('huey', ('meow', 'hiss', 'purr')),\n",
    "        ('mickey', ('woof', 'whine')),\n",
    "        ('zaizee', ()))\n",
    "    for username, tweets in data:\n",
    "        user = User.create(username=username)\n",
    "        for tweet in tweets:\n",
    "            Tweet.create(user=user, content=tweet)\n",
    "\n",
    "    # Populate a few favorites for our users, such that:\n",
    "    favorite_data = (\n",
    "        ('huey', ['whine']),\n",
    "        ('mickey', ['purr']),\n",
    "        ('zaizee', ['meow', 'purr']))\n",
    "    for username, favorites in favorite_data:\n",
    "        user = User.get(User.username == username)\n",
    "        for content in favorites:\n",
    "            tweet = Tweet.get(Tweet.content == content)\n",
    "            Favorite.create(user=user, tweet=tweet)\n",
    "\n",
    "populate_test_data()"
   ],
   "metadata": {
    "collapsed": false,
    "ExecuteTime": {
     "end_time": "2023-07-25T05:14:14.875252500Z",
     "start_time": "2023-07-25T05:14:13.724513600Z"
    }
   }
  },
  {
   "cell_type": "code",
   "execution_count": 13,
   "metadata": {
    "collapsed": true,
    "ExecuteTime": {
     "end_time": "2023-07-26T21:48:01.177076400Z",
     "start_time": "2023-07-26T21:48:01.152907300Z"
    }
   },
   "outputs": [],
   "source": [
    "import peewee\n",
    "import datetime\n",
    "from peewee import *\n",
    "from SECRETS import sql_account, sql_pw\n",
    "import logging\n",
    "\n",
    "logger = logging.getLogger('peewee')\n",
    "logger.addHandler(logging.StreamHandler())\n",
    "logger.setLevel(logging.DEBUG)\n",
    "\n",
    "pg_db = peewee.PostgresqlDatabase('spacetraders',\n",
    "                                    user=sql_account,\n",
    "                                    password=sql_pw,\n",
    "                                    host='localhost',\n",
    "                                    port=5432)\n",
    "class BaseModel(Model):\n",
    "    class Meta:\n",
    "        database = pg_db\n",
    "\n",
    "class User(BaseModel):\n",
    "    username = TextField()\n",
    "\n",
    "class Tweet(BaseModel):\n",
    "    content = TextField()\n",
    "    timestamp = DateTimeField(default=datetime.datetime.now)\n",
    "    user = ForeignKeyField(User, backref='tweets')\n",
    "\n",
    "class Favorite(BaseModel):\n",
    "    user = ForeignKeyField(User, backref='favorites')\n",
    "    tweet = ForeignKeyField(Tweet, backref='favorites')\n",
    "\n",
    "\n"
   ]
  },
  {
   "cell_type": "code",
   "execution_count": 14,
   "outputs": [
    {
     "name": "stderr",
     "output_type": "stream",
     "text": [
      "('SELECT tablename FROM pg_catalog.pg_tables WHERE schemaname = %s ORDER BY tablename', ('public',))\n",
      "('SELECT tablename FROM pg_catalog.pg_tables WHERE schemaname = %s ORDER BY tablename', ('public',))\n",
      "('SELECT tablename FROM pg_catalog.pg_tables WHERE schemaname = %s ORDER BY tablename', ('public',))\n",
      "('CREATE TABLE IF NOT EXISTS \"tweet\" (\"id\" SERIAL NOT NULL PRIMARY KEY, \"content\" TEXT NOT NULL, \"timestamp\" TIMESTAMP NOT NULL, \"user_id\" INTEGER NOT NULL, FOREIGN KEY (\"user_id\") REFERENCES \"user\" (\"id\"))', [])\n",
      "('CREATE TABLE IF NOT EXISTS \"tweet\" (\"id\" SERIAL NOT NULL PRIMARY KEY, \"content\" TEXT NOT NULL, \"timestamp\" TIMESTAMP NOT NULL, \"user_id\" INTEGER NOT NULL, FOREIGN KEY (\"user_id\") REFERENCES \"user\" (\"id\"))', [])\n",
      "('CREATE TABLE IF NOT EXISTS \"tweet\" (\"id\" SERIAL NOT NULL PRIMARY KEY, \"content\" TEXT NOT NULL, \"timestamp\" TIMESTAMP NOT NULL, \"user_id\" INTEGER NOT NULL, FOREIGN KEY (\"user_id\") REFERENCES \"user\" (\"id\"))', [])\n",
      "('CREATE INDEX IF NOT EXISTS \"tweet_user_id\" ON \"tweet\" (\"user_id\")', [])\n",
      "('CREATE INDEX IF NOT EXISTS \"tweet_user_id\" ON \"tweet\" (\"user_id\")', [])\n",
      "('CREATE INDEX IF NOT EXISTS \"tweet_user_id\" ON \"tweet\" (\"user_id\")', [])\n",
      "('CREATE TABLE IF NOT EXISTS \"favorite\" (\"id\" SERIAL NOT NULL PRIMARY KEY, \"user_id\" INTEGER NOT NULL, \"tweet_id\" INTEGER NOT NULL, FOREIGN KEY (\"user_id\") REFERENCES \"user\" (\"id\"), FOREIGN KEY (\"tweet_id\") REFERENCES \"tweet\" (\"id\"))', [])\n",
      "('CREATE TABLE IF NOT EXISTS \"favorite\" (\"id\" SERIAL NOT NULL PRIMARY KEY, \"user_id\" INTEGER NOT NULL, \"tweet_id\" INTEGER NOT NULL, FOREIGN KEY (\"user_id\") REFERENCES \"user\" (\"id\"), FOREIGN KEY (\"tweet_id\") REFERENCES \"tweet\" (\"id\"))', [])\n",
      "('CREATE TABLE IF NOT EXISTS \"favorite\" (\"id\" SERIAL NOT NULL PRIMARY KEY, \"user_id\" INTEGER NOT NULL, \"tweet_id\" INTEGER NOT NULL, FOREIGN KEY (\"user_id\") REFERENCES \"user\" (\"id\"), FOREIGN KEY (\"tweet_id\") REFERENCES \"tweet\" (\"id\"))', [])\n",
      "('CREATE INDEX IF NOT EXISTS \"favorite_user_id\" ON \"favorite\" (\"user_id\")', [])\n",
      "('CREATE INDEX IF NOT EXISTS \"favorite_user_id\" ON \"favorite\" (\"user_id\")', [])\n",
      "('CREATE INDEX IF NOT EXISTS \"favorite_user_id\" ON \"favorite\" (\"user_id\")', [])\n",
      "('CREATE INDEX IF NOT EXISTS \"favorite_tweet_id\" ON \"favorite\" (\"tweet_id\")', [])\n",
      "('CREATE INDEX IF NOT EXISTS \"favorite_tweet_id\" ON \"favorite\" (\"tweet_id\")', [])\n",
      "('CREATE INDEX IF NOT EXISTS \"favorite_tweet_id\" ON \"favorite\" (\"tweet_id\")', [])\n",
      "('INSERT INTO \"user\" (\"username\") VALUES (%s) RETURNING \"user\".\"id\"', ['huey'])\n",
      "('INSERT INTO \"user\" (\"username\") VALUES (%s) RETURNING \"user\".\"id\"', ['huey'])\n",
      "('INSERT INTO \"user\" (\"username\") VALUES (%s) RETURNING \"user\".\"id\"', ['huey'])\n"
     ]
    },
    {
     "ename": "IntegrityError",
     "evalue": "duplicate key value violates unique constraint \"user_username\"\nDETAIL:  Key (username)=(huey) already exists.\n",
     "output_type": "error",
     "traceback": [
      "\u001B[1;31m---------------------------------------------------------------------------\u001B[0m",
      "\u001B[1;31mUniqueViolation\u001B[0m                           Traceback (most recent call last)",
      "File \u001B[1;32m~\\PycharmProjects\\_spacetraders\\venv\\Lib\\site-packages\\peewee.py:3246\u001B[0m, in \u001B[0;36mDatabase.execute_sql\u001B[1;34m(self, sql, params, commit)\u001B[0m\n\u001B[0;32m   3245\u001B[0m     cursor \u001B[38;5;241m=\u001B[39m \u001B[38;5;28mself\u001B[39m\u001B[38;5;241m.\u001B[39mcursor()\n\u001B[1;32m-> 3246\u001B[0m     \u001B[43mcursor\u001B[49m\u001B[38;5;241;43m.\u001B[39;49m\u001B[43mexecute\u001B[49m\u001B[43m(\u001B[49m\u001B[43msql\u001B[49m\u001B[43m,\u001B[49m\u001B[43m \u001B[49m\u001B[43mparams\u001B[49m\u001B[43m \u001B[49m\u001B[38;5;129;43;01mor\u001B[39;49;00m\u001B[43m \u001B[49m\u001B[43m(\u001B[49m\u001B[43m)\u001B[49m\u001B[43m)\u001B[49m\n\u001B[0;32m   3247\u001B[0m \u001B[38;5;28;01mreturn\u001B[39;00m cursor\n",
      "\u001B[1;31mUniqueViolation\u001B[0m: duplicate key value violates unique constraint \"user_username\"\nDETAIL:  Key (username)=(huey) already exists.\n",
      "\nDuring handling of the above exception, another exception occurred:\n",
      "\u001B[1;31mIntegrityError\u001B[0m                            Traceback (most recent call last)",
      "Cell \u001B[1;32mIn[14], line 24\u001B[0m\n\u001B[0;32m     21\u001B[0m             tweet \u001B[38;5;241m=\u001B[39m Tweet\u001B[38;5;241m.\u001B[39mget(Tweet\u001B[38;5;241m.\u001B[39mcontent \u001B[38;5;241m==\u001B[39m content)\n\u001B[0;32m     22\u001B[0m             Favorite\u001B[38;5;241m.\u001B[39mcreate(user\u001B[38;5;241m=\u001B[39muser, tweet\u001B[38;5;241m=\u001B[39mtweet)\n\u001B[1;32m---> 24\u001B[0m \u001B[43mpopulate_test_data\u001B[49m\u001B[43m(\u001B[49m\u001B[43m)\u001B[49m\n",
      "Cell \u001B[1;32mIn[14], line 9\u001B[0m, in \u001B[0;36mpopulate_test_data\u001B[1;34m()\u001B[0m\n\u001B[0;32m      4\u001B[0m data \u001B[38;5;241m=\u001B[39m (\n\u001B[0;32m      5\u001B[0m     (\u001B[38;5;124m'\u001B[39m\u001B[38;5;124mhuey\u001B[39m\u001B[38;5;124m'\u001B[39m, (\u001B[38;5;124m'\u001B[39m\u001B[38;5;124mmeow\u001B[39m\u001B[38;5;124m'\u001B[39m, \u001B[38;5;124m'\u001B[39m\u001B[38;5;124mhiss\u001B[39m\u001B[38;5;124m'\u001B[39m, \u001B[38;5;124m'\u001B[39m\u001B[38;5;124mpurr\u001B[39m\u001B[38;5;124m'\u001B[39m)),\n\u001B[0;32m      6\u001B[0m     (\u001B[38;5;124m'\u001B[39m\u001B[38;5;124mmickey\u001B[39m\u001B[38;5;124m'\u001B[39m, (\u001B[38;5;124m'\u001B[39m\u001B[38;5;124mwoof\u001B[39m\u001B[38;5;124m'\u001B[39m, \u001B[38;5;124m'\u001B[39m\u001B[38;5;124mwhine\u001B[39m\u001B[38;5;124m'\u001B[39m)),\n\u001B[0;32m      7\u001B[0m     (\u001B[38;5;124m'\u001B[39m\u001B[38;5;124mzaizee\u001B[39m\u001B[38;5;124m'\u001B[39m, ()))\n\u001B[0;32m      8\u001B[0m \u001B[38;5;28;01mfor\u001B[39;00m username, tweets \u001B[38;5;129;01min\u001B[39;00m data:\n\u001B[1;32m----> 9\u001B[0m     user \u001B[38;5;241m=\u001B[39m \u001B[43mUser\u001B[49m\u001B[38;5;241;43m.\u001B[39;49m\u001B[43mcreate\u001B[49m\u001B[43m(\u001B[49m\u001B[43musername\u001B[49m\u001B[38;5;241;43m=\u001B[39;49m\u001B[43musername\u001B[49m\u001B[43m)\u001B[49m\n\u001B[0;32m     10\u001B[0m     \u001B[38;5;28;01mfor\u001B[39;00m tweet \u001B[38;5;129;01min\u001B[39;00m tweets:\n\u001B[0;32m     11\u001B[0m         Tweet\u001B[38;5;241m.\u001B[39mcreate(user\u001B[38;5;241m=\u001B[39muser, content\u001B[38;5;241m=\u001B[39mtweet)\n",
      "File \u001B[1;32m~\\PycharmProjects\\_spacetraders\\venv\\Lib\\site-packages\\peewee.py:6577\u001B[0m, in \u001B[0;36mModel.create\u001B[1;34m(cls, **query)\u001B[0m\n\u001B[0;32m   6574\u001B[0m \u001B[38;5;129m@classmethod\u001B[39m\n\u001B[0;32m   6575\u001B[0m \u001B[38;5;28;01mdef\u001B[39;00m \u001B[38;5;21mcreate\u001B[39m(\u001B[38;5;28mcls\u001B[39m, \u001B[38;5;241m*\u001B[39m\u001B[38;5;241m*\u001B[39mquery):\n\u001B[0;32m   6576\u001B[0m     inst \u001B[38;5;241m=\u001B[39m \u001B[38;5;28mcls\u001B[39m(\u001B[38;5;241m*\u001B[39m\u001B[38;5;241m*\u001B[39mquery)\n\u001B[1;32m-> 6577\u001B[0m     \u001B[43minst\u001B[49m\u001B[38;5;241;43m.\u001B[39;49m\u001B[43msave\u001B[49m\u001B[43m(\u001B[49m\u001B[43mforce_insert\u001B[49m\u001B[38;5;241;43m=\u001B[39;49m\u001B[38;5;28;43;01mTrue\u001B[39;49;00m\u001B[43m)\u001B[49m\n\u001B[0;32m   6578\u001B[0m     \u001B[38;5;28;01mreturn\u001B[39;00m inst\n",
      "File \u001B[1;32m~\\PycharmProjects\\_spacetraders\\venv\\Lib\\site-packages\\peewee.py:6787\u001B[0m, in \u001B[0;36mModel.save\u001B[1;34m(self, force_insert, only)\u001B[0m\n\u001B[0;32m   6785\u001B[0m     rows \u001B[38;5;241m=\u001B[39m \u001B[38;5;28mself\u001B[39m\u001B[38;5;241m.\u001B[39mupdate(\u001B[38;5;241m*\u001B[39m\u001B[38;5;241m*\u001B[39mfield_dict)\u001B[38;5;241m.\u001B[39mwhere(\u001B[38;5;28mself\u001B[39m\u001B[38;5;241m.\u001B[39m_pk_expr())\u001B[38;5;241m.\u001B[39mexecute()\n\u001B[0;32m   6786\u001B[0m \u001B[38;5;28;01melif\u001B[39;00m pk_field \u001B[38;5;129;01mis\u001B[39;00m \u001B[38;5;129;01mnot\u001B[39;00m \u001B[38;5;28;01mNone\u001B[39;00m:\n\u001B[1;32m-> 6787\u001B[0m     pk \u001B[38;5;241m=\u001B[39m \u001B[38;5;28;43mself\u001B[39;49m\u001B[38;5;241;43m.\u001B[39;49m\u001B[43minsert\u001B[49m\u001B[43m(\u001B[49m\u001B[38;5;241;43m*\u001B[39;49m\u001B[38;5;241;43m*\u001B[39;49m\u001B[43mfield_dict\u001B[49m\u001B[43m)\u001B[49m\u001B[38;5;241;43m.\u001B[39;49m\u001B[43mexecute\u001B[49m\u001B[43m(\u001B[49m\u001B[43m)\u001B[49m\n\u001B[0;32m   6788\u001B[0m     \u001B[38;5;28;01mif\u001B[39;00m pk \u001B[38;5;129;01mis\u001B[39;00m \u001B[38;5;129;01mnot\u001B[39;00m \u001B[38;5;28;01mNone\u001B[39;00m \u001B[38;5;129;01mand\u001B[39;00m (\u001B[38;5;28mself\u001B[39m\u001B[38;5;241m.\u001B[39m_meta\u001B[38;5;241m.\u001B[39mauto_increment \u001B[38;5;129;01mor\u001B[39;00m\n\u001B[0;32m   6789\u001B[0m                            pk_value \u001B[38;5;129;01mis\u001B[39;00m \u001B[38;5;28;01mNone\u001B[39;00m):\n\u001B[0;32m   6790\u001B[0m         \u001B[38;5;28mself\u001B[39m\u001B[38;5;241m.\u001B[39m_pk \u001B[38;5;241m=\u001B[39m pk\n",
      "File \u001B[1;32m~\\PycharmProjects\\_spacetraders\\venv\\Lib\\site-packages\\peewee.py:1966\u001B[0m, in \u001B[0;36mdatabase_required.<locals>.inner\u001B[1;34m(self, database, *args, **kwargs)\u001B[0m\n\u001B[0;32m   1963\u001B[0m \u001B[38;5;28;01mif\u001B[39;00m \u001B[38;5;129;01mnot\u001B[39;00m database:\n\u001B[0;32m   1964\u001B[0m     \u001B[38;5;28;01mraise\u001B[39;00m InterfaceError(\u001B[38;5;124m'\u001B[39m\u001B[38;5;124mQuery must be bound to a database in order \u001B[39m\u001B[38;5;124m'\u001B[39m\n\u001B[0;32m   1965\u001B[0m                          \u001B[38;5;124m'\u001B[39m\u001B[38;5;124mto call \u001B[39m\u001B[38;5;124m\"\u001B[39m\u001B[38;5;132;01m%s\u001B[39;00m\u001B[38;5;124m\"\u001B[39m\u001B[38;5;124m.\u001B[39m\u001B[38;5;124m'\u001B[39m \u001B[38;5;241m%\u001B[39m method\u001B[38;5;241m.\u001B[39m\u001B[38;5;18m__name__\u001B[39m)\n\u001B[1;32m-> 1966\u001B[0m \u001B[38;5;28;01mreturn\u001B[39;00m \u001B[43mmethod\u001B[49m\u001B[43m(\u001B[49m\u001B[38;5;28;43mself\u001B[39;49m\u001B[43m,\u001B[49m\u001B[43m \u001B[49m\u001B[43mdatabase\u001B[49m\u001B[43m,\u001B[49m\u001B[43m \u001B[49m\u001B[38;5;241;43m*\u001B[39;49m\u001B[43margs\u001B[49m\u001B[43m,\u001B[49m\u001B[43m \u001B[49m\u001B[38;5;241;43m*\u001B[39;49m\u001B[38;5;241;43m*\u001B[39;49m\u001B[43mkwargs\u001B[49m\u001B[43m)\u001B[49m\n",
      "File \u001B[1;32m~\\PycharmProjects\\_spacetraders\\venv\\Lib\\site-packages\\peewee.py:2037\u001B[0m, in \u001B[0;36mBaseQuery.execute\u001B[1;34m(self, database)\u001B[0m\n\u001B[0;32m   2035\u001B[0m \u001B[38;5;129m@database_required\u001B[39m\n\u001B[0;32m   2036\u001B[0m \u001B[38;5;28;01mdef\u001B[39;00m \u001B[38;5;21mexecute\u001B[39m(\u001B[38;5;28mself\u001B[39m, database):\n\u001B[1;32m-> 2037\u001B[0m     \u001B[38;5;28;01mreturn\u001B[39;00m \u001B[38;5;28;43mself\u001B[39;49m\u001B[38;5;241;43m.\u001B[39;49m\u001B[43m_execute\u001B[49m\u001B[43m(\u001B[49m\u001B[43mdatabase\u001B[49m\u001B[43m)\u001B[49m\n",
      "File \u001B[1;32m~\\PycharmProjects\\_spacetraders\\venv\\Lib\\site-packages\\peewee.py:2842\u001B[0m, in \u001B[0;36mInsert._execute\u001B[1;34m(self, database)\u001B[0m\n\u001B[0;32m   2840\u001B[0m     \u001B[38;5;28mself\u001B[39m\u001B[38;5;241m.\u001B[39m_returning \u001B[38;5;241m=\u001B[39m (\u001B[38;5;28mself\u001B[39m\u001B[38;5;241m.\u001B[39mtable\u001B[38;5;241m.\u001B[39m_primary_key,)\n\u001B[0;32m   2841\u001B[0m \u001B[38;5;28;01mtry\u001B[39;00m:\n\u001B[1;32m-> 2842\u001B[0m     \u001B[38;5;28;01mreturn\u001B[39;00m \u001B[38;5;28;43msuper\u001B[39;49m\u001B[43m(\u001B[49m\u001B[43mInsert\u001B[49m\u001B[43m,\u001B[49m\u001B[43m \u001B[49m\u001B[38;5;28;43mself\u001B[39;49m\u001B[43m)\u001B[49m\u001B[38;5;241;43m.\u001B[39;49m\u001B[43m_execute\u001B[49m\u001B[43m(\u001B[49m\u001B[43mdatabase\u001B[49m\u001B[43m)\u001B[49m\n\u001B[0;32m   2843\u001B[0m \u001B[38;5;28;01mexcept\u001B[39;00m \u001B[38;5;28mself\u001B[39m\u001B[38;5;241m.\u001B[39mDefaultValuesException:\n\u001B[0;32m   2844\u001B[0m     \u001B[38;5;28;01mpass\u001B[39;00m\n",
      "File \u001B[1;32m~\\PycharmProjects\\_spacetraders\\venv\\Lib\\site-packages\\peewee.py:2553\u001B[0m, in \u001B[0;36m_WriteQuery._execute\u001B[1;34m(self, database)\u001B[0m\n\u001B[0;32m   2551\u001B[0m \u001B[38;5;28;01mdef\u001B[39;00m \u001B[38;5;21m_execute\u001B[39m(\u001B[38;5;28mself\u001B[39m, database):\n\u001B[0;32m   2552\u001B[0m     \u001B[38;5;28;01mif\u001B[39;00m \u001B[38;5;28mself\u001B[39m\u001B[38;5;241m.\u001B[39m_returning:\n\u001B[1;32m-> 2553\u001B[0m         cursor \u001B[38;5;241m=\u001B[39m \u001B[38;5;28;43mself\u001B[39;49m\u001B[38;5;241;43m.\u001B[39;49m\u001B[43mexecute_returning\u001B[49m\u001B[43m(\u001B[49m\u001B[43mdatabase\u001B[49m\u001B[43m)\u001B[49m\n\u001B[0;32m   2554\u001B[0m     \u001B[38;5;28;01melse\u001B[39;00m:\n\u001B[0;32m   2555\u001B[0m         cursor \u001B[38;5;241m=\u001B[39m database\u001B[38;5;241m.\u001B[39mexecute(\u001B[38;5;28mself\u001B[39m)\n",
      "File \u001B[1;32m~\\PycharmProjects\\_spacetraders\\venv\\Lib\\site-packages\\peewee.py:2560\u001B[0m, in \u001B[0;36m_WriteQuery.execute_returning\u001B[1;34m(self, database)\u001B[0m\n\u001B[0;32m   2558\u001B[0m \u001B[38;5;28;01mdef\u001B[39;00m \u001B[38;5;21mexecute_returning\u001B[39m(\u001B[38;5;28mself\u001B[39m, database):\n\u001B[0;32m   2559\u001B[0m     \u001B[38;5;28;01mif\u001B[39;00m \u001B[38;5;28mself\u001B[39m\u001B[38;5;241m.\u001B[39m_cursor_wrapper \u001B[38;5;129;01mis\u001B[39;00m \u001B[38;5;28;01mNone\u001B[39;00m:\n\u001B[1;32m-> 2560\u001B[0m         cursor \u001B[38;5;241m=\u001B[39m \u001B[43mdatabase\u001B[49m\u001B[38;5;241;43m.\u001B[39;49m\u001B[43mexecute\u001B[49m\u001B[43m(\u001B[49m\u001B[38;5;28;43mself\u001B[39;49m\u001B[43m)\u001B[49m\n\u001B[0;32m   2561\u001B[0m         \u001B[38;5;28mself\u001B[39m\u001B[38;5;241m.\u001B[39m_cursor_wrapper \u001B[38;5;241m=\u001B[39m \u001B[38;5;28mself\u001B[39m\u001B[38;5;241m.\u001B[39m_get_cursor_wrapper(cursor)\n\u001B[0;32m   2562\u001B[0m     \u001B[38;5;28;01mreturn\u001B[39;00m \u001B[38;5;28mself\u001B[39m\u001B[38;5;241m.\u001B[39m_cursor_wrapper\n",
      "File \u001B[1;32m~\\PycharmProjects\\_spacetraders\\venv\\Lib\\site-packages\\peewee.py:3254\u001B[0m, in \u001B[0;36mDatabase.execute\u001B[1;34m(self, query, commit, **context_options)\u001B[0m\n\u001B[0;32m   3252\u001B[0m ctx \u001B[38;5;241m=\u001B[39m \u001B[38;5;28mself\u001B[39m\u001B[38;5;241m.\u001B[39mget_sql_context(\u001B[38;5;241m*\u001B[39m\u001B[38;5;241m*\u001B[39mcontext_options)\n\u001B[0;32m   3253\u001B[0m sql, params \u001B[38;5;241m=\u001B[39m ctx\u001B[38;5;241m.\u001B[39msql(query)\u001B[38;5;241m.\u001B[39mquery()\n\u001B[1;32m-> 3254\u001B[0m \u001B[38;5;28;01mreturn\u001B[39;00m \u001B[38;5;28;43mself\u001B[39;49m\u001B[38;5;241;43m.\u001B[39;49m\u001B[43mexecute_sql\u001B[49m\u001B[43m(\u001B[49m\u001B[43msql\u001B[49m\u001B[43m,\u001B[49m\u001B[43m \u001B[49m\u001B[43mparams\u001B[49m\u001B[43m)\u001B[49m\n",
      "File \u001B[1;32m~\\PycharmProjects\\_spacetraders\\venv\\Lib\\site-packages\\peewee.py:3244\u001B[0m, in \u001B[0;36mDatabase.execute_sql\u001B[1;34m(self, sql, params, commit)\u001B[0m\n\u001B[0;32m   3242\u001B[0m     __deprecated__(\u001B[38;5;124m'\u001B[39m\u001B[38;5;124m\"\u001B[39m\u001B[38;5;124mcommit\u001B[39m\u001B[38;5;124m\"\u001B[39m\u001B[38;5;124m has been deprecated and is a no-op.\u001B[39m\u001B[38;5;124m'\u001B[39m)\n\u001B[0;32m   3243\u001B[0m logger\u001B[38;5;241m.\u001B[39mdebug((sql, params))\n\u001B[1;32m-> 3244\u001B[0m \u001B[43m\u001B[49m\u001B[38;5;28;43;01mwith\u001B[39;49;00m\u001B[43m \u001B[49m\u001B[43m__exception_wrapper__\u001B[49m\u001B[43m:\u001B[49m\n\u001B[0;32m   3245\u001B[0m \u001B[43m    \u001B[49m\u001B[43mcursor\u001B[49m\u001B[43m \u001B[49m\u001B[38;5;241;43m=\u001B[39;49m\u001B[43m \u001B[49m\u001B[38;5;28;43mself\u001B[39;49m\u001B[38;5;241;43m.\u001B[39;49m\u001B[43mcursor\u001B[49m\u001B[43m(\u001B[49m\u001B[43m)\u001B[49m\n\u001B[0;32m   3246\u001B[0m \u001B[43m    \u001B[49m\u001B[43mcursor\u001B[49m\u001B[38;5;241;43m.\u001B[39;49m\u001B[43mexecute\u001B[49m\u001B[43m(\u001B[49m\u001B[43msql\u001B[49m\u001B[43m,\u001B[49m\u001B[43m \u001B[49m\u001B[43mparams\u001B[49m\u001B[43m \u001B[49m\u001B[38;5;129;43;01mor\u001B[39;49;00m\u001B[43m \u001B[49m\u001B[43m(\u001B[49m\u001B[43m)\u001B[49m\u001B[43m)\u001B[49m\n",
      "File \u001B[1;32m~\\PycharmProjects\\_spacetraders\\venv\\Lib\\site-packages\\peewee.py:3014\u001B[0m, in \u001B[0;36mExceptionWrapper.__exit__\u001B[1;34m(self, exc_type, exc_value, traceback)\u001B[0m\n\u001B[0;32m   3012\u001B[0m new_type \u001B[38;5;241m=\u001B[39m \u001B[38;5;28mself\u001B[39m\u001B[38;5;241m.\u001B[39mexceptions[exc_type\u001B[38;5;241m.\u001B[39m\u001B[38;5;18m__name__\u001B[39m]\n\u001B[0;32m   3013\u001B[0m exc_args \u001B[38;5;241m=\u001B[39m exc_value\u001B[38;5;241m.\u001B[39margs\n\u001B[1;32m-> 3014\u001B[0m \u001B[43mreraise\u001B[49m\u001B[43m(\u001B[49m\u001B[43mnew_type\u001B[49m\u001B[43m,\u001B[49m\u001B[43m \u001B[49m\u001B[43mnew_type\u001B[49m\u001B[43m(\u001B[49m\u001B[43mexc_value\u001B[49m\u001B[43m,\u001B[49m\u001B[43m \u001B[49m\u001B[38;5;241;43m*\u001B[39;49m\u001B[43mexc_args\u001B[49m\u001B[43m)\u001B[49m\u001B[43m,\u001B[49m\u001B[43m \u001B[49m\u001B[43mtraceback\u001B[49m\u001B[43m)\u001B[49m\n",
      "File \u001B[1;32m~\\PycharmProjects\\_spacetraders\\venv\\Lib\\site-packages\\peewee.py:192\u001B[0m, in \u001B[0;36mreraise\u001B[1;34m(tp, value, tb)\u001B[0m\n\u001B[0;32m    190\u001B[0m \u001B[38;5;28;01mdef\u001B[39;00m \u001B[38;5;21mreraise\u001B[39m(tp, value, tb\u001B[38;5;241m=\u001B[39m\u001B[38;5;28;01mNone\u001B[39;00m):\n\u001B[0;32m    191\u001B[0m     \u001B[38;5;28;01mif\u001B[39;00m value\u001B[38;5;241m.\u001B[39m__traceback__ \u001B[38;5;129;01mis\u001B[39;00m \u001B[38;5;129;01mnot\u001B[39;00m tb:\n\u001B[1;32m--> 192\u001B[0m         \u001B[38;5;28;01mraise\u001B[39;00m value\u001B[38;5;241m.\u001B[39mwith_traceback(tb)\n\u001B[0;32m    193\u001B[0m     \u001B[38;5;28;01mraise\u001B[39;00m value\n",
      "File \u001B[1;32m~\\PycharmProjects\\_spacetraders\\venv\\Lib\\site-packages\\peewee.py:3246\u001B[0m, in \u001B[0;36mDatabase.execute_sql\u001B[1;34m(self, sql, params, commit)\u001B[0m\n\u001B[0;32m   3244\u001B[0m \u001B[38;5;28;01mwith\u001B[39;00m __exception_wrapper__:\n\u001B[0;32m   3245\u001B[0m     cursor \u001B[38;5;241m=\u001B[39m \u001B[38;5;28mself\u001B[39m\u001B[38;5;241m.\u001B[39mcursor()\n\u001B[1;32m-> 3246\u001B[0m     \u001B[43mcursor\u001B[49m\u001B[38;5;241;43m.\u001B[39;49m\u001B[43mexecute\u001B[49m\u001B[43m(\u001B[49m\u001B[43msql\u001B[49m\u001B[43m,\u001B[49m\u001B[43m \u001B[49m\u001B[43mparams\u001B[49m\u001B[43m \u001B[49m\u001B[38;5;129;43;01mor\u001B[39;49;00m\u001B[43m \u001B[49m\u001B[43m(\u001B[49m\u001B[43m)\u001B[49m\u001B[43m)\u001B[49m\n\u001B[0;32m   3247\u001B[0m \u001B[38;5;28;01mreturn\u001B[39;00m cursor\n",
      "\u001B[1;31mIntegrityError\u001B[0m: duplicate key value violates unique constraint \"user_username\"\nDETAIL:  Key (username)=(huey) already exists.\n"
     ]
    }
   ],
   "source": [
    "def populate_test_data():\n",
    "    pg_db.create_tables([User, Tweet, Favorite])\n",
    "\n",
    "    data = (\n",
    "        ('huey', ('meow', 'hiss', 'purr')),\n",
    "        ('mickey', ('woof', 'whine')),\n",
    "        ('zaizee', ()))\n",
    "    for username, tweets in data:\n",
    "        user = User.create(username=username)\n",
    "        for tweet in tweets:\n",
    "            Tweet.create(user=user, content=tweet)\n",
    "\n",
    "    # Populate a few favorites for our users, such that:\n",
    "    favorite_data = (\n",
    "        ('huey', ['whine']),\n",
    "        ('mickey', ['purr']),\n",
    "        ('zaizee', ['meow', 'purr']))\n",
    "    for username, favorites in favorite_data:\n",
    "        user = User.get(User.username == username)\n",
    "        for content in favorites:\n",
    "            tweet = Tweet.get(Tweet.content == content)\n",
    "            Favorite.create(user=user, tweet=tweet)\n",
    "\n",
    "populate_test_data()"
   ],
   "metadata": {
    "collapsed": false,
    "ExecuteTime": {
     "end_time": "2023-07-26T21:48:02.642034300Z",
     "start_time": "2023-07-26T21:48:02.422268Z"
    }
   }
  },
  {
   "cell_type": "code",
   "execution_count": 19,
   "outputs": [
    {
     "name": "stderr",
     "output_type": "stream",
     "text": [
      "('SELECT \"t1\".\"id\", \"t1\".\"content\", \"t1\".\"timestamp\", \"t1\".\"user_id\" FROM \"tweet\" AS \"t1\" INNER JOIN \"user\" AS \"t2\" ON (\"t1\".\"user_id\" = \"t2\".\"id\")', [])\n",
      "('SELECT \"t1\".\"id\", \"t1\".\"content\", \"t1\".\"timestamp\", \"t1\".\"user_id\" FROM \"tweet\" AS \"t1\" INNER JOIN \"user\" AS \"t2\" ON (\"t1\".\"user_id\" = \"t2\".\"id\")', [])\n",
      "('SELECT \"t1\".\"id\", \"t1\".\"content\", \"t1\".\"timestamp\", \"t1\".\"user_id\" FROM \"tweet\" AS \"t1\" INNER JOIN \"user\" AS \"t2\" ON (\"t1\".\"user_id\" = \"t2\".\"id\")', [])\n",
      "('SELECT \"t1\".\"id\", \"t1\".\"username\" FROM \"user\" AS \"t1\" WHERE (\"t1\".\"id\" = %s) LIMIT %s OFFSET %s', [1, 1, 0])\n",
      "('SELECT \"t1\".\"id\", \"t1\".\"username\" FROM \"user\" AS \"t1\" WHERE (\"t1\".\"id\" = %s) LIMIT %s OFFSET %s', [1, 1, 0])\n",
      "('SELECT \"t1\".\"id\", \"t1\".\"username\" FROM \"user\" AS \"t1\" WHERE (\"t1\".\"id\" = %s) LIMIT %s OFFSET %s', [1, 1, 0])\n",
      "('SELECT \"t1\".\"id\", \"t1\".\"username\" FROM \"user\" AS \"t1\" WHERE (\"t1\".\"id\" = %s) LIMIT %s OFFSET %s', [1, 1, 0])\n",
      "('SELECT \"t1\".\"id\", \"t1\".\"username\" FROM \"user\" AS \"t1\" WHERE (\"t1\".\"id\" = %s) LIMIT %s OFFSET %s', [1, 1, 0])\n",
      "('SELECT \"t1\".\"id\", \"t1\".\"username\" FROM \"user\" AS \"t1\" WHERE (\"t1\".\"id\" = %s) LIMIT %s OFFSET %s', [1, 1, 0])\n",
      "('SELECT \"t1\".\"id\", \"t1\".\"username\" FROM \"user\" AS \"t1\" WHERE (\"t1\".\"id\" = %s) LIMIT %s OFFSET %s', [1, 1, 0])\n",
      "('SELECT \"t1\".\"id\", \"t1\".\"username\" FROM \"user\" AS \"t1\" WHERE (\"t1\".\"id\" = %s) LIMIT %s OFFSET %s', [1, 1, 0])\n",
      "('SELECT \"t1\".\"id\", \"t1\".\"username\" FROM \"user\" AS \"t1\" WHERE (\"t1\".\"id\" = %s) LIMIT %s OFFSET %s', [1, 1, 0])\n",
      "('SELECT \"t1\".\"id\", \"t1\".\"username\" FROM \"user\" AS \"t1\" WHERE (\"t1\".\"id\" = %s) LIMIT %s OFFSET %s', [2, 1, 0])\n",
      "('SELECT \"t1\".\"id\", \"t1\".\"username\" FROM \"user\" AS \"t1\" WHERE (\"t1\".\"id\" = %s) LIMIT %s OFFSET %s', [2, 1, 0])\n",
      "('SELECT \"t1\".\"id\", \"t1\".\"username\" FROM \"user\" AS \"t1\" WHERE (\"t1\".\"id\" = %s) LIMIT %s OFFSET %s', [2, 1, 0])\n",
      "('SELECT \"t1\".\"id\", \"t1\".\"username\" FROM \"user\" AS \"t1\" WHERE (\"t1\".\"id\" = %s) LIMIT %s OFFSET %s', [2, 1, 0])\n",
      "('SELECT \"t1\".\"id\", \"t1\".\"username\" FROM \"user\" AS \"t1\" WHERE (\"t1\".\"id\" = %s) LIMIT %s OFFSET %s', [2, 1, 0])\n",
      "('SELECT \"t1\".\"id\", \"t1\".\"username\" FROM \"user\" AS \"t1\" WHERE (\"t1\".\"id\" = %s) LIMIT %s OFFSET %s', [2, 1, 0])\n"
     ]
    },
    {
     "name": "stdout",
     "output_type": "stream",
     "text": [
      "huey meow\n",
      "huey hiss\n",
      "huey purr\n",
      "mickey woof\n",
      "mickey whine\n"
     ]
    }
   ],
   "source": [
    "query = Tweet.select().join(User)\n",
    "for tweet in query:\n",
    "    print(tweet.user.username, tweet.content)\n"
   ],
   "metadata": {
    "collapsed": false,
    "ExecuteTime": {
     "end_time": "2023-07-26T21:50:17.610748500Z",
     "start_time": "2023-07-26T21:50:17.559562600Z"
    }
   }
  },
  {
   "cell_type": "code",
   "execution_count": 18,
   "outputs": [
    {
     "name": "stderr",
     "output_type": "stream",
     "text": [
      "('SELECT \"t1\".\"id\", \"t1\".\"content\", \"t1\".\"timestamp\", \"t1\".\"user_id\" FROM \"tweet\" AS \"t1\" INNER JOIN \"user\" AS \"t2\" ON (\"t1\".\"user_id\" = \"t2\".\"id\") WHERE (\"t2\".\"username\" = %s)', ['huey'])\n",
      "('SELECT \"t1\".\"id\", \"t1\".\"content\", \"t1\".\"timestamp\", \"t1\".\"user_id\" FROM \"tweet\" AS \"t1\" INNER JOIN \"user\" AS \"t2\" ON (\"t1\".\"user_id\" = \"t2\".\"id\") WHERE (\"t2\".\"username\" = %s)', ['huey'])\n",
      "('SELECT \"t1\".\"id\", \"t1\".\"content\", \"t1\".\"timestamp\", \"t1\".\"user_id\" FROM \"tweet\" AS \"t1\" INNER JOIN \"user\" AS \"t2\" ON (\"t1\".\"user_id\" = \"t2\".\"id\") WHERE (\"t2\".\"username\" = %s)', ['huey'])\n",
      "('SELECT \"t1\".\"id\", \"t1\".\"username\" FROM \"user\" AS \"t1\" WHERE (\"t1\".\"id\" = %s) LIMIT %s OFFSET %s', [1, 1, 0])\n",
      "('SELECT \"t1\".\"id\", \"t1\".\"username\" FROM \"user\" AS \"t1\" WHERE (\"t1\".\"id\" = %s) LIMIT %s OFFSET %s', [1, 1, 0])\n",
      "('SELECT \"t1\".\"id\", \"t1\".\"username\" FROM \"user\" AS \"t1\" WHERE (\"t1\".\"id\" = %s) LIMIT %s OFFSET %s', [1, 1, 0])\n",
      "('SELECT \"t1\".\"id\", \"t1\".\"username\" FROM \"user\" AS \"t1\" WHERE (\"t1\".\"id\" = %s) LIMIT %s OFFSET %s', [1, 1, 0])\n",
      "('SELECT \"t1\".\"id\", \"t1\".\"username\" FROM \"user\" AS \"t1\" WHERE (\"t1\".\"id\" = %s) LIMIT %s OFFSET %s', [1, 1, 0])\n",
      "('SELECT \"t1\".\"id\", \"t1\".\"username\" FROM \"user\" AS \"t1\" WHERE (\"t1\".\"id\" = %s) LIMIT %s OFFSET %s', [1, 1, 0])\n",
      "('SELECT \"t1\".\"id\", \"t1\".\"username\" FROM \"user\" AS \"t1\" WHERE (\"t1\".\"id\" = %s) LIMIT %s OFFSET %s', [1, 1, 0])\n",
      "('SELECT \"t1\".\"id\", \"t1\".\"username\" FROM \"user\" AS \"t1\" WHERE (\"t1\".\"id\" = %s) LIMIT %s OFFSET %s', [1, 1, 0])\n",
      "('SELECT \"t1\".\"id\", \"t1\".\"username\" FROM \"user\" AS \"t1\" WHERE (\"t1\".\"id\" = %s) LIMIT %s OFFSET %s', [1, 1, 0])\n"
     ]
    },
    {
     "name": "stdout",
     "output_type": "stream",
     "text": [
      "huey meow\n",
      "huey hiss\n",
      "huey purr\n"
     ]
    }
   ],
   "source": [
    "query = Tweet.select().join(User).where(User.username == 'huey')\n",
    "for tweet in query:\n",
    "    print(tweet.user.username, tweet.content)"
   ],
   "metadata": {
    "collapsed": false,
    "ExecuteTime": {
     "end_time": "2023-07-26T21:49:40.427732700Z",
     "start_time": "2023-07-26T21:49:40.397397500Z"
    }
   }
  },
  {
   "cell_type": "code",
   "execution_count": 8,
   "outputs": [
    {
     "name": "stderr",
     "output_type": "stream",
     "text": [
      "('SELECT \"t1\".\"id\", \"t1\".\"content\", \"t1\".\"timestamp\", \"t1\".\"user_id\" FROM \"tweet\" AS \"t1\" INNER JOIN \"user\" AS \"t2\" ON (\"t1\".\"user_id\" = \"t2\".\"id\") WHERE (\"t2\".\"username\" = %s)', ['huey'])\n"
     ]
    },
    {
     "name": "stdout",
     "output_type": "stream",
     "text": [
      "meow\n",
      "hiss\n",
      "purr\n"
     ]
    }
   ],
   "source": [
    "query = (Tweet\n",
    "         .select()\n",
    "         .join(User, on=(Tweet.user == User.id))\n",
    "         .where(User.username == 'huey'))\n",
    "for tweet in query:\n",
    "    print(tweet.content)"
   ],
   "metadata": {
    "collapsed": false,
    "ExecuteTime": {
     "end_time": "2023-07-24T21:43:41.820351100Z",
     "start_time": "2023-07-24T21:43:41.811205100Z"
    }
   }
  },
  {
   "cell_type": "code",
   "execution_count": 9,
   "outputs": [
    {
     "name": "stderr",
     "output_type": "stream",
     "text": [
      "('SELECT \"t1\".\"id\", \"t1\".\"username\" FROM \"user\" AS \"t1\" WHERE (\"t1\".\"username\" = %s) LIMIT %s OFFSET %s', ['huey', 1, 0])\n",
      "('SELECT \"t1\".\"id\", \"t1\".\"content\", \"t1\".\"timestamp\", \"t1\".\"user_id\" FROM \"tweet\" AS \"t1\" WHERE (\"t1\".\"user_id\" = %s)', [1])\n"
     ]
    },
    {
     "name": "stdout",
     "output_type": "stream",
     "text": [
      "meow\n",
      "hiss\n",
      "purr\n"
     ]
    }
   ],
   "source": [
    "huey = User.get(User.username == 'huey')\n",
    "for tweet in huey.tweets:\n",
    "    print(tweet.content)\n",
    "\n"
   ],
   "metadata": {
    "collapsed": false,
    "ExecuteTime": {
     "end_time": "2023-07-24T21:44:43.072318200Z",
     "start_time": "2023-07-24T21:44:43.051678700Z"
    }
   }
  },
  {
   "cell_type": "code",
   "execution_count": 10,
   "outputs": [
    {
     "data": {
      "text/plain": "('SELECT \"t1\".\"id\", \"t1\".\"content\", \"t1\".\"timestamp\", \"t1\".\"user_id\" FROM \"tweet\" AS \"t1\" WHERE (\"t1\".\"user_id\" = %s)',\n [1])"
     },
     "execution_count": 10,
     "metadata": {},
     "output_type": "execute_result"
    }
   ],
   "source": [
    "huey.tweets.sql()"
   ],
   "metadata": {
    "collapsed": false,
    "ExecuteTime": {
     "end_time": "2023-07-24T21:44:55.327557Z",
     "start_time": "2023-07-24T21:44:55.320330900Z"
    }
   }
  },
  {
   "cell_type": "code",
   "execution_count": null,
   "outputs": [],
   "source": [],
   "metadata": {
    "collapsed": false
   }
  }
 ],
 "metadata": {
  "kernelspec": {
   "display_name": "Python 3",
   "language": "python",
   "name": "python3"
  },
  "language_info": {
   "codemirror_mode": {
    "name": "ipython",
    "version": 2
   },
   "file_extension": ".py",
   "mimetype": "text/x-python",
   "name": "python",
   "nbconvert_exporter": "python",
   "pygments_lexer": "ipython2",
   "version": "2.7.6"
  }
 },
 "nbformat": 4,
 "nbformat_minor": 0
}

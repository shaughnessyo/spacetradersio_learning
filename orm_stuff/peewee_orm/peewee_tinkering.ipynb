{
 "cells": [
  {
   "cell_type": "code",
   "execution_count": null,
   "outputs": [],
   "source": [],
   "metadata": {
    "collapsed": false
   }
  },
  {
   "cell_type": "code",
   "execution_count": null,
   "outputs": [],
   "source": [
    "import peewee\n",
    "# import peewee\n",
    "from SECRETS import sql_account, sql_pw\n",
    "\n",
    "\n",
    "# pg_db = peewee.PostgresqlDatabase('my_app', user=sql_account, password=sql_pw,\n",
    "#                                   host='localhost', port=5432)\n",
    "\n",
    "\n",
    "\n",
    "from peewee import *\n",
    "\n",
    "# db = SqliteDatabase('people.db')\n",
    "pg_db = peewee.PostgresqlDatabase('spacetraders',\n",
    "                                  user=sql_account,\n",
    "                                  password=sql_pw,\n",
    "                                  host='localhost',\n",
    "                                  port=5432)\n"
   ],
   "metadata": {
    "collapsed": false
   }
  },
  {
   "cell_type": "code",
   "execution_count": 1,
   "metadata": {
    "collapsed": true,
    "ExecuteTime": {
     "end_time": "2023-07-24T19:48:30.112159700Z",
     "start_time": "2023-07-24T19:48:30.085620700Z"
    }
   },
   "outputs": [],
   "source": [
    "import peewee\n",
    "# import peewee\n",
    "from SECRETS import sql_account, sql_pw\n",
    "\n",
    "\n",
    "# pg_db = peewee.PostgresqlDatabase('my_app', user=sql_account, password=sql_pw,\n",
    "#                                   host='localhost', port=5432)\n",
    "\n",
    "\n",
    "\n",
    "from peewee import *\n",
    "\n",
    "# db = SqliteDatabase('people.db')\n",
    "pg_db = peewee.PostgresqlDatabase('spacetraders',\n",
    "                                  user=sql_account,\n",
    "                                  password=sql_pw,\n",
    "                                  host='localhost',\n",
    "                                  port=5432)\n",
    "\n",
    "class Person(Model):\n",
    "    name = CharField()\n",
    "    birthday = DateField()\n",
    "\n",
    "    class Meta:\n",
    "        database = pg_db # This model uses the \"people.db\" database.\n",
    "\n"
   ]
  },
  {
   "cell_type": "code",
   "execution_count": 20,
   "outputs": [],
   "source": [
    "pg_db = peewee.PostgresqlDatabase('spacetraders',\n",
    "                                  user=sql_account,\n",
    "                                  password=sql_pw,\n",
    "                                  host='localhost',\n",
    "                                  port=5432)\n",
    "\n",
    "\n",
    "class Pet(Model):\n",
    "    owner = ForeignKeyField(Person, backref='pets')\n",
    "    name = CharField()\n",
    "    animal_type = CharField()\n",
    "\n",
    "    class Meta:\n",
    "        database = pg_db # this model uses the \"people.db\" database"
   ],
   "metadata": {
    "collapsed": false,
    "ExecuteTime": {
     "end_time": "2023-07-25T05:36:52.932345300Z",
     "start_time": "2023-07-25T05:36:52.918838300Z"
    }
   }
  },
  {
   "cell_type": "code",
   "execution_count": 13,
   "outputs": [
    {
     "data": {
      "text/plain": "True"
     },
     "execution_count": 13,
     "metadata": {},
     "output_type": "execute_result"
    }
   ],
   "source": [
    "pg_db.close()"
   ],
   "metadata": {
    "collapsed": false,
    "ExecuteTime": {
     "end_time": "2023-07-24T19:47:06.100525600Z",
     "start_time": "2023-07-24T19:47:06.080112600Z"
    }
   }
  },
  {
   "cell_type": "code",
   "execution_count": 21,
   "outputs": [
    {
     "data": {
      "text/plain": "True"
     },
     "execution_count": 21,
     "metadata": {},
     "output_type": "execute_result"
    }
   ],
   "source": [
    "#jupyter probably weirds this a bit, but reuse if open fixes it\n",
    "pg_db.connect(reuse_if_open=True)\n",
    "\n",
    "pg_db.create_tables([Person, Pet])\n",
    "\n",
    "pg_db.close()"
   ],
   "metadata": {
    "collapsed": false,
    "ExecuteTime": {
     "end_time": "2023-07-25T05:36:59.901727700Z",
     "start_time": "2023-07-25T05:36:59.883303600Z"
    }
   }
  },
  {
   "cell_type": "code",
   "execution_count": 6,
   "outputs": [],
   "source": [
    "from datetime import date\n",
    "uncle_bob = Person(name='Bob', birthday=date(1960, 1, 15))\n",
    "uncle_bob.save() # bob is now stored in the database\n",
    "# Returns: 1\n",
    "\n",
    "\n",
    "grandma = Person.create(name='Grandma', birthday=date(1935, 3, 1))\n",
    "herb = Person.create(name='Herb', birthday=date(1950, 5, 5))"
   ],
   "metadata": {
    "collapsed": false,
    "ExecuteTime": {
     "end_time": "2023-07-24T19:49:58.437015Z",
     "start_time": "2023-07-24T19:49:58.428720600Z"
    }
   }
  },
  {
   "cell_type": "code",
   "execution_count": 7,
   "outputs": [
    {
     "data": {
      "text/plain": "1"
     },
     "execution_count": 7,
     "metadata": {},
     "output_type": "execute_result"
    }
   ],
   "source": [
    "grandma.name = 'Grandma L.'\n",
    "grandma.save()  # Update grandma's name in the database.\n",
    "# Returns: 1"
   ],
   "metadata": {
    "collapsed": false,
    "ExecuteTime": {
     "end_time": "2023-07-24T19:51:05.251902200Z",
     "start_time": "2023-07-24T19:51:05.241359600Z"
    }
   }
  },
  {
   "cell_type": "code",
   "execution_count": 8,
   "outputs": [],
   "source": [
    "bob_kitty = Pet.create(owner=uncle_bob, name='Kitty', animal_type='cat')\n",
    "herb_fido = Pet.create(owner=herb, name='Fido', animal_type='dog')\n",
    "herb_mittens = Pet.create(owner=herb, name='Mittens', animal_type='cat')\n",
    "herb_mittens_jr = Pet.create(owner=herb, name='Mittens Jr', animal_type='cat')"
   ],
   "metadata": {
    "collapsed": false,
    "ExecuteTime": {
     "end_time": "2023-07-24T19:51:20.782600200Z",
     "start_time": "2023-07-24T19:51:20.763501Z"
    }
   }
  },
  {
   "cell_type": "code",
   "execution_count": 9,
   "outputs": [
    {
     "data": {
      "text/plain": "1"
     },
     "execution_count": 9,
     "metadata": {},
     "output_type": "execute_result"
    }
   ],
   "source": [
    "herb_mittens.delete_instance() # he had a great life\n",
    "# Returns: 1"
   ],
   "metadata": {
    "collapsed": false,
    "ExecuteTime": {
     "end_time": "2023-07-24T19:51:34.132082800Z",
     "start_time": "2023-07-24T19:51:34.125100300Z"
    }
   }
  },
  {
   "cell_type": "code",
   "execution_count": 11,
   "outputs": [
    {
     "name": "stdout",
     "output_type": "stream",
     "text": [
      "2\n"
     ]
    }
   ],
   "source": [
    "grandma = Person.select().where(Person.name == 'Grandma L.').get()\n",
    "print(grandma)"
   ],
   "metadata": {
    "collapsed": false,
    "ExecuteTime": {
     "end_time": "2023-07-24T19:51:50.985187300Z",
     "start_time": "2023-07-24T19:51:50.972719600Z"
    }
   }
  },
  {
   "cell_type": "code",
   "execution_count": 13,
   "outputs": [
    {
     "name": "stdout",
     "output_type": "stream",
     "text": [
      "2\n",
      "Grandma L.\n"
     ]
    }
   ],
   "source": [
    "grandma = Person.get(Person.name == 'Grandma L.')\n",
    "print(grandma)\n",
    "#this is only returning the id?\n",
    "\n",
    "#ah okay, it's like attributes\n",
    "print(grandma.name)\n"
   ],
   "metadata": {
    "collapsed": false,
    "ExecuteTime": {
     "end_time": "2023-07-24T19:52:51.631193Z",
     "start_time": "2023-07-24T19:52:51.622331400Z"
    }
   }
  },
  {
   "cell_type": "code",
   "execution_count": 14,
   "outputs": [
    {
     "name": "stdout",
     "output_type": "stream",
     "text": [
      "Bob\n",
      "Herb\n",
      "Grandma L.\n"
     ]
    }
   ],
   "source": [
    "\n",
    "for person in Person.select():\n",
    "    print(person.name)\n"
   ],
   "metadata": {
    "collapsed": false,
    "ExecuteTime": {
     "end_time": "2023-07-24T19:53:16.728582300Z",
     "start_time": "2023-07-24T19:53:16.721494Z"
    }
   }
  },
  {
   "cell_type": "code",
   "execution_count": 15,
   "outputs": [
    {
     "name": "stdout",
     "output_type": "stream",
     "text": [
      "Kitty Bob\n",
      "Mittens Jr Herb\n"
     ]
    }
   ],
   "source": [
    "query = Pet.select().where(Pet.animal_type == 'cat')\n",
    "for pet in query:\n",
    "    print(pet.name, pet.owner.name)\n",
    "\n",
    "# There is a big problem with the previous query: because we are accessing pet.owner.name and we did not select this relation in our original query, peewee will have to perform an additional query to retrieve the pet’s owner. This behavior is referred to as N+1 and it should generally be avoided.\n",
    "#\n",
    "# For an in-depth guide to working with relationships and joins, refer to the Relationships and Joins documentation.\n"
   ],
   "metadata": {
    "collapsed": false,
    "ExecuteTime": {
     "end_time": "2023-07-24T19:53:40.225083100Z",
     "start_time": "2023-07-24T19:53:40.220078Z"
    }
   }
  },
  {
   "cell_type": "code",
   "execution_count": 18,
   "outputs": [
    {
     "name": "stdout",
     "output_type": "stream",
     "text": [
      "Bob 1960-01-15\n",
      "<class 'str'> <class 'datetime.date'>\n",
      "Herb 1950-05-05\n",
      "<class 'str'> <class 'datetime.date'>\n",
      "Grandma L. 1935-03-01\n",
      "<class 'str'> <class 'datetime.date'>\n"
     ]
    }
   ],
   "source": [
    "for person in Person.select().order_by(Person.birthday.desc()):\n",
    "    print(person.name, person.birthday)\n",
    "    print(type(person.name), type(person.birthday))"
   ],
   "metadata": {
    "collapsed": false,
    "ExecuteTime": {
     "end_time": "2023-07-24T21:27:36.392495200Z",
     "start_time": "2023-07-24T21:27:36.381408300Z"
    }
   }
  },
  {
   "cell_type": "code",
   "execution_count": 19,
   "outputs": [
    {
     "name": "stdout",
     "output_type": "stream",
     "text": [
      "Bob 1 pets\n",
      "Herb 2 pets\n",
      "Grandma L. 0 pets\n"
     ]
    }
   ],
   "source": [
    "for person in Person.select():\n",
    "    print(person.name, person.pets.count(), 'pets')"
   ],
   "metadata": {
    "collapsed": false,
    "ExecuteTime": {
     "end_time": "2023-07-24T21:28:15.628645200Z",
     "start_time": "2023-07-24T21:28:15.621650100Z"
    }
   }
  },
  {
   "cell_type": "code",
   "execution_count": null,
   "outputs": [],
   "source": [],
   "metadata": {
    "collapsed": false
   }
  }
 ],
 "metadata": {
  "kernelspec": {
   "display_name": "Python 3",
   "language": "python",
   "name": "python3"
  },
  "language_info": {
   "codemirror_mode": {
    "name": "ipython",
    "version": 2
   },
   "file_extension": ".py",
   "mimetype": "text/x-python",
   "name": "python",
   "nbconvert_exporter": "python",
   "pygments_lexer": "ipython2",
   "version": "2.7.6"
  }
 },
 "nbformat": 4,
 "nbformat_minor": 0
}
